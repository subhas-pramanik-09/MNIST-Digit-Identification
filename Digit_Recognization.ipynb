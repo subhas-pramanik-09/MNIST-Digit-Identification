{
  "nbformat": 4,
  "nbformat_minor": 0,
  "metadata": {
    "colab": {
      "provenance": []
    },
    "kernelspec": {
      "name": "python3",
      "display_name": "Python 3"
    },
    "language_info": {
      "name": "python"
    }
  },
  "cells": [
    {
      "cell_type": "markdown",
      "source": [
        "**MNIST Handwritten Digit Clasification using Deep Learning (Neural Network)**"
      ],
      "metadata": {
        "id": "mNuxgaHHBdpu"
      }
    },
    {
      "cell_type": "markdown",
      "source": [
        "Importing the dependencies"
      ],
      "metadata": {
        "id": "zLQzTtquBgpr"
      }
    },
    {
      "cell_type": "code",
      "execution_count": 1,
      "metadata": {
        "id": "2yn6rHL0AzMQ"
      },
      "outputs": [],
      "source": [
        "import numpy as np\n",
        "import matplotlib.pyplot as plt\n",
        "import seaborn as sns\n",
        "import cv2\n",
        "from google.colab.patches import cv2_imshow\n",
        "from PIL import Image\n",
        "import tensorflow as tf\n",
        "tf.random.set_seed(3)\n",
        "from tensorflow import keras\n",
        "from keras.datasets import mnist\n",
        "from tensorflow.math import confusion_matrix"
      ]
    },
    {
      "cell_type": "markdown",
      "source": [
        "Loading the MNIST data from keras.datasets"
      ],
      "metadata": {
        "id": "IAcmzOIqCXGw"
      }
    },
    {
      "cell_type": "code",
      "source": [
        "(X_train, Y_train), (X_test, Y_test) =  mnist.load_data()"
      ],
      "metadata": {
        "colab": {
          "base_uri": "https://localhost:8080/"
        },
        "id": "AKkyNjj9CSHr",
        "outputId": "3dde75de-6c43-4f20-cd3b-0824188fd020"
      },
      "execution_count": 2,
      "outputs": [
        {
          "output_type": "stream",
          "name": "stdout",
          "text": [
            "Downloading data from https://storage.googleapis.com/tensorflow/tf-keras-datasets/mnist.npz\n",
            "\u001b[1m11490434/11490434\u001b[0m \u001b[32m━━━━━━━━━━━━━━━━━━━━\u001b[0m\u001b[37m\u001b[0m \u001b[1m0s\u001b[0m 0us/step\n"
          ]
        }
      ]
    },
    {
      "cell_type": "code",
      "source": [
        "type(X_train)"
      ],
      "metadata": {
        "colab": {
          "base_uri": "https://localhost:8080/"
        },
        "id": "JvrME4U9C1L0",
        "outputId": "ec0dd8bc-ffba-433c-e42b-5aa308a5c01f"
      },
      "execution_count": 3,
      "outputs": [
        {
          "output_type": "execute_result",
          "data": {
            "text/plain": [
              "numpy.ndarray"
            ]
          },
          "metadata": {},
          "execution_count": 3
        }
      ]
    },
    {
      "cell_type": "code",
      "source": [
        "# shape of the numpy arrays\n",
        "print(X_train.shape, Y_train.shape, X_test.shape, Y_test.shape)"
      ],
      "metadata": {
        "colab": {
          "base_uri": "https://localhost:8080/"
        },
        "id": "88IyTOLuC7Ha",
        "outputId": "5008631c-e993-41dd-a7b7-954b25301b1a"
      },
      "execution_count": 4,
      "outputs": [
        {
          "output_type": "stream",
          "name": "stdout",
          "text": [
            "(60000, 28, 28) (60000,) (10000, 28, 28) (10000,)\n"
          ]
        }
      ]
    },
    {
      "cell_type": "markdown",
      "source": [
        "Training data = 60,000 Images\n",
        "\n",
        "Test data = 10,000 Images\n",
        "\n",
        "Image dimension --> 28 x 28\n",
        "\n",
        "Grayscale Image --> 1 channel"
      ],
      "metadata": {
        "id": "C64hW_QXDGw6"
      }
    },
    {
      "cell_type": "code",
      "source": [
        "# printing the 10th image\n",
        "\n",
        "print(X_train[10])"
      ],
      "metadata": {
        "colab": {
          "base_uri": "https://localhost:8080/"
        },
        "id": "4QnZasU-DCsk",
        "outputId": "6ae70f03-001a-4645-de50-06f9eb28e041"
      },
      "execution_count": 5,
      "outputs": [
        {
          "output_type": "stream",
          "name": "stdout",
          "text": [
            "[[  0   0   0   0   0   0   0   0   0   0   0   0   0   0   0   0   0   0\n",
            "    0   0   0   0   0   0   0   0   0   0]\n",
            " [  0   0   0   0   0   0   0   0   0   0   0   0   0   0   0   0   0   0\n",
            "    0   0   0   0   0   0   0   0   0   0]\n",
            " [  0   0   0   0   0   0   0   0   0   0   0   0   0   0   0   0   0   0\n",
            "    0   0   0   0   0   0   0   0   0   0]\n",
            " [  0   0   0   0   0   0   0   0   0   0   0   0   0   0   0   0   0   0\n",
            "    0   0   0   0   0   0   0   0   0   0]\n",
            " [  0   0   0   0   0   0   0   0   0   0   0  42 118 219 166 118 118   6\n",
            "    0   0   0   0   0   0   0   0   0   0]\n",
            " [  0   0   0   0   0   0   0   0   0   0 103 242 254 254 254 254 254  66\n",
            "    0   0   0   0   0   0   0   0   0   0]\n",
            " [  0   0   0   0   0   0   0   0   0   0  18 232 254 254 254 254 254 238\n",
            "   70   0   0   0   0   0   0   0   0   0]\n",
            " [  0   0   0   0   0   0   0   0   0   0   0 104 244 254 224 254 254 254\n",
            "  141   0   0   0   0   0   0   0   0   0]\n",
            " [  0   0   0   0   0   0   0   0   0   0   0   0 207 254 210 254 254 254\n",
            "   34   0   0   0   0   0   0   0   0   0]\n",
            " [  0   0   0   0   0   0   0   0   0   0   0   0  84 206 254 254 254 254\n",
            "   41   0   0   0   0   0   0   0   0   0]\n",
            " [  0   0   0   0   0   0   0   0   0   0   0   0   0  24 209 254 254 254\n",
            "  171   0   0   0   0   0   0   0   0   0]\n",
            " [  0   0   0   0   0   0   0   0   0   0   0   0  91 137 253 254 254 254\n",
            "  112   0   0   0   0   0   0   0   0   0]\n",
            " [  0   0   0   0   0   0   0   0   0   0  40 214 250 254 254 254 254 254\n",
            "   34   0   0   0   0   0   0   0   0   0]\n",
            " [  0   0   0   0   0   0   0   0   0   0  81 247 254 254 254 254 254 254\n",
            "  146   0   0   0   0   0   0   0   0   0]\n",
            " [  0   0   0   0   0   0   0   0   0   0   0 110 246 254 254 254 254 254\n",
            "  171   0   0   0   0   0   0   0   0   0]\n",
            " [  0   0   0   0   0   0   0   0   0   0   0   0  73  89  89  93 240 254\n",
            "  171   0   0   0   0   0   0   0   0   0]\n",
            " [  0   0   0   0   0   0   0   0   0   0   0   0   0   0   0   1 128 254\n",
            "  219  31   0   0   0   0   0   0   0   0]\n",
            " [  0   0   0   0   0   0   0   0   0   0   0   0   0   0   0   7 254 254\n",
            "  214  28   0   0   0   0   0   0   0   0]\n",
            " [  0   0   0   0   0   0   0   0   0   0   0   0   0   0   0 138 254 254\n",
            "  116   0   0   0   0   0   0   0   0   0]\n",
            " [  0   0   0   0   0   0  19 177  90   0   0   0   0   0  25 240 254 254\n",
            "   34   0   0   0   0   0   0   0   0   0]\n",
            " [  0   0   0   0   0   0 164 254 215  63  36   0  51  89 206 254 254 139\n",
            "    8   0   0   0   0   0   0   0   0   0]\n",
            " [  0   0   0   0   0   0  57 197 254 254 222 180 241 254 254 253 213  11\n",
            "    0   0   0   0   0   0   0   0   0   0]\n",
            " [  0   0   0   0   0   0   0 140 105 254 254 254 254 254 254 236   0   0\n",
            "    0   0   0   0   0   0   0   0   0   0]\n",
            " [  0   0   0   0   0   0   0   0   7 117 117 165 254 254 239  50   0   0\n",
            "    0   0   0   0   0   0   0   0   0   0]\n",
            " [  0   0   0   0   0   0   0   0   0   0   0   0   0   0   0   0   0   0\n",
            "    0   0   0   0   0   0   0   0   0   0]\n",
            " [  0   0   0   0   0   0   0   0   0   0   0   0   0   0   0   0   0   0\n",
            "    0   0   0   0   0   0   0   0   0   0]\n",
            " [  0   0   0   0   0   0   0   0   0   0   0   0   0   0   0   0   0   0\n",
            "    0   0   0   0   0   0   0   0   0   0]\n",
            " [  0   0   0   0   0   0   0   0   0   0   0   0   0   0   0   0   0   0\n",
            "    0   0   0   0   0   0   0   0   0   0]]\n"
          ]
        }
      ]
    },
    {
      "cell_type": "code",
      "source": [
        "print(X_train[10].shape)"
      ],
      "metadata": {
        "colab": {
          "base_uri": "https://localhost:8080/"
        },
        "id": "CB2-vRRKDlZL",
        "outputId": "9a079c23-83cb-4e02-aa4c-17adc2274f1c"
      },
      "execution_count": 6,
      "outputs": [
        {
          "output_type": "stream",
          "name": "stdout",
          "text": [
            "(28, 28)\n"
          ]
        }
      ]
    },
    {
      "cell_type": "code",
      "source": [
        "# displaying the image\n",
        "\n",
        "plt.imshow(X_train[25])\n",
        "plt.show()\n",
        "\n",
        "# print the corresponding label\n",
        "print(Y_train[25])"
      ],
      "metadata": {
        "colab": {
          "base_uri": "https://localhost:8080/",
          "height": 447
        },
        "id": "zVUfOfhqDqqh",
        "outputId": "ec3a5a19-d062-440f-9d31-13123e2ceaf0"
      },
      "execution_count": 7,
      "outputs": [
        {
          "output_type": "display_data",
          "data": {
            "text/plain": [
              "<Figure size 640x480 with 1 Axes>"
            ],
            "image/png": "[encoded data removed]"
          },
          "metadata": {}
        },
        {
          "output_type": "stream",
          "name": "stdout",
          "text": [
            "2\n"
          ]
        }
      ]
    },
    {
      "cell_type": "markdown",
      "source": [
        "Image Labels"
      ],
      "metadata": {
        "id": "DY2oVCs0D-oN"
      }
    },
    {
      "cell_type": "code",
      "source": [
        "print(Y_train.shape, Y_test.shape)"
      ],
      "metadata": {
        "colab": {
          "base_uri": "https://localhost:8080/"
        },
        "id": "2ky45cF0DvLR",
        "outputId": "428a2190-b17c-461c-a298-d8eb1e82687a"
      },
      "execution_count": 8,
      "outputs": [
        {
          "output_type": "stream",
          "name": "stdout",
          "text": [
            "(60000,) (10000,)\n"
          ]
        }
      ]
    },
    {
      "cell_type": "code",
      "source": [
        "# unique values in Y_train\n",
        "print(np.unique(Y_train))\n",
        "\n",
        "# unique values in Y_test\n",
        "print(np.unique(Y_test))"
      ],
      "metadata": {
        "colab": {
          "base_uri": "https://localhost:8080/"
        },
        "id": "sRyCNIwiEEwD",
        "outputId": "88dd53f3-2b8e-4df6-9096-7fc197c975ec"
      },
      "execution_count": 9,
      "outputs": [
        {
          "output_type": "stream",
          "name": "stdout",
          "text": [
            "[0 1 2 3 4 5 6 7 8 9]\n",
            "[0 1 2 3 4 5 6 7 8 9]\n"
          ]
        }
      ]
    },
    {
      "cell_type": "markdown",
      "source": [
        "We can use these labels as such or we can also apply One Hot Encoding\n",
        "\n",
        "All the images have the same dimensions in this dataset, If not, we have to resize all the images to a common dimension"
      ],
      "metadata": {
        "id": "BA3Ff--GELO8"
      }
    },
    {
      "cell_type": "code",
      "source": [
        "# scaling the values\n",
        "\n",
        "X_train = X_train/255\n",
        "X_test = X_test/255"
      ],
      "metadata": {
        "id": "Bvbxo3ZWELv0"
      },
      "execution_count": 10,
      "outputs": []
    },
    {
      "cell_type": "code",
      "source": [
        "# printing the 10th image\n",
        "\n",
        "print(X_train[10])"
      ],
      "metadata": {
        "colab": {
          "base_uri": "https://localhost:8080/"
        },
        "id": "zeEQgJr2EjxL",
        "outputId": "57297b19-f742-440f-d684-57a5d13bbf4b"
      },
      "execution_count": 11,
      "outputs": [
        {
          "output_type": "stream",
          "name": "stdout",
          "text": [
            "[[0.         0.         0.         0.         0.         0.\n",
            "  0.         0.         0.         0.         0.         0.\n",
            "  0.         0.         0.         0.         0.         0.\n",
            "  0.         0.         0.         0.         0.         0.\n",
            "  0.         0.         0.         0.        ]\n",
            " [0.         0.         0.         0.         0.         0.\n",
            "  0.         0.         0.         0.         0.         0.\n",
            "  0.         0.         0.         0.         0.         0.\n",
            "  0.         0.         0.         0.         0.         0.\n",
            "  0.         0.         0.         0.        ]\n",
            " [0.         0.         0.         0.         0.         0.\n",
            "  0.         0.         0.         0.         0.         0.\n",
            "  0.         0.         0.         0.         0.         0.\n",
            "  0.         0.         0.         0.         0.         0.\n",
            "  0.         0.         0.         0.        ]\n",
            " [0.         0.         0.         0.         0.         0.\n",
            "  0.         0.         0.         0.         0.         0.\n",
            "  0.         0.         0.         0.         0.         0.\n",
            "  0.         0.         0.         0.         0.         0.\n",
            "  0.         0.         0.         0.        ]\n",
            " [0.         0.         0.         0.         0.         0.\n",
            "  0.         0.         0.         0.         0.         0.16470588\n",
            "  0.4627451  0.85882353 0.65098039 0.4627451  0.4627451  0.02352941\n",
            "  0.         0.         0.         0.         0.         0.\n",
            "  0.         0.         0.         0.        ]\n",
            " [0.         0.         0.         0.         0.         0.\n",
            "  0.         0.         0.         0.         0.40392157 0.94901961\n",
            "  0.99607843 0.99607843 0.99607843 0.99607843 0.99607843 0.25882353\n",
            "  0.         0.         0.         0.         0.         0.\n",
            "  0.         0.         0.         0.        ]\n",
            " [0.         0.         0.         0.         0.         0.\n",
            "  0.         0.         0.         0.         0.07058824 0.90980392\n",
            "  0.99607843 0.99607843 0.99607843 0.99607843 0.99607843 0.93333333\n",
            "  0.2745098  0.         0.         0.         0.         0.\n",
            "  0.         0.         0.         0.        ]\n",
            " [0.         0.         0.         0.         0.         0.\n",
            "  0.         0.         0.         0.         0.         0.40784314\n",
            "  0.95686275 0.99607843 0.87843137 0.99607843 0.99607843 0.99607843\n",
            "  0.55294118 0.         0.         0.         0.         0.\n",
            "  0.         0.         0.         0.        ]\n",
            " [0.         0.         0.         0.         0.         0.\n",
            "  0.         0.         0.         0.         0.         0.\n",
            "  0.81176471 0.99607843 0.82352941 0.99607843 0.99607843 0.99607843\n",
            "  0.13333333 0.         0.         0.         0.         0.\n",
            "  0.         0.         0.         0.        ]\n",
            " [0.         0.         0.         0.         0.         0.\n",
            "  0.         0.         0.         0.         0.         0.\n",
            "  0.32941176 0.80784314 0.99607843 0.99607843 0.99607843 0.99607843\n",
            "  0.16078431 0.         0.         0.         0.         0.\n",
            "  0.         0.         0.         0.        ]\n",
            " [0.         0.         0.         0.         0.         0.\n",
            "  0.         0.         0.         0.         0.         0.\n",
            "  0.         0.09411765 0.81960784 0.99607843 0.99607843 0.99607843\n",
            "  0.67058824 0.         0.         0.         0.         0.\n",
            "  0.         0.         0.         0.        ]\n",
            " [0.         0.         0.         0.         0.         0.\n",
            "  0.         0.         0.         0.         0.         0.\n",
            "  0.35686275 0.5372549  0.99215686 0.99607843 0.99607843 0.99607843\n",
            "  0.43921569 0.         0.         0.         0.         0.\n",
            "  0.         0.         0.         0.        ]\n",
            " [0.         0.         0.         0.         0.         0.\n",
            "  0.         0.         0.         0.         0.15686275 0.83921569\n",
            "  0.98039216 0.99607843 0.99607843 0.99607843 0.99607843 0.99607843\n",
            "  0.13333333 0.         0.         0.         0.         0.\n",
            "  0.         0.         0.         0.        ]\n",
            " [0.         0.         0.         0.         0.         0.\n",
            "  0.         0.         0.         0.         0.31764706 0.96862745\n",
            "  0.99607843 0.99607843 0.99607843 0.99607843 0.99607843 0.99607843\n",
            "  0.57254902 0.         0.         0.         0.         0.\n",
            "  0.         0.         0.         0.        ]\n",
            " [0.         0.         0.         0.         0.         0.\n",
            "  0.         0.         0.         0.         0.         0.43137255\n",
            "  0.96470588 0.99607843 0.99607843 0.99607843 0.99607843 0.99607843\n",
            "  0.67058824 0.         0.         0.         0.         0.\n",
            "  0.         0.         0.         0.        ]\n",
            " [0.         0.         0.         0.         0.         0.\n",
            "  0.         0.         0.         0.         0.         0.\n",
            "  0.28627451 0.34901961 0.34901961 0.36470588 0.94117647 0.99607843\n",
            "  0.67058824 0.         0.         0.         0.         0.\n",
            "  0.         0.         0.         0.        ]\n",
            " [0.         0.         0.         0.         0.         0.\n",
            "  0.         0.         0.         0.         0.         0.\n",
            "  0.         0.         0.         0.00392157 0.50196078 0.99607843\n",
            "  0.85882353 0.12156863 0.         0.         0.         0.\n",
            "  0.         0.         0.         0.        ]\n",
            " [0.         0.         0.         0.         0.         0.\n",
            "  0.         0.         0.         0.         0.         0.\n",
            "  0.         0.         0.         0.02745098 0.99607843 0.99607843\n",
            "  0.83921569 0.10980392 0.         0.         0.         0.\n",
            "  0.         0.         0.         0.        ]\n",
            " [0.         0.         0.         0.         0.         0.\n",
            "  0.         0.         0.         0.         0.         0.\n",
            "  0.         0.         0.         0.54117647 0.99607843 0.99607843\n",
            "  0.45490196 0.         0.         0.         0.         0.\n",
            "  0.         0.         0.         0.        ]\n",
            " [0.         0.         0.         0.         0.         0.\n",
            "  0.0745098  0.69411765 0.35294118 0.         0.         0.\n",
            "  0.         0.         0.09803922 0.94117647 0.99607843 0.99607843\n",
            "  0.13333333 0.         0.         0.         0.         0.\n",
            "  0.         0.         0.         0.        ]\n",
            " [0.         0.         0.         0.         0.         0.\n",
            "  0.64313725 0.99607843 0.84313725 0.24705882 0.14117647 0.\n",
            "  0.2        0.34901961 0.80784314 0.99607843 0.99607843 0.54509804\n",
            "  0.03137255 0.         0.         0.         0.         0.\n",
            "  0.         0.         0.         0.        ]\n",
            " [0.         0.         0.         0.         0.         0.\n",
            "  0.22352941 0.77254902 0.99607843 0.99607843 0.87058824 0.70588235\n",
            "  0.94509804 0.99607843 0.99607843 0.99215686 0.83529412 0.04313725\n",
            "  0.         0.         0.         0.         0.         0.\n",
            "  0.         0.         0.         0.        ]\n",
            " [0.         0.         0.         0.         0.         0.\n",
            "  0.         0.54901961 0.41176471 0.99607843 0.99607843 0.99607843\n",
            "  0.99607843 0.99607843 0.99607843 0.9254902  0.         0.\n",
            "  0.         0.         0.         0.         0.         0.\n",
            "  0.         0.         0.         0.        ]\n",
            " [0.         0.         0.         0.         0.         0.\n",
            "  0.         0.         0.02745098 0.45882353 0.45882353 0.64705882\n",
            "  0.99607843 0.99607843 0.9372549  0.19607843 0.         0.\n",
            "  0.         0.         0.         0.         0.         0.\n",
            "  0.         0.         0.         0.        ]\n",
            " [0.         0.         0.         0.         0.         0.\n",
            "  0.         0.         0.         0.         0.         0.\n",
            "  0.         0.         0.         0.         0.         0.\n",
            "  0.         0.         0.         0.         0.         0.\n",
            "  0.         0.         0.         0.        ]\n",
            " [0.         0.         0.         0.         0.         0.\n",
            "  0.         0.         0.         0.         0.         0.\n",
            "  0.         0.         0.         0.         0.         0.\n",
            "  0.         0.         0.         0.         0.         0.\n",
            "  0.         0.         0.         0.        ]\n",
            " [0.         0.         0.         0.         0.         0.\n",
            "  0.         0.         0.         0.         0.         0.\n",
            "  0.         0.         0.         0.         0.         0.\n",
            "  0.         0.         0.         0.         0.         0.\n",
            "  0.         0.         0.         0.        ]\n",
            " [0.         0.         0.         0.         0.         0.\n",
            "  0.         0.         0.         0.         0.         0.\n",
            "  0.         0.         0.         0.         0.         0.\n",
            "  0.         0.         0.         0.         0.         0.\n",
            "  0.         0.         0.         0.        ]]\n"
          ]
        }
      ]
    },
    {
      "cell_type": "markdown",
      "source": [
        "Building the Neural Network"
      ],
      "metadata": {
        "id": "a9MATR5DE-bF"
      }
    },
    {
      "cell_type": "code",
      "source": [
        "# setting up the layers of the Neural  Network\n",
        "\n",
        "model = keras.Sequential([\n",
        "                          keras.layers.Flatten(input_shape=(28,28)),\n",
        "                          keras.layers.Dense(50, activation='relu'),\n",
        "                          keras.layers.Dense(50, activation='relu'),\n",
        "                          keras.layers.Dense(10, activation='sigmoid')\n",
        "])"
      ],
      "metadata": {
        "colab": {
          "base_uri": "https://localhost:8080/"
        },
        "id": "LRIWNmJ4E7V4",
        "outputId": "cfdb8cdf-e50d-44b5-d26b-42f76d8079ef"
      },
      "execution_count": 12,
      "outputs": [
        {
          "output_type": "stream",
          "name": "stderr",
          "text": [
            "/usr/local/lib/python3.11/dist-packages/keras/src/layers/reshaping/flatten.py:37: UserWarning: Do not pass an `input_shape`/`input_dim` argument to a layer. When using Sequential models, prefer using an `Input(shape)` object as the first layer in the model instead.\n",
            "  super().__init__(**kwargs)\n"
          ]
        }
      ]
    },
    {
      "cell_type": "code",
      "source": [
        "# compiling the Neural Network\n",
        "\n",
        "model.compile(optimizer='adam',\n",
        "              loss = 'sparse_categorical_crossentropy',\n",
        "              metrics=['accuracy'])"
      ],
      "metadata": {
        "id": "F2qPtXuRFFsv"
      },
      "execution_count": 13,
      "outputs": []
    },
    {
      "cell_type": "code",
      "source": [
        "# training the Neural Network\n",
        "\n",
        "model.fit(X_train, Y_train, epochs=10)"
      ],
      "metadata": {
        "colab": {
          "base_uri": "https://localhost:8080/"
        },
        "id": "8FLsskQjFG5M",
        "outputId": "e0748cb1-ff5d-4e52-c828-36e165f15252"
      },
      "execution_count": 14,
      "outputs": [
        {
          "output_type": "stream",
          "name": "stdout",
          "text": [
            "Epoch 1/10\n",
            "\u001b[1m1875/1875\u001b[0m \u001b[32m━━━━━━━━━━━━━━━━━━━━\u001b[0m\u001b[37m\u001b[0m \u001b[1m6s\u001b[0m 3ms/step - accuracy: 0.8471 - loss: 0.5152\n",
            "Epoch 2/10\n",
            "\u001b[1m1875/1875\u001b[0m \u001b[32m━━━━━━━━━━━━━━━━━━━━\u001b[0m\u001b[37m\u001b[0m \u001b[1m8s\u001b[0m 4ms/step - accuracy: 0.9548 - loss: 0.1523\n",
            "Epoch 3/10\n",
            "\u001b[1m1875/1875\u001b[0m \u001b[32m━━━━━━━━━━━━━━━━━━━━\u001b[0m\u001b[37m\u001b[0m \u001b[1m8s\u001b[0m 3ms/step - accuracy: 0.9685 - loss: 0.1092\n",
            "Epoch 4/10\n",
            "\u001b[1m1875/1875\u001b[0m \u001b[32m━━━━━━━━━━━━━━━━━━━━\u001b[0m\u001b[37m\u001b[0m \u001b[1m10s\u001b[0m 3ms/step - accuracy: 0.9751 - loss: 0.0853\n",
            "Epoch 5/10\n",
            "\u001b[1m1875/1875\u001b[0m \u001b[32m━━━━━━━━━━━━━━━━━━━━\u001b[0m\u001b[37m\u001b[0m \u001b[1m5s\u001b[0m 3ms/step - accuracy: 0.9797 - loss: 0.0693\n",
            "Epoch 6/10\n",
            "\u001b[1m1875/1875\u001b[0m \u001b[32m━━━━━━━━━━━━━━━━━━━━\u001b[0m\u001b[37m\u001b[0m \u001b[1m6s\u001b[0m 3ms/step - accuracy: 0.9836 - loss: 0.0562\n",
            "Epoch 7/10\n",
            "\u001b[1m1875/1875\u001b[0m \u001b[32m━━━━━━━━━━━━━━━━━━━━\u001b[0m\u001b[37m\u001b[0m \u001b[1m10s\u001b[0m 3ms/step - accuracy: 0.9859 - loss: 0.0476\n",
            "Epoch 8/10\n",
            "\u001b[1m1875/1875\u001b[0m \u001b[32m━━━━━━━━━━━━━━━━━━━━\u001b[0m\u001b[37m\u001b[0m \u001b[1m5s\u001b[0m 3ms/step - accuracy: 0.9877 - loss: 0.0409\n",
            "Epoch 9/10\n",
            "\u001b[1m1875/1875\u001b[0m \u001b[32m━━━━━━━━━━━━━━━━━━━━\u001b[0m\u001b[37m\u001b[0m \u001b[1m6s\u001b[0m 3ms/step - accuracy: 0.9896 - loss: 0.0354\n",
            "Epoch 10/10\n",
            "\u001b[1m1875/1875\u001b[0m \u001b[32m━━━━━━━━━━━━━━━━━━━━\u001b[0m\u001b[37m\u001b[0m \u001b[1m6s\u001b[0m 3ms/step - accuracy: 0.9910 - loss: 0.0302\n"
          ]
        },
        {
          "output_type": "execute_result",
          "data": {
            "text/plain": [
              "<keras.src.callbacks.history.History at 0x7ced39560ad0>"
            ]
          },
          "metadata": {},
          "execution_count": 14
        }
      ]
    },
    {
      "cell_type": "markdown",
      "source": [
        "Training data accuracy = 98.9%\n",
        "\n",
        "**Accuracy on Test data:**"
      ],
      "metadata": {
        "id": "kwzmTGhJHTqa"
      }
    },
    {
      "cell_type": "code",
      "source": [
        "loss, accuracy = model.evaluate(X_test, Y_test)\n",
        "print(accuracy)"
      ],
      "metadata": {
        "colab": {
          "base_uri": "https://localhost:8080/"
        },
        "id": "50mn914nG-bu",
        "outputId": "3c2ddeaf-6c40-4f44-c3aa-fdf8b2979365"
      },
      "execution_count": 15,
      "outputs": [
        {
          "output_type": "stream",
          "name": "stdout",
          "text": [
            "\u001b[1m313/313\u001b[0m \u001b[32m━━━━━━━━━━━━━━━━━━━━\u001b[0m\u001b[37m\u001b[0m \u001b[1m1s\u001b[0m 2ms/step - accuracy: 0.9624 - loss: 0.1481\n",
            "0.9672999978065491\n"
          ]
        }
      ]
    },
    {
      "cell_type": "markdown",
      "source": [
        "Test data accuracy = 96.7%"
      ],
      "metadata": {
        "id": "ZA9renvzIQx0"
      }
    },
    {
      "cell_type": "code",
      "source": [
        "print(X_test.shape)"
      ],
      "metadata": {
        "colab": {
          "base_uri": "https://localhost:8080/"
        },
        "id": "E5CrVROzIOIR",
        "outputId": "94244c30-cb5e-41d1-b28d-9883f420bdf6"
      },
      "execution_count": 16,
      "outputs": [
        {
          "output_type": "stream",
          "name": "stdout",
          "text": [
            "(10000, 28, 28)\n"
          ]
        }
      ]
    },
    {
      "cell_type": "code",
      "source": [
        "# first data point in X_test\n",
        "plt.imshow(X_test[0])\n",
        "plt.show()"
      ],
      "metadata": {
        "colab": {
          "base_uri": "https://localhost:8080/",
          "height": 430
        },
        "id": "-5HM4j1KIT6C",
        "outputId": "ec5c32d7-678a-488b-876c-d4c740f298bf"
      },
      "execution_count": 17,
      "outputs": [
        {
          "output_type": "display_data",
          "data": {
            "text/plain": [
              "<Figure size 640x480 with 1 Axes>"
            ],
            "image/png": "[encoded data removed]"
          },
          "metadata": {}
        }
      ]
    },
    {
      "cell_type": "code",
      "source": [
        "print(Y_test[0])"
      ],
      "metadata": {
        "colab": {
          "base_uri": "https://localhost:8080/"
        },
        "id": "9wECo-XSIXQv",
        "outputId": "a3279358-240f-4eac-e65b-4d0f5f0a7523"
      },
      "execution_count": 18,
      "outputs": [
        {
          "output_type": "stream",
          "name": "stdout",
          "text": [
            "7\n"
          ]
        }
      ]
    },
    {
      "cell_type": "code",
      "source": [
        "Y_pred = model.predict(X_test)"
      ],
      "metadata": {
        "colab": {
          "base_uri": "https://localhost:8080/"
        },
        "id": "z5NeoJHBIayn",
        "outputId": "e52b1ade-3cbf-4951-f826-abb1d90a12af"
      },
      "execution_count": 19,
      "outputs": [
        {
          "output_type": "stream",
          "name": "stdout",
          "text": [
            "\u001b[1m313/313\u001b[0m \u001b[32m━━━━━━━━━━━━━━━━━━━━\u001b[0m\u001b[37m\u001b[0m \u001b[1m1s\u001b[0m 2ms/step\n"
          ]
        }
      ]
    },
    {
      "cell_type": "code",
      "source": [
        "print(Y_pred.shape)"
      ],
      "metadata": {
        "colab": {
          "base_uri": "https://localhost:8080/"
        },
        "id": "ZOcJ5SJ4Ieqi",
        "outputId": "498d9af2-dfb1-4c96-d269-03e5978fdecc"
      },
      "execution_count": 20,
      "outputs": [
        {
          "output_type": "stream",
          "name": "stdout",
          "text": [
            "(10000, 10)\n"
          ]
        }
      ]
    },
    {
      "cell_type": "code",
      "source": [
        "print(Y_pred[0])"
      ],
      "metadata": {
        "colab": {
          "base_uri": "https://localhost:8080/"
        },
        "id": "v_zspVLZIhT6",
        "outputId": "aee9993c-aaf0-48b5-b86a-3a7299ea6f98"
      },
      "execution_count": 21,
      "outputs": [
        {
          "output_type": "stream",
          "name": "stdout",
          "text": [
            "[1.19958124e-04 5.46742995e-05 2.83788860e-01 9.16882455e-01\n",
            " 3.19570574e-08 2.74802255e-03 5.56233873e-15 9.99995470e-01\n",
            " 1.95469521e-03 8.65458667e-01]\n"
          ]
        }
      ]
    },
    {
      "cell_type": "code",
      "source": [
        "# converting the prediction probabilities to class label\n",
        "\n",
        "label_for_first_test_image = np.argmax(Y_pred[0])\n",
        "print(label_for_first_test_image)"
      ],
      "metadata": {
        "colab": {
          "base_uri": "https://localhost:8080/"
        },
        "id": "IQT2I_BqIkUV",
        "outputId": "e3129a74-aae3-484a-a03f-f4dbca78e824"
      },
      "execution_count": 22,
      "outputs": [
        {
          "output_type": "stream",
          "name": "stdout",
          "text": [
            "7\n"
          ]
        }
      ]
    },
    {
      "cell_type": "code",
      "source": [
        "# converting the prediction probabilities to class label for all test data points\n",
        "Y_pred_labels = [np.argmax(i) for i in Y_pred]\n",
        "print(Y_pred_labels)"
      ],
      "metadata": {
        "colab": {
          "base_uri": "https://localhost:8080/"
        },
        "id": "TEZmitvuIn6C",
        "outputId": "e138c938-63ad-4ca7-bb11-8dfdbd4535a0"
      },
      "execution_count": 23,
      "outputs": [
        {
          "output_type": "stream",
          "name": "stdout",
          "text": [
            "[np.int64(7), np.int64(2), np.int64(1), np.int64(0), np.int64(4), np.int64(1), np.int64(4), np.int64(9), np.int64(5), np.int64(9), np.int64(0), np.int64(6), np.int64(9), np.int64(0), np.int64(1), np.int64(5), np.int64(9), np.int64(7), np.int64(3), np.int64(4), np.int64(9), np.int64(6), np.int64(6), np.int64(5), np.int64(4), np.int64(0), np.int64(7), np.int64(4), np.int64(0), np.int64(1), np.int64(3), np.int64(1), np.int64(3), np.int64(4), np.int64(7), np.int64(2), np.int64(7), np.int64(1), np.int64(2), np.int64(1), np.int64(1), np.int64(7), np.int64(4), np.int64(2), np.int64(3), np.int64(5), np.int64(1), np.int64(2), np.int64(4), np.int64(4), np.int64(6), np.int64(3), np.int64(5), np.int64(5), np.int64(6), np.int64(0), np.int64(4), np.int64(1), np.int64(9), np.int64(5), np.int64(7), np.int64(8), np.int64(5), np.int64(3), np.int64(7), np.int64(4), np.int64(6), np.int64(4), np.int64(3), np.int64(0), np.int64(7), np.int64(0), np.int64(2), np.int64(9), np.int64(1), np.int64(7), np.int64(3), np.int64(2), np.int64(9), np.int64(7), np.int64(7), np.int64(6), np.int64(2), np.int64(7), np.int64(8), np.int64(4), np.int64(7), np.int64(3), np.int64(6), np.int64(1), np.int64(3), np.int64(6), np.int64(9), np.int64(3), np.int64(1), np.int64(4), np.int64(9), np.int64(7), np.int64(6), np.int64(9), np.int64(6), np.int64(0), np.int64(5), np.int64(4), np.int64(5), np.int64(9), np.int64(2), np.int64(1), np.int64(9), np.int64(4), np.int64(8), np.int64(7), np.int64(3), np.int64(9), np.int64(7), np.int64(4), np.int64(4), np.int64(4), np.int64(9), np.int64(2), np.int64(5), np.int64(4), np.int64(7), np.int64(6), np.int64(7), np.int64(9), np.int64(0), np.int64(5), np.int64(8), np.int64(5), np.int64(6), np.int64(6), np.int64(5), np.int64(7), np.int64(8), np.int64(1), np.int64(0), np.int64(1), np.int64(6), np.int64(4), np.int64(6), np.int64(7), np.int64(3), np.int64(1), np.int64(7), np.int64(1), np.int64(8), np.int64(2), np.int64(0), np.int64(3), np.int64(9), np.int64(8), np.int64(5), np.int64(5), np.int64(1), np.int64(5), np.int64(6), np.int64(0), np.int64(3), np.int64(4), np.int64(4), np.int64(6), np.int64(5), np.int64(4), np.int64(6), np.int64(5), np.int64(4), np.int64(5), np.int64(1), np.int64(4), np.int64(4), np.int64(7), np.int64(2), np.int64(3), np.int64(2), np.int64(7), np.int64(1), np.int64(8), np.int64(1), np.int64(8), np.int64(1), np.int64(8), np.int64(5), np.int64(0), np.int64(8), np.int64(9), np.int64(2), np.int64(3), np.int64(0), np.int64(1), np.int64(1), np.int64(1), np.int64(0), np.int64(8), np.int64(0), np.int64(3), np.int64(1), np.int64(6), np.int64(4), np.int64(2), np.int64(3), np.int64(6), np.int64(1), np.int64(1), np.int64(1), np.int64(3), np.int64(9), np.int64(5), np.int64(2), np.int64(9), np.int64(4), np.int64(5), np.int64(9), np.int64(3), np.int64(9), np.int64(0), np.int64(3), np.int64(5), np.int64(5), np.int64(5), np.int64(7), np.int64(2), np.int64(2), np.int64(7), np.int64(1), np.int64(2), np.int64(8), np.int64(4), np.int64(1), np.int64(7), np.int64(3), np.int64(3), np.int64(8), np.int64(8), np.int64(7), np.int64(9), np.int64(2), np.int64(2), np.int64(4), np.int64(1), np.int64(5), np.int64(9), np.int64(8), np.int64(7), np.int64(2), np.int64(3), np.int64(0), np.int64(2), np.int64(4), np.int64(2), np.int64(4), np.int64(1), np.int64(9), np.int64(5), np.int64(7), np.int64(7), np.int64(2), np.int64(8), np.int64(2), np.int64(0), np.int64(8), np.int64(5), np.int64(7), np.int64(7), np.int64(9), np.int64(1), np.int64(8), np.int64(1), np.int64(8), np.int64(0), np.int64(3), np.int64(0), np.int64(1), np.int64(9), np.int64(3), np.int64(4), np.int64(1), np.int64(8), np.int64(2), np.int64(1), np.int64(2), np.int64(9), np.int64(7), np.int64(5), np.int64(9), np.int64(2), np.int64(6), np.int64(4), np.int64(1), np.int64(5), np.int64(8), np.int64(2), np.int64(9), np.int64(2), np.int64(0), np.int64(4), np.int64(0), np.int64(0), np.int64(2), np.int64(8), np.int64(4), np.int64(7), np.int64(1), np.int64(2), np.int64(4), np.int64(0), np.int64(2), np.int64(7), np.int64(4), np.int64(3), np.int64(3), np.int64(0), np.int64(0), np.int64(3), np.int64(1), np.int64(9), np.int64(6), np.int64(5), np.int64(2), np.int64(5), np.int64(8), np.int64(7), np.int64(9), np.int64(3), np.int64(0), np.int64(4), np.int64(2), np.int64(0), np.int64(7), np.int64(1), np.int64(1), np.int64(2), np.int64(1), np.int64(5), np.int64(3), np.int64(3), np.int64(9), np.int64(7), np.int64(8), np.int64(6), np.int64(3), np.int64(6), np.int64(1), np.int64(3), np.int64(8), np.int64(1), np.int64(0), np.int64(5), np.int64(1), np.int64(3), np.int64(1), np.int64(5), np.int64(5), np.int64(6), np.int64(1), np.int64(8), np.int64(5), np.int64(1), np.int64(7), np.int64(9), np.int64(4), np.int64(6), np.int64(2), np.int64(2), np.int64(5), np.int64(0), np.int64(6), np.int64(5), np.int64(6), np.int64(3), np.int64(7), np.int64(2), np.int64(0), np.int64(8), np.int64(8), np.int64(5), np.int64(4), np.int64(1), np.int64(1), np.int64(4), np.int64(0), np.int64(7), np.int64(3), np.int64(7), np.int64(6), np.int64(1), np.int64(6), np.int64(2), np.int64(1), np.int64(9), np.int64(2), np.int64(8), np.int64(6), np.int64(1), np.int64(9), np.int64(5), np.int64(2), np.int64(5), np.int64(4), np.int64(4), np.int64(2), np.int64(8), np.int64(3), np.int64(8), np.int64(2), np.int64(4), np.int64(5), np.int64(0), np.int64(3), np.int64(1), np.int64(7), np.int64(7), np.int64(5), np.int64(7), np.int64(9), np.int64(7), np.int64(1), np.int64(9), np.int64(2), np.int64(1), np.int64(4), np.int64(2), np.int64(9), np.int64(2), np.int64(0), np.int64(4), np.int64(9), np.int64(1), np.int64(4), np.int64(8), np.int64(1), np.int64(8), np.int64(4), np.int64(5), np.int64(9), np.int64(8), np.int64(8), np.int64(3), np.int64(7), np.int64(6), np.int64(0), np.int64(0), np.int64(3), np.int64(0), np.int64(2), np.int64(0), np.int64(6), np.int64(4), np.int64(9), np.int64(3), np.int64(3), np.int64(3), np.int64(2), np.int64(3), np.int64(9), np.int64(1), np.int64(2), np.int64(6), np.int64(8), np.int64(0), np.int64(5), np.int64(6), np.int64(6), np.int64(6), np.int64(3), np.int64(8), np.int64(8), np.int64(2), np.int64(7), np.int64(5), np.int64(3), np.int64(9), np.int64(6), np.int64(1), np.int64(8), np.int64(4), np.int64(1), np.int64(2), np.int64(5), np.int64(9), np.int64(1), np.int64(9), np.int64(7), np.int64(5), np.int64(4), np.int64(0), np.int64(8), np.int64(9), np.int64(9), np.int64(1), np.int64(0), np.int64(5), np.int64(2), np.int64(3), np.int64(7), np.int64(0), np.int64(9), np.int64(4), np.int64(0), np.int64(6), np.int64(3), np.int64(9), np.int64(5), np.int64(2), np.int64(1), np.int64(3), np.int64(1), np.int64(3), np.int64(6), np.int64(5), np.int64(7), np.int64(4), np.int64(2), np.int64(2), np.int64(6), np.int64(3), np.int64(2), np.int64(6), np.int64(5), np.int64(4), np.int64(8), np.int64(9), np.int64(7), np.int64(1), np.int64(3), np.int64(0), np.int64(3), np.int64(8), np.int64(7), np.int64(1), np.int64(9), np.int64(3), np.int64(4), np.int64(4), np.int64(6), np.int64(4), np.int64(2), np.int64(1), np.int64(8), np.int64(2), np.int64(5), np.int64(4), np.int64(8), np.int64(8), np.int64(4), np.int64(0), np.int64(0), np.int64(2), np.int64(3), np.int64(2), np.int64(7), np.int64(7), np.int64(0), np.int64(8), np.int64(7), np.int64(4), np.int64(4), np.int64(7), np.int64(9), np.int64(6), np.int64(9), np.int64(0), np.int64(9), np.int64(8), np.int64(0), np.int64(4), np.int64(6), np.int64(0), np.int64(6), np.int64(3), np.int64(5), np.int64(4), np.int64(8), np.int64(3), np.int64(3), np.int64(9), np.int64(3), np.int64(3), np.int64(3), np.int64(7), np.int64(8), np.int64(0), np.int64(3), np.int64(2), np.int64(1), np.int64(7), np.int64(0), np.int64(6), np.int64(5), np.int64(4), np.int64(3), np.int64(3), np.int64(0), np.int64(9), np.int64(6), np.int64(3), np.int64(8), np.int64(0), np.int64(9), np.int64(9), np.int64(6), np.int64(8), np.int64(6), np.int64(8), np.int64(5), np.int64(7), np.int64(8), np.int64(6), np.int64(0), np.int64(2), np.int64(4), np.int64(0), np.int64(2), np.int64(2), np.int64(3), np.int64(1), np.int64(9), np.int64(7), np.int64(5), np.int64(8), np.int64(0), np.int64(8), np.int64(4), np.int64(6), np.int64(2), np.int64(6), np.int64(7), np.int64(9), np.int64(3), np.int64(2), np.int64(9), np.int64(8), np.int64(2), np.int64(2), np.int64(9), np.int64(2), np.int64(7), np.int64(3), np.int64(5), np.int64(9), np.int64(1), np.int64(8), np.int64(0), np.int64(2), np.int64(0), np.int64(5), np.int64(2), np.int64(1), np.int64(3), np.int64(7), np.int64(6), np.int64(7), np.int64(1), np.int64(2), np.int64(5), np.int64(8), np.int64(0), np.int64(3), np.int64(7), np.int64(8), np.int64(4), np.int64(0), np.int64(9), np.int64(1), np.int64(8), np.int64(6), np.int64(7), np.int64(7), np.int64(4), np.int64(3), np.int64(4), np.int64(9), np.int64(1), np.int64(9), np.int64(5), np.int64(1), np.int64(7), np.int64(3), np.int64(9), np.int64(7), np.int64(6), np.int64(9), np.int64(1), np.int64(3), np.int64(7), np.int64(8), np.int64(3), np.int64(3), np.int64(6), np.int64(7), np.int64(2), np.int64(8), np.int64(5), np.int64(8), np.int64(5), np.int64(1), np.int64(1), np.int64(4), np.int64(4), np.int64(3), np.int64(1), np.int64(0), np.int64(7), np.int64(7), np.int64(0), np.int64(7), np.int64(9), np.int64(4), np.int64(4), np.int64(8), np.int64(5), np.int64(5), np.int64(4), np.int64(0), np.int64(8), np.int64(2), np.int64(7), np.int64(0), np.int64(8), np.int64(4), np.int64(8), np.int64(0), np.int64(4), np.int64(0), np.int64(6), np.int64(1), np.int64(7), np.int64(3), np.int64(2), np.int64(6), np.int64(7), np.int64(2), np.int64(6), np.int64(9), np.int64(3), np.int64(1), np.int64(4), np.int64(6), np.int64(3), np.int64(5), np.int64(4), np.int64(2), np.int64(0), np.int64(6), np.int64(2), np.int64(1), np.int64(7), np.int64(3), np.int64(4), np.int64(1), np.int64(0), np.int64(5), np.int64(4), np.int64(3), np.int64(1), np.int64(1), np.int64(7), np.int64(4), np.int64(9), np.int64(9), np.int64(4), np.int64(8), np.int64(4), np.int64(0), np.int64(2), np.int64(4), np.int64(5), np.int64(1), np.int64(1), np.int64(6), np.int64(4), np.int64(7), np.int64(1), np.int64(9), np.int64(4), np.int64(2), np.int64(4), np.int64(1), np.int64(5), np.int64(5), np.int64(3), np.int64(8), np.int64(3), np.int64(1), np.int64(4), np.int64(5), np.int64(6), np.int64(8), np.int64(9), np.int64(4), np.int64(1), np.int64(5), np.int64(3), np.int64(8), np.int64(0), np.int64(3), np.int64(2), np.int64(5), np.int64(1), np.int64(2), np.int64(8), np.int64(3), np.int64(4), np.int64(4), np.int64(0), np.int64(8), np.int64(8), np.int64(3), np.int64(3), np.int64(1), np.int64(7), np.int64(3), np.int64(5), np.int64(9), np.int64(6), np.int64(3), np.int64(2), np.int64(6), np.int64(1), np.int64(3), np.int64(6), np.int64(0), np.int64(7), np.int64(2), np.int64(1), np.int64(7), np.int64(1), np.int64(4), np.int64(2), np.int64(4), np.int64(2), np.int64(1), np.int64(7), np.int64(9), np.int64(6), np.int64(1), np.int64(1), np.int64(2), np.int64(4), np.int64(3), np.int64(1), np.int64(7), np.int64(7), np.int64(4), np.int64(8), np.int64(0), np.int64(7), np.int64(3), np.int64(1), np.int64(3), np.int64(1), np.int64(0), np.int64(7), np.int64(7), np.int64(0), np.int64(3), np.int64(5), np.int64(5), np.int64(2), np.int64(7), np.int64(6), np.int64(6), np.int64(9), np.int64(2), np.int64(8), np.int64(3), np.int64(5), np.int64(2), np.int64(2), np.int64(5), np.int64(6), np.int64(0), np.int64(8), np.int64(2), np.int64(9), np.int64(2), np.int64(8), np.int64(6), np.int64(8), np.int64(8), np.int64(7), np.int64(4), np.int64(9), np.int64(5), np.int64(0), np.int64(6), np.int64(6), np.int64(3), np.int64(2), np.int64(1), np.int64(3), np.int64(2), np.int64(2), np.int64(9), np.int64(3), np.int64(0), np.int64(0), np.int64(5), np.int64(7), np.int64(8), np.int64(3), np.int64(4), np.int64(4), np.int64(6), np.int64(0), np.int64(2), np.int64(9), np.int64(1), np.int64(4), np.int64(7), np.int64(4), np.int64(7), np.int64(3), np.int64(9), np.int64(8), np.int64(8), np.int64(2), np.int64(7), np.int64(1), np.int64(2), np.int64(1), np.int64(2), np.int64(2), np.int64(3), np.int64(2), np.int64(3), np.int64(2), np.int64(3), np.int64(9), np.int64(1), np.int64(7), np.int64(4), np.int64(0), np.int64(3), np.int64(5), np.int64(5), np.int64(8), np.int64(6), np.int64(5), np.int64(2), np.int64(6), np.int64(7), np.int64(6), np.int64(6), np.int64(3), np.int64(2), np.int64(7), np.int64(9), np.int64(1), np.int64(1), np.int64(7), np.int64(4), np.int64(6), np.int64(4), np.int64(9), np.int64(5), np.int64(2), np.int64(3), np.int64(3), np.int64(4), np.int64(7), np.int64(8), np.int64(9), np.int64(1), np.int64(1), np.int64(6), np.int64(9), np.int64(1), np.int64(4), np.int64(4), np.int64(5), np.int64(4), np.int64(0), np.int64(6), np.int64(2), np.int64(2), np.int64(3), np.int64(1), np.int64(5), np.int64(1), np.int64(2), np.int64(0), np.int64(3), np.int64(8), np.int64(1), np.int64(2), np.int64(6), np.int64(7), np.int64(1), np.int64(6), np.int64(2), np.int64(3), np.int64(9), np.int64(0), np.int64(1), np.int64(2), np.int64(2), np.int64(0), np.int64(8), np.int64(9), np.int64(9), np.int64(0), np.int64(2), np.int64(3), np.int64(1), np.int64(9), np.int64(7), np.int64(8), np.int64(1), np.int64(0), np.int64(4), np.int64(1), np.int64(7), np.int64(9), np.int64(5), np.int64(4), np.int64(2), np.int64(6), np.int64(8), np.int64(1), np.int64(3), np.int64(7), np.int64(5), np.int64(4), np.int64(4), np.int64(1), np.int64(8), np.int64(1), np.int64(3), np.int64(8), np.int64(1), np.int64(2), np.int64(5), np.int64(8), np.int64(0), np.int64(6), np.int64(2), np.int64(1), np.int64(1), np.int64(9), np.int64(1), np.int64(5), np.int64(3), np.int64(4), np.int64(6), np.int64(9), np.int64(5), np.int64(0), np.int64(9), np.int64(2), np.int64(2), np.int64(4), np.int64(8), np.int64(2), np.int64(1), np.int64(7), np.int64(2), np.int64(4), np.int64(9), np.int64(4), np.int64(4), np.int64(0), np.int64(3), np.int64(9), np.int64(2), np.int64(2), np.int64(3), np.int64(3), np.int64(8), np.int64(3), np.int64(5), np.int64(7), np.int64(3), np.int64(5), np.int64(8), np.int64(1), np.int64(2), np.int64(4), np.int64(4), np.int64(6), np.int64(4), np.int64(9), np.int64(3), np.int64(1), np.int64(0), np.int64(6), np.int64(9), np.int64(5), np.int64(9), np.int64(5), np.int64(9), np.int64(7), np.int64(3), np.int64(8), np.int64(0), np.int64(3), np.int64(7), np.int64(1), np.int64(3), np.int64(6), np.int64(7), np.int64(8), np.int64(5), np.int64(9), np.int64(7), np.int64(9), np.int64(6), np.int64(5), np.int64(6), np.int64(3), np.int64(7), np.int64(4), np.int64(6), np.int64(5), np.int64(3), np.int64(5), np.int64(4), np.int64(7), np.int64(8), np.int64(7), np.int64(8), np.int64(0), np.int64(7), np.int64(6), np.int64(8), np.int64(8), np.int64(7), np.int64(3), np.int64(7), np.int64(1), np.int64(9), np.int64(5), np.int64(2), np.int64(7), np.int64(3), np.int64(5), np.int64(1), np.int64(1), np.int64(2), np.int64(1), np.int64(4), np.int64(7), np.int64(4), np.int64(7), np.int64(5), np.int64(4), np.int64(5), np.int64(4), np.int64(0), np.int64(8), np.int64(3), np.int64(6), np.int64(9), np.int64(6), np.int64(0), np.int64(2), np.int64(7), np.int64(4), np.int64(4), np.int64(4), np.int64(4), np.int64(6), np.int64(6), np.int64(4), np.int64(7), np.int64(9), np.int64(3), np.int64(4), np.int64(5), np.int64(5), np.int64(8), np.int64(7), np.int64(3), np.int64(7), np.int64(2), np.int64(7), np.int64(0), np.int64(2), np.int64(6), np.int64(1), np.int64(1), np.int64(6), np.int64(8), np.int64(9), np.int64(2), np.int64(8), np.int64(7), np.int64(2), np.int64(0), np.int64(1), np.int64(5), np.int64(0), np.int64(8), np.int64(1), np.int64(7), np.int64(0), np.int64(6), np.int64(0), np.int64(8), np.int64(6), np.int64(8), np.int64(1), np.int64(8), np.int64(0), np.int64(3), np.int64(3), np.int64(7), np.int64(2), np.int64(3), np.int64(6), np.int64(2), np.int64(1), np.int64(6), np.int64(1), np.int64(1), np.int64(3), np.int64(7), np.int64(9), np.int64(0), np.int64(3), np.int64(0), np.int64(5), np.int64(4), np.int64(0), np.int64(2), np.int64(8), np.int64(2), np.int64(2), np.int64(3), np.int64(8), np.int64(4), np.int64(0), np.int64(9), np.int64(5), np.int64(8), np.int64(5), np.int64(1), np.int64(2), np.int64(1), np.int64(3), np.int64(1), np.int64(7), np.int64(9), np.int64(5), np.int64(7), np.int64(2), np.int64(0), np.int64(3), np.int64(8), np.int64(8), np.int64(6), np.int64(2), np.int64(5), np.int64(6), np.int64(1), np.int64(9), np.int64(2), np.int64(1), np.int64(5), np.int64(8), np.int64(7), np.int64(0), np.int64(2), np.int64(4), np.int64(4), np.int64(3), np.int64(6), np.int64(8), np.int64(8), np.int64(2), np.int64(4), np.int64(0), np.int64(5), np.int64(0), np.int64(4), np.int64(4), np.int64(7), np.int64(9), np.int64(3), np.int64(4), np.int64(1), np.int64(5), np.int64(8), np.int64(2), np.int64(3), np.int64(5), np.int64(8), np.int64(8), np.int64(0), np.int64(9), np.int64(3), np.int64(3), np.int64(6), np.int64(6), np.int64(0), np.int64(1), np.int64(6), np.int64(0), np.int64(3), np.int64(7), np.int64(4), np.int64(4), np.int64(1), np.int64(2), np.int64(9), np.int64(1), np.int64(4), np.int64(6), np.int64(9), np.int64(9), np.int64(3), np.int64(9), np.int64(8), np.int64(4), np.int64(4), np.int64(3), np.int64(1), np.int64(3), np.int64(1), np.int64(3), np.int64(8), np.int64(7), np.int64(9), np.int64(4), np.int64(8), np.int64(8), np.int64(7), np.int64(9), np.int64(8), np.int64(1), np.int64(4), np.int64(5), np.int64(6), np.int64(0), np.int64(5), np.int64(2), np.int64(2), np.int64(2), np.int64(1), np.int64(5), np.int64(5), np.int64(2), np.int64(4), np.int64(9), np.int64(6), np.int64(2), np.int64(7), np.int64(7), np.int64(2), np.int64(2), np.int64(1), np.int64(1), np.int64(2), np.int64(8), np.int64(3), np.int64(7), np.int64(2), np.int64(4), np.int64(1), np.int64(7), np.int64(1), np.int64(7), np.int64(6), np.int64(7), np.int64(8), np.int64(2), np.int64(7), np.int64(3), np.int64(1), np.int64(7), np.int64(5), np.int64(8), np.int64(2), np.int64(6), np.int64(2), np.int64(2), np.int64(5), np.int64(6), np.int64(6), np.int64(0), np.int64(9), np.int64(2), np.int64(4), np.int64(3), np.int64(3), np.int64(9), np.int64(7), np.int64(6), np.int64(6), np.int64(8), np.int64(0), np.int64(4), np.int64(1), np.int64(3), np.int64(8), np.int64(3), np.int64(9), np.int64(1), np.int64(8), np.int64(0), np.int64(6), np.int64(7), np.int64(2), np.int64(1), np.int64(0), np.int64(5), np.int64(5), np.int64(2), np.int64(0), np.int64(2), np.int64(2), np.int64(0), np.int64(2), np.int64(4), np.int64(7), np.int64(8), np.int64(0), np.int64(9), np.int64(9), np.int64(4), np.int64(6), np.int64(5), np.int64(4), np.int64(9), np.int64(1), np.int64(8), np.int64(3), np.int64(4), np.int64(9), np.int64(9), np.int64(1), np.int64(2), np.int64(2), np.int64(8), np.int64(1), np.int64(9), np.int64(6), np.int64(4), np.int64(0), np.int64(9), np.int64(4), np.int64(8), np.int64(3), np.int64(8), np.int64(6), np.int64(0), np.int64(2), np.int64(5), np.int64(1), np.int64(9), np.int64(6), np.int64(2), np.int64(9), np.int64(4), np.int64(0), np.int64(9), np.int64(6), np.int64(0), np.int64(6), np.int64(2), np.int64(5), np.int64(4), np.int64(2), np.int64(3), np.int64(8), np.int64(4), np.int64(5), np.int64(5), np.int64(0), np.int64(3), np.int64(8), np.int64(5), np.int64(3), np.int64(5), np.int64(8), np.int64(6), np.int64(5), np.int64(7), np.int64(6), np.int64(3), np.int64(3), np.int64(9), np.int64(6), np.int64(1), np.int64(1), np.int64(2), np.int64(9), np.int64(0), np.int64(4), np.int64(3), np.int64(3), np.int64(6), np.int64(9), np.int64(5), np.int64(9), np.int64(3), np.int64(7), np.int64(7), np.int64(7), np.int64(8), np.int64(7), np.int64(9), np.int64(8), np.int64(3), np.int64(0), np.int64(7), np.int64(2), np.int64(7), np.int64(9), np.int64(4), np.int64(5), np.int64(4), np.int64(9), np.int64(3), np.int64(2), np.int64(1), np.int64(4), np.int64(0), np.int64(2), np.int64(3), np.int64(7), np.int64(5), np.int64(9), np.int64(8), np.int64(8), np.int64(5), np.int64(0), np.int64(1), np.int64(1), np.int64(4), np.int64(7), np.int64(3), np.int64(9), np.int64(0), np.int64(0), np.int64(0), np.int64(6), np.int64(6), np.int64(2), np.int64(3), np.int64(7), np.int64(8), np.int64(4), np.int64(7), np.int64(7), np.int64(9), np.int64(2), np.int64(4), np.int64(1), np.int64(6), np.int64(5), np.int64(2), np.int64(4), np.int64(9), np.int64(8), np.int64(1), np.int64(8), np.int64(4), np.int64(0), np.int64(9), np.int64(8), np.int64(4), np.int64(8), np.int64(7), np.int64(7), np.int64(0), np.int64(7), np.int64(8), np.int64(8), np.int64(6), np.int64(0), np.int64(4), np.int64(8), np.int64(8), np.int64(2), np.int64(4), np.int64(7), np.int64(6), np.int64(6), np.int64(6), np.int64(4), np.int64(7), np.int64(1), np.int64(8), np.int64(8), np.int64(2), np.int64(3), np.int64(6), np.int64(3), np.int64(0), np.int64(0), np.int64(3), np.int64(7), np.int64(6), np.int64(9), np.int64(7), np.int64(9), np.int64(9), np.int64(5), np.int64(4), np.int64(3), np.int64(3), np.int64(6), np.int64(1), np.int64(2), np.int64(3), np.int64(7), np.int64(3), np.int64(3), np.int64(3), np.int64(0), np.int64(3), np.int64(3), np.int64(8), np.int64(4), np.int64(3), np.int64(6), np.int64(3), np.int64(5), np.int64(0), np.int64(2), np.int64(0), np.int64(9), np.int64(0), np.int64(7), np.int64(4), np.int64(6), np.int64(9), np.int64(3), np.int64(5), np.int64(1), np.int64(9), np.int64(6), np.int64(1), np.int64(4), np.int64(5), np.int64(4), np.int64(5), np.int64(0), np.int64(5), np.int64(9), np.int64(5), np.int64(2), np.int64(1), np.int64(2), np.int64(9), np.int64(1), np.int64(9), np.int64(9), np.int64(4), np.int64(0), np.int64(8), np.int64(4), np.int64(5), np.int64(2), np.int64(9), np.int64(2), np.int64(1), np.int64(2), np.int64(1), np.int64(7), np.int64(3), np.int64(6), np.int64(8), np.int64(8), np.int64(4), np.int64(9), np.int64(1), np.int64(9), np.int64(8), np.int64(5), np.int64(7), np.int64(5), np.int64(1), np.int64(1), np.int64(8), np.int64(6), np.int64(5), np.int64(0), np.int64(4), np.int64(4), np.int64(7), np.int64(2), np.int64(3), np.int64(5), np.int64(6), np.int64(8), np.int64(8), np.int64(6), np.int64(2), np.int64(3), np.int64(1), np.int64(0), np.int64(5), np.int64(8), np.int64(9), np.int64(2), np.int64(9), np.int64(6), np.int64(7), np.int64(0), np.int64(4), np.int64(8), np.int64(7), np.int64(1), np.int64(7), np.int64(4), np.int64(1), np.int64(0), np.int64(8), np.int64(7), np.int64(2), np.int64(0), np.int64(0), np.int64(9), np.int64(1), np.int64(7), np.int64(0), np.int64(7), np.int64(8), np.int64(4), np.int64(7), np.int64(2), np.int64(0), np.int64(4), np.int64(6), np.int64(0), np.int64(3), np.int64(1), np.int64(1), np.int64(3), np.int64(3), np.int64(9), np.int64(6), np.int64(7), np.int64(4), np.int64(1), np.int64(5), np.int64(3), np.int64(0), np.int64(8), np.int64(7), np.int64(3), np.int64(9), np.int64(6), np.int64(9), np.int64(3), np.int64(5), np.int64(7), np.int64(2), np.int64(7), np.int64(2), np.int64(5), np.int64(1), np.int64(3), np.int64(5), np.int64(8), np.int64(0), np.int64(8), np.int64(8), np.int64(1), np.int64(5), np.int64(0), np.int64(3), np.int64(0), np.int64(3), np.int64(1), np.int64(4), np.int64(0), np.int64(3), np.int64(7), np.int64(2), np.int64(7), np.int64(1), np.int64(8), np.int64(0), np.int64(7), np.int64(0), np.int64(4), np.int64(3), np.int64(1), np.int64(9), np.int64(8), np.int64(7), np.int64(7), np.int64(1), np.int64(4), np.int64(9), np.int64(9), np.int64(3), np.int64(8), np.int64(1), np.int64(7), np.int64(9), np.int64(0), np.int64(2), np.int64(0), np.int64(3), np.int64(3), np.int64(7), np.int64(2), np.int64(9), np.int64(2), np.int64(3), np.int64(3), np.int64(7), np.int64(7), np.int64(0), np.int64(0), np.int64(7), np.int64(5), np.int64(2), np.int64(9), np.int64(2), np.int64(7), np.int64(4), np.int64(4), np.int64(2), np.int64(6), np.int64(6), np.int64(1), np.int64(9), np.int64(6), np.int64(8), np.int64(2), np.int64(9), np.int64(0), np.int64(8), np.int64(3), np.int64(1), np.int64(1), np.int64(6), np.int64(3), np.int64(5), np.int64(1), np.int64(1), np.int64(1), np.int64(3), np.int64(1), np.int64(2), np.int64(3), np.int64(0), np.int64(2), np.int64(0), np.int64(1), np.int64(3), np.int64(5), np.int64(5), np.int64(7), np.int64(4), np.int64(8), np.int64(9), np.int64(6), np.int64(9), np.int64(6), np.int64(8), np.int64(3), np.int64(6), np.int64(6), np.int64(8), np.int64(5), np.int64(1), np.int64(4), np.int64(2), np.int64(4), np.int64(4), np.int64(5), np.int64(1), np.int64(3), np.int64(9), np.int64(0), np.int64(3), np.int64(4), np.int64(9), np.int64(5), np.int64(7), np.int64(1), np.int64(8), np.int64(3), np.int64(5), np.int64(6), np.int64(9), np.int64(8), np.int64(7), np.int64(1), np.int64(1), np.int64(6), np.int64(7), np.int64(6), np.int64(3), np.int64(2), np.int64(2), np.int64(0), np.int64(8), np.int64(9), np.int64(2), np.int64(5), np.int64(1), np.int64(0), np.int64(8), np.int64(1), np.int64(8), np.int64(5), np.int64(7), np.int64(9), np.int64(6), np.int64(9), np.int64(0), np.int64(6), np.int64(7), np.int64(5), np.int64(5), np.int64(8), np.int64(3), np.int64(8), np.int64(2), np.int64(6), np.int64(5), np.int64(0), np.int64(7), np.int64(4), np.int64(6), np.int64(1), np.int64(3), np.int64(4), np.int64(7), np.int64(3), np.int64(2), np.int64(3), np.int64(4), np.int64(2), np.int64(5), np.int64(2), np.int64(7), np.int64(1), np.int64(7), np.int64(2), np.int64(6), np.int64(4), np.int64(1), np.int64(8), np.int64(7), np.int64(8), np.int64(6), np.int64(0), np.int64(1), np.int64(8), np.int64(2), np.int64(5), np.int64(7), np.int64(7), np.int64(6), np.int64(3), np.int64(3), np.int64(5), np.int64(8), np.int64(4), np.int64(2), np.int64(4), np.int64(0), np.int64(8), np.int64(8), np.int64(3), np.int64(4), np.int64(9), np.int64(2), np.int64(7), np.int64(5), np.int64(8), np.int64(6), np.int64(5), np.int64(6), np.int64(0), np.int64(3), np.int64(6), np.int64(7), np.int64(3), np.int64(6), np.int64(4), np.int64(9), np.int64(4), np.int64(6), np.int64(6), np.int64(3), np.int64(2), np.int64(4), np.int64(1), np.int64(9), np.int64(1), np.int64(4), np.int64(6), np.int64(2), np.int64(9), np.int64(1), np.int64(1), np.int64(0), np.int64(6), np.int64(3), np.int64(9), np.int64(5), np.int64(6), np.int64(5), np.int64(6), np.int64(5), np.int64(3), np.int64(4), np.int64(6), np.int64(4), np.int64(3), np.int64(9), np.int64(1), np.int64(3), np.int64(4), np.int64(1), np.int64(9), np.int64(1), np.int64(2), np.int64(1), np.int64(8), np.int64(9), np.int64(3), np.int64(5), np.int64(4), np.int64(0), np.int64(9), np.int64(3), np.int64(6), np.int64(1), np.int64(7), np.int64(5), np.int64(5), np.int64(3), np.int64(3), np.int64(4), np.int64(1), np.int64(5), np.int64(7), np.int64(5), np.int64(8), np.int64(6), np.int64(4), np.int64(1), np.int64(0), np.int64(4), np.int64(7), np.int64(3), np.int64(4), np.int64(6), np.int64(7), np.int64(9), np.int64(8), np.int64(1), np.int64(8), np.int64(4), np.int64(9), np.int64(2), np.int64(3), np.int64(6), np.int64(3), np.int64(7), np.int64(0), np.int64(0), np.int64(6), np.int64(7), np.int64(5), np.int64(8), np.int64(6), np.int64(0), np.int64(9), np.int64(3), np.int64(9), np.int64(1), np.int64(3), np.int64(5), np.int64(4), np.int64(3), np.int64(3), np.int64(5), np.int64(5), np.int64(6), np.int64(3), np.int64(0), np.int64(2), np.int64(3), np.int64(4), np.int64(2), np.int64(3), np.int64(0), np.int64(9), np.int64(9), np.int64(4), np.int64(7), np.int64(2), np.int64(8), np.int64(4), np.int64(7), np.int64(0), np.int64(6), np.int64(2), np.int64(8), np.int64(5), np.int64(2), np.int64(8), np.int64(5), np.int64(7), np.int64(3), np.int64(0), np.int64(8), np.int64(2), np.int64(7), np.int64(2), np.int64(8), np.int64(2), np.int64(5), np.int64(5), np.int64(7), np.int64(6), np.int64(4), np.int64(0), np.int64(8), np.int64(4), np.int64(8), np.int64(2), np.int64(7), np.int64(4), np.int64(5), np.int64(2), np.int64(0), np.int64(3), np.int64(8), np.int64(4), np.int64(6), np.int64(7), np.int64(2), np.int64(5), np.int64(1), np.int64(1), np.int64(1), np.int64(2), np.int64(3), np.int64(6), np.int64(7), np.int64(8), np.int64(7), np.int64(6), np.int64(4), np.int64(8), np.int64(9), np.int64(4), np.int64(8), np.int64(6), np.int64(3), np.int64(8), np.int64(3), np.int64(1), np.int64(0), np.int64(6), np.int64(2), np.int64(2), np.int64(5), np.int64(6), np.int64(9), np.int64(5), np.int64(8), np.int64(1), np.int64(4), np.int64(1), np.int64(7), np.int64(8), np.int64(4), np.int64(6), np.int64(1), np.int64(8), np.int64(4), np.int64(3), np.int64(1), np.int64(2), np.int64(8), np.int64(0), np.int64(3), np.int64(5), np.int64(9), np.int64(2), np.int64(4), np.int64(2), np.int64(8), np.int64(3), np.int64(7), np.int64(0), np.int64(9), np.int64(0), np.int64(2), np.int64(5), np.int64(7), np.int64(6), np.int64(7), np.int64(9), np.int64(4), np.int64(2), np.int64(6), np.int64(2), np.int64(4), np.int64(4), np.int64(8), np.int64(0), np.int64(4), np.int64(4), np.int64(5), np.int64(8), np.int64(0), np.int64(6), np.int64(8), np.int64(9), np.int64(8), np.int64(5), np.int64(6), np.int64(9), np.int64(0), np.int64(4), np.int64(8), np.int64(7), np.int64(1), np.int64(3), np.int64(4), np.int64(6), np.int64(8), np.int64(0), np.int64(9), np.int64(1), np.int64(3), np.int64(3), np.int64(6), np.int64(9), np.int64(8), np.int64(7), np.int64(1), np.int64(0), np.int64(5), np.int64(7), np.int64(1), np.int64(7), np.int64(5), np.int64(2), np.int64(7), np.int64(9), np.int64(1), np.int64(8), np.int64(5), np.int64(2), np.int64(4), np.int64(9), np.int64(4), np.int64(7), np.int64(2), np.int64(2), np.int64(3), np.int64(4), np.int64(9), np.int64(1), np.int64(9), np.int64(2), np.int64(1), np.int64(7), np.int64(9), np.int64(4), np.int64(4), np.int64(1), np.int64(6), np.int64(7), np.int64(2), np.int64(7), np.int64(8), np.int64(0), np.int64(1), np.int64(9), np.int64(7), np.int64(1), np.int64(1), np.int64(7), np.int64(5), np.int64(3), np.int64(3), np.int64(5), np.int64(1), np.int64(3), np.int64(7), np.int64(6), np.int64(1), np.int64(3), np.int64(8), np.int64(7), np.int64(5), np.int64(9), np.int64(4), np.int64(0), np.int64(0), np.int64(2), np.int64(8), np.int64(8), np.int64(7), np.int64(3), np.int64(7), np.int64(1), np.int64(3), np.int64(0), np.int64(3), np.int64(4), np.int64(4), np.int64(3), np.int64(8), np.int64(9), np.int64(2), np.int64(3), np.int64(9), np.int64(7), np.int64(1), np.int64(1), np.int64(7), np.int64(0), np.int64(4), np.int64(9), np.int64(6), np.int64(5), np.int64(9), np.int64(1), np.int64(7), np.int64(0), np.int64(2), np.int64(0), np.int64(2), np.int64(4), np.int64(6), np.int64(7), np.int64(0), np.int64(7), np.int64(1), np.int64(4), np.int64(6), np.int64(4), np.int64(5), np.int64(4), np.int64(9), np.int64(9), np.int64(1), np.int64(7), np.int64(9), np.int64(5), np.int64(3), np.int64(3), np.int64(8), np.int64(2), np.int64(3), np.int64(6), np.int64(2), np.int64(2), np.int64(1), np.int64(1), np.int64(1), np.int64(1), np.int64(1), np.int64(6), np.int64(9), np.int64(8), np.int64(4), np.int64(3), np.int64(7), np.int64(1), np.int64(6), np.int64(4), np.int64(8), np.int64(0), np.int64(4), np.int64(7), np.int64(4), np.int64(2), np.int64(4), np.int64(0), np.int64(7), np.int64(0), np.int64(1), np.int64(9), np.int64(8), np.int64(8), np.int64(6), np.int64(0), np.int64(0), np.int64(4), np.int64(1), np.int64(6), np.int64(8), np.int64(2), np.int64(2), np.int64(3), np.int64(8), np.int64(4), np.int64(3), np.int64(2), np.int64(2), np.int64(1), np.int64(7), np.int64(5), np.int64(4), np.int64(4), np.int64(0), np.int64(4), np.int64(3), np.int64(9), np.int64(7), np.int64(9), np.int64(1), np.int64(0), np.int64(1), np.int64(2), np.int64(5), np.int64(4), np.int64(2), np.int64(1), np.int64(0), np.int64(1), np.int64(8), np.int64(9), np.int64(1), np.int64(7), np.int64(8), np.int64(3), np.int64(8), np.int64(9), np.int64(3), np.int64(6), np.int64(2), np.int64(8), np.int64(3), np.int64(2), np.int64(2), np.int64(1), np.int64(0), np.int64(4), np.int64(2), np.int64(9), np.int64(2), np.int64(4), np.int64(3), np.int64(7), np.int64(9), np.int64(1), np.int64(5), np.int64(2), np.int64(4), np.int64(9), np.int64(0), np.int64(3), np.int64(8), np.int64(5), np.int64(3), np.int64(6), np.int64(0), np.int64(9), np.int64(4), np.int64(6), np.int64(2), np.int64(5), np.int64(0), np.int64(0), np.int64(7), np.int64(4), np.int64(6), np.int64(6), np.int64(8), np.int64(6), np.int64(6), np.int64(8), np.int64(6), np.int64(9), np.int64(1), np.int64(7), np.int64(2), np.int64(5), np.int64(9), np.int64(9), np.int64(0), np.int64(7), np.int64(2), np.int64(7), np.int64(6), np.int64(7), np.int64(0), np.int64(6), np.int64(5), np.int64(4), np.int64(4), np.int64(7), np.int64(2), np.int64(0), np.int64(9), np.int64(9), np.int64(2), np.int64(3), np.int64(9), np.int64(4), np.int64(4), np.int64(2), np.int64(3), np.int64(3), np.int64(2), np.int64(1), np.int64(7), np.int64(0), np.int64(7), np.int64(6), np.int64(4), np.int64(1), np.int64(3), np.int64(3), np.int64(7), np.int64(4), np.int64(5), np.int64(9), np.int64(2), np.int64(5), np.int64(1), np.int64(8), np.int64(7), np.int64(3), np.int64(7), np.int64(1), np.int64(5), np.int64(3), np.int64(0), np.int64(9), np.int64(1), np.int64(4), np.int64(0), np.int64(6), np.int64(3), np.int64(3), np.int64(6), np.int64(0), np.int64(4), np.int64(9), np.int64(7), np.int64(5), np.int64(1), np.int64(6), np.int64(8), np.int64(9), np.int64(5), np.int64(5), np.int64(7), np.int64(9), np.int64(3), np.int64(8), np.int64(3), np.int64(8), np.int64(1), np.int64(5), np.int64(3), np.int64(5), np.int64(0), np.int64(5), np.int64(5), np.int64(3), np.int64(8), np.int64(6), np.int64(7), np.int64(7), np.int64(7), np.int64(3), np.int64(7), np.int64(0), np.int64(5), np.int64(9), np.int64(0), np.int64(2), np.int64(5), np.int64(5), np.int64(3), np.int64(1), np.int64(7), np.int64(7), np.int64(8), np.int64(6), np.int64(5), np.int64(9), np.int64(3), np.int64(8), np.int64(9), np.int64(5), np.int64(3), np.int64(7), np.int64(9), np.int64(1), np.int64(7), np.int64(0), np.int64(0), np.int64(3), np.int64(7), np.int64(2), np.int64(5), np.int64(8), np.int64(1), np.int64(8), np.int64(6), np.int64(2), np.int64(9), np.int64(5), np.int64(7), np.int64(5), np.int64(7), np.int64(8), np.int64(6), np.int64(2), np.int64(5), np.int64(1), np.int64(4), np.int64(8), np.int64(4), np.int64(5), np.int64(8), np.int64(3), np.int64(0), np.int64(6), np.int64(2), np.int64(7), np.int64(3), np.int64(3), np.int64(2), np.int64(1), np.int64(0), np.int64(7), np.int64(3), np.int64(4), np.int64(0), np.int64(3), np.int64(9), np.int64(3), np.int64(2), np.int64(8), np.int64(9), np.int64(0), np.int64(3), np.int64(8), np.int64(0), np.int64(7), np.int64(6), np.int64(5), np.int64(4), np.int64(7), np.int64(3), np.int64(0), np.int64(0), np.int64(8), np.int64(6), np.int64(2), np.int64(5), np.int64(1), np.int64(1), np.int64(0), np.int64(0), np.int64(4), np.int64(4), np.int64(0), np.int64(1), np.int64(2), np.int64(3), np.int64(2), np.int64(7), np.int64(7), np.int64(8), np.int64(5), np.int64(2), np.int64(5), np.int64(7), np.int64(6), np.int64(9), np.int64(1), np.int64(4), np.int64(1), np.int64(6), np.int64(4), np.int64(2), np.int64(4), np.int64(3), np.int64(5), np.int64(4), np.int64(3), np.int64(9), np.int64(5), np.int64(0), np.int64(1), np.int64(5), np.int64(3), np.int64(8), np.int64(9), np.int64(1), np.int64(9), np.int64(7), np.int64(9), np.int64(5), np.int64(5), np.int64(2), np.int64(7), np.int64(4), np.int64(6), np.int64(0), np.int64(1), np.int64(1), np.int64(1), np.int64(0), np.int64(4), np.int64(4), np.int64(7), np.int64(6), np.int64(3), np.int64(0), np.int64(0), np.int64(4), np.int64(3), np.int64(0), np.int64(6), np.int64(1), np.int64(9), np.int64(6), np.int64(1), np.int64(3), np.int64(8), np.int64(1), np.int64(2), np.int64(5), np.int64(6), np.int64(2), np.int64(7), np.int64(3), np.int64(6), np.int64(0), np.int64(1), np.int64(9), np.int64(7), np.int64(6), np.int64(6), np.int64(8), np.int64(9), np.int64(2), np.int64(9), np.int64(5), np.int64(8), np.int64(3), np.int64(1), np.int64(0), np.int64(0), np.int64(7), np.int64(6), np.int64(6), np.int64(2), np.int64(1), np.int64(6), np.int64(9), np.int64(3), np.int64(1), np.int64(8), np.int64(6), np.int64(9), np.int64(0), np.int64(6), np.int64(0), np.int64(0), np.int64(0), np.int64(6), np.int64(3), np.int64(5), np.int64(9), np.int64(3), np.int64(4), np.int64(5), np.int64(5), np.int64(8), np.int64(5), np.int64(3), np.int64(0), np.int64(4), np.int64(0), np.int64(2), np.int64(9), np.int64(6), np.int64(8), np.int64(2), np.int64(3), np.int64(1), np.int64(2), np.int64(1), np.int64(1), np.int64(5), np.int64(6), np.int64(9), np.int64(8), np.int64(0), np.int64(6), np.int64(6), np.int64(5), np.int64(5), np.int64(3), np.int64(8), np.int64(6), np.int64(2), np.int64(1), np.int64(4), np.int64(5), np.int64(4), np.int64(3), np.int64(7), np.int64(8), np.int64(3), np.int64(0), np.int64(9), np.int64(3), np.int64(5), np.int64(1), np.int64(1), np.int64(0), np.int64(4), np.int64(4), np.int64(7), np.int64(0), np.int64(1), np.int64(7), np.int64(0), np.int64(1), np.int64(6), np.int64(1), np.int64(4), np.int64(5), np.int64(6), np.int64(6), np.int64(5), np.int64(7), np.int64(8), np.int64(4), np.int64(4), np.int64(7), np.int64(2), np.int64(5), np.int64(3), np.int64(7), np.int64(0), np.int64(7), np.int64(7), np.int64(9), np.int64(6), np.int64(4), np.int64(2), np.int64(8), np.int64(5), np.int64(7), np.int64(8), np.int64(3), np.int64(9), np.int64(5), np.int64(8), np.int64(9), np.int64(9), np.int64(8), np.int64(6), np.int64(2), np.int64(8), np.int64(9), np.int64(3), np.int64(3), np.int64(6), np.int64(1), np.int64(1), np.int64(8), np.int64(9), np.int64(3), np.int64(4), np.int64(0), np.int64(7), np.int64(9), np.int64(6), np.int64(7), np.int64(1), np.int64(4), np.int64(1), np.int64(3), np.int64(4), np.int64(9), np.int64(3), np.int64(1), np.int64(4), np.int64(7), np.int64(7), np.int64(4), np.int64(7), np.int64(2), np.int64(9), np.int64(3), np.int64(0), np.int64(8), np.int64(8), np.int64(8), np.int64(4), np.int64(0), np.int64(4), np.int64(4), np.int64(1), np.int64(5), np.int64(2), np.int64(8), np.int64(3), np.int64(4), np.int64(9), np.int64(5), np.int64(2), np.int64(8), np.int64(1), np.int64(5), np.int64(3), np.int64(3), np.int64(9), np.int64(4), np.int64(2), np.int64(5), np.int64(6), np.int64(3), np.int64(5), np.int64(9), np.int64(3), np.int64(5), np.int64(9), np.int64(7), np.int64(1), np.int64(9), np.int64(5), np.int64(3), np.int64(0), np.int64(6), np.int64(9), np.int64(8), np.int64(4), np.int64(0), np.int64(4), np.int64(5), np.int64(2), np.int64(9), np.int64(0), np.int64(1), np.int64(0), np.int64(3), np.int64(1), np.int64(6), np.int64(5), np.int64(8), np.int64(1), np.int64(5), np.int64(3), np.int64(5), np.int64(0), np.int64(3), np.int64(5), np.int64(5), np.int64(9), np.int64(2), np.int64(8), np.int64(7), np.int64(0), np.int64(4), np.int64(9), np.int64(1), np.int64(9), np.int64(7), np.int64(7), np.int64(5), np.int64(5), np.int64(2), np.int64(0), np.int64(9), np.int64(1), np.int64(8), np.int64(6), np.int64(2), np.int64(3), np.int64(9), np.int64(6), np.int64(2), np.int64(1), np.int64(9), np.int64(1), np.int64(3), np.int64(5), np.int64(5), np.int64(0), np.int64(3), np.int64(8), np.int64(3), np.int64(3), np.int64(7), np.int64(6), np.int64(6), np.int64(0), np.int64(1), np.int64(4), np.int64(0), np.int64(6), np.int64(9), np.int64(8), np.int64(1), np.int64(2), np.int64(9), np.int64(9), np.int64(5), np.int64(9), np.int64(7), np.int64(3), np.int64(7), np.int64(8), np.int64(0), np.int64(1), np.int64(3), np.int64(0), np.int64(4), np.int64(6), np.int64(1), np.int64(0), np.int64(2), np.int64(5), np.int64(8), np.int64(4), np.int64(4), np.int64(1), np.int64(1), np.int64(5), np.int64(4), np.int64(6), np.int64(6), np.int64(0), np.int64(6), np.int64(9), np.int64(2), np.int64(6), np.int64(2), np.int64(7), np.int64(1), np.int64(7), np.int64(9), np.int64(4), np.int64(0), np.int64(0), np.int64(3), np.int64(8), np.int64(2), np.int64(2), np.int64(3), np.int64(1), np.int64(6), np.int64(0), np.int64(5), np.int64(7), np.int64(7), np.int64(9), np.int64(2), np.int64(6), np.int64(7), np.int64(9), np.int64(7), np.int64(8), np.int64(6), np.int64(8), np.int64(8), np.int64(4), np.int64(6), np.int64(8), np.int64(4), np.int64(1), np.int64(2), np.int64(8), np.int64(1), np.int64(3), np.int64(9), np.int64(4), np.int64(0), np.int64(3), np.int64(7), np.int64(3), np.int64(2), np.int64(3), np.int64(3), np.int64(7), np.int64(3), np.int64(4), np.int64(0), np.int64(6), np.int64(2), np.int64(0), np.int64(8), np.int64(1), np.int64(5), np.int64(3), np.int64(5), np.int64(4), np.int64(1), np.int64(7), np.int64(1), np.int64(5), np.int64(7), np.int64(5), np.int64(7), np.int64(3), np.int64(2), np.int64(2), np.int64(7), np.int64(3), np.int64(7), np.int64(3), np.int64(7), np.int64(8), np.int64(5), np.int64(4), np.int64(5), np.int64(2), np.int64(9), np.int64(6), np.int64(5), np.int64(3), np.int64(6), np.int64(7), np.int64(4), np.int64(1), np.int64(7), np.int64(1), np.int64(5), np.int64(2), np.int64(3), np.int64(6), np.int64(3), np.int64(1), np.int64(4), np.int64(2), np.int64(6), np.int64(7), np.int64(4), np.int64(3), np.int64(8), np.int64(0), np.int64(6), np.int64(2), np.int64(1), np.int64(6), np.int64(5), np.int64(3), np.int64(9), np.int64(1), np.int64(9), np.int64(3), np.int64(2), np.int64(1), np.int64(8), np.int64(4), np.int64(4), np.int64(6), np.int64(5), np.int64(8), np.int64(6), np.int64(9), np.int64(7), np.int64(7), np.int64(8), np.int64(6), np.int64(9), np.int64(7), np.int64(3), np.int64(9), np.int64(4), np.int64(0), np.int64(5), np.int64(4), np.int64(6), np.int64(4), np.int64(1), np.int64(2), np.int64(3), np.int64(0), np.int64(0), np.int64(2), np.int64(6), np.int64(6), np.int64(5), np.int64(7), np.int64(0), np.int64(8), np.int64(6), np.int64(4), np.int64(7), np.int64(9), np.int64(0), np.int64(7), np.int64(3), np.int64(4), np.int64(2), np.int64(1), np.int64(8), np.int64(8), np.int64(5), np.int64(9), np.int64(2), np.int64(7), np.int64(1), np.int64(8), np.int64(8), np.int64(3), np.int64(2), np.int64(7), np.int64(6), np.int64(0), np.int64(1), np.int64(2), np.int64(7), np.int64(1), np.int64(0), np.int64(8), np.int64(3), np.int64(6), np.int64(0), np.int64(5), np.int64(3), np.int64(6), np.int64(2), np.int64(8), np.int64(7), np.int64(0), np.int64(1), np.int64(4), np.int64(2), np.int64(1), np.int64(1), np.int64(4), np.int64(4), np.int64(4), np.int64(4), np.int64(7), np.int64(1), np.int64(6), np.int64(2), np.int64(9), np.int64(9), np.int64(0), np.int64(0), np.int64(1), np.int64(8), np.int64(8), np.int64(4), np.int64(3), np.int64(4), np.int64(2), np.int64(9), np.int64(6), np.int64(1), np.int64(6), np.int64(1), np.int64(2), np.int64(2), np.int64(2), np.int64(1), np.int64(2), np.int64(3), np.int64(7), np.int64(8), np.int64(1), np.int64(0), np.int64(0), np.int64(2), np.int64(1), np.int64(6), np.int64(6), np.int64(0), np.int64(1), np.int64(6), np.int64(2), np.int64(5), np.int64(1), np.int64(7), np.int64(4), np.int64(8), np.int64(2), np.int64(1), np.int64(4), np.int64(3), np.int64(8), np.int64(3), np.int64(9), np.int64(9), np.int64(4), np.int64(9), np.int64(3), np.int64(4), np.int64(7), np.int64(2), np.int64(7), np.int64(5), np.int64(7), np.int64(0), np.int64(4), np.int64(3), np.int64(3), np.int64(2), np.int64(6), np.int64(7), np.int64(6), np.int64(0), np.int64(0), np.int64(6), np.int64(7), np.int64(7), np.int64(0), np.int64(5), np.int64(5), np.int64(8), np.int64(1), np.int64(0), np.int64(7), np.int64(0), np.int64(2), np.int64(8), np.int64(1), np.int64(5), np.int64(0), np.int64(8), np.int64(8), np.int64(0), np.int64(3), np.int64(2), np.int64(7), np.int64(7), np.int64(3), np.int64(6), np.int64(4), np.int64(7), np.int64(5), np.int64(5), np.int64(5), np.int64(2), np.int64(9), np.int64(2), np.int64(8), np.int64(4), np.int64(6), np.int64(8), np.int64(6), np.int64(5), np.int64(0), np.int64(0), np.int64(8), np.int64(7), np.int64(6), np.int64(1), np.int64(7), np.int64(1), np.int64(1), np.int64(2), np.int64(7), np.int64(4), np.int64(0), np.int64(0), np.int64(7), np.int64(7), np.int64(6), np.int64(3), np.int64(8), np.int64(6), np.int64(4), np.int64(2), np.int64(0), np.int64(9), np.int64(4), np.int64(0), np.int64(5), np.int64(7), np.int64(8), np.int64(3), np.int64(7), np.int64(4), np.int64(7), np.int64(1), np.int64(1), np.int64(3), np.int64(6), np.int64(6), np.int64(2), np.int64(9), np.int64(1), np.int64(9), np.int64(4), np.int64(8), np.int64(3), np.int64(6), np.int64(9), np.int64(5), np.int64(9), np.int64(6), np.int64(2), np.int64(4), np.int64(6), np.int64(7), np.int64(7), np.int64(0), np.int64(6), np.int64(6), np.int64(9), np.int64(9), np.int64(8), np.int64(3), np.int64(5), np.int64(3), np.int64(4), np.int64(9), np.int64(0), np.int64(0), np.int64(5), np.int64(2), np.int64(5), np.int64(0), np.int64(7), np.int64(1), np.int64(1), np.int64(1), np.int64(0), np.int64(7), np.int64(6), np.int64(7), np.int64(9), np.int64(6), np.int64(6), np.int64(4), np.int64(1), np.int64(4), np.int64(3), np.int64(1), np.int64(1), np.int64(2), np.int64(2), np.int64(4), np.int64(1), np.int64(0), np.int64(8), np.int64(7), np.int64(6), np.int64(3), np.int64(4), np.int64(0), np.int64(0), np.int64(6), np.int64(3), np.int64(3), np.int64(0), np.int64(9), np.int64(1), np.int64(7), np.int64(1), np.int64(1), np.int64(3), np.int64(1), np.int64(0), np.int64(9), np.int64(9), np.int64(7), np.int64(5), np.int64(4), np.int64(1), np.int64(4), np.int64(8), np.int64(9), np.int64(5), np.int64(3), np.int64(5), np.int64(1), np.int64(9), np.int64(8), np.int64(2), np.int64(3), np.int64(3), np.int64(9), np.int64(9), np.int64(0), np.int64(1), np.int64(0), np.int64(2), np.int64(9), np.int64(3), np.int64(9), np.int64(3), np.int64(3), np.int64(6), np.int64(2), np.int64(4), np.int64(9), np.int64(8), np.int64(3), np.int64(7), np.int64(4), np.int64(0), np.int64(4), np.int64(7), np.int64(8), np.int64(4), np.int64(9), np.int64(8), np.int64(1), np.int64(9), np.int64(7), np.int64(5), np.int64(9), np.int64(2), np.int64(8), np.int64(2), np.int64(2), np.int64(0), np.int64(2), np.int64(2), np.int64(3), np.int64(8), np.int64(4), np.int64(6), np.int64(8), np.int64(4), np.int64(8), np.int64(2), np.int64(4), np.int64(6), np.int64(7), np.int64(9), np.int64(3), np.int64(3), np.int64(9), np.int64(4), np.int64(3), np.int64(1), np.int64(4), np.int64(4), np.int64(7), np.int64(0), np.int64(5), np.int64(9), np.int64(6), np.int64(0), np.int64(4), np.int64(4), np.int64(4), np.int64(4), np.int64(6), np.int64(1), np.int64(2), np.int64(3), np.int64(2), np.int64(6), np.int64(4), np.int64(5), np.int64(9), np.int64(6), np.int64(8), np.int64(5), np.int64(6), np.int64(0), np.int64(8), np.int64(6), np.int64(4), np.int64(1), np.int64(8), np.int64(6), np.int64(5), np.int64(2), np.int64(5), np.int64(4), np.int64(5), np.int64(5), np.int64(4), np.int64(7), np.int64(7), np.int64(0), np.int64(7), np.int64(8), np.int64(2), np.int64(2), np.int64(3), np.int64(7), np.int64(0), np.int64(1), np.int64(8), np.int64(0), np.int64(7), np.int64(1), np.int64(9), np.int64(8), np.int64(7), np.int64(5), np.int64(5), np.int64(9), np.int64(1), np.int64(7), np.int64(5), np.int64(4), np.int64(9), np.int64(1), np.int64(2), np.int64(2), np.int64(1), np.int64(6), np.int64(6), np.int64(7), np.int64(1), np.int64(1), np.int64(4), np.int64(0), np.int64(7), np.int64(4), np.int64(2), np.int64(4), np.int64(0), np.int64(6), np.int64(4), np.int64(7), np.int64(6), np.int64(9), np.int64(5), np.int64(3), np.int64(4), np.int64(6), np.int64(5), np.int64(0), np.int64(1), np.int64(8), np.int64(8), np.int64(2), np.int64(8), np.int64(3), np.int64(5), np.int64(7), np.int64(8), np.int64(0), np.int64(8), np.int64(5), np.int64(7), np.int64(1), np.int64(1), np.int64(0), np.int64(1), np.int64(3), np.int64(7), np.int64(8), np.int64(5), np.int64(0), np.int64(7), np.int64(1), np.int64(1), np.int64(0), np.int64(1), np.int64(1), np.int64(4), np.int64(5), np.int64(2), np.int64(7), np.int64(6), np.int64(2), np.int64(3), np.int64(0), np.int64(2), np.int64(0), np.int64(5), np.int64(9), np.int64(6), np.int64(9), np.int64(7), np.int64(2), np.int64(1), np.int64(3), np.int64(6), np.int64(4), np.int64(1), np.int64(8), np.int64(2), np.int64(4), np.int64(0), np.int64(5), np.int64(1), np.int64(0), np.int64(3), np.int64(2), np.int64(6), np.int64(4), np.int64(4), np.int64(3), np.int64(9), np.int64(6), np.int64(1), np.int64(6), np.int64(5), np.int64(7), np.int64(9), np.int64(2), np.int64(0), np.int64(2), np.int64(6), np.int64(0), np.int64(1), np.int64(4), np.int64(3), np.int64(5), np.int64(2), np.int64(8), np.int64(8), np.int64(0), np.int64(8), np.int64(8), np.int64(9), np.int64(0), np.int64(9), np.int64(6), np.int64(7), np.int64(6), np.int64(3), np.int64(9), np.int64(3), np.int64(4), np.int64(7), np.int64(7), np.int64(7), np.int64(4), np.int64(9), np.int64(0), np.int64(6), np.int64(4), np.int64(5), np.int64(4), np.int64(2), np.int64(7), np.int64(2), np.int64(8), np.int64(1), np.int64(0), np.int64(0), np.int64(7), np.int64(8), np.int64(3), np.int64(3), np.int64(3), np.int64(1), np.int64(3), np.int64(7), np.int64(6), np.int64(1), np.int64(3), np.int64(1), np.int64(6), np.int64(0), np.int64(5), np.int64(2), np.int64(4), np.int64(7), np.int64(5), np.int64(9), np.int64(5), np.int64(3), np.int64(4), np.int64(9), np.int64(9), np.int64(1), np.int64(6), np.int64(5), np.int64(0), np.int64(1), np.int64(3), np.int64(7), np.int64(0), np.int64(3), np.int64(4), np.int64(8), np.int64(2), np.int64(2), np.int64(0), np.int64(2), np.int64(5), np.int64(1), np.int64(5), np.int64(1), np.int64(4), np.int64(8), np.int64(8), np.int64(9), np.int64(1), np.int64(7), np.int64(1), np.int64(3), np.int64(5), np.int64(1), np.int64(0), np.int64(9), np.int64(4), np.int64(4), np.int64(8), np.int64(3), np.int64(8), np.int64(5), np.int64(4), np.int64(7), np.int64(6), np.int64(6), np.int64(2), np.int64(0), np.int64(0), np.int64(0), np.int64(5), np.int64(8), np.int64(8), np.int64(1), np.int64(5), np.int64(2), np.int64(3), np.int64(8), np.int64(5), np.int64(1), np.int64(8), np.int64(2), np.int64(6), np.int64(4), np.int64(9), np.int64(9), np.int64(6), np.int64(2), np.int64(3), np.int64(3), np.int64(5), np.int64(6), np.int64(4), np.int64(8), np.int64(0), np.int64(9), np.int64(2), np.int64(8), np.int64(3), np.int64(6), np.int64(7), np.int64(5), np.int64(1), np.int64(2), np.int64(9), np.int64(4), np.int64(9), np.int64(1), np.int64(2), np.int64(8), np.int64(6), np.int64(0), np.int64(7), np.int64(0), np.int64(9), np.int64(1), np.int64(1), np.int64(2), np.int64(7), np.int64(5), np.int64(9), np.int64(9), np.int64(1), np.int64(9), np.int64(5), np.int64(9), np.int64(2), np.int64(5), np.int64(0), np.int64(4), np.int64(1), np.int64(0), np.int64(8), np.int64(9), np.int64(0), np.int64(3), np.int64(9), np.int64(8), np.int64(9), np.int64(4), np.int64(8), np.int64(5), np.int64(7), np.int64(9), np.int64(8), np.int64(9), np.int64(8), np.int64(0), np.int64(9), np.int64(9), np.int64(6), np.int64(8), np.int64(9), np.int64(9), np.int64(5), np.int64(9), np.int64(8), np.int64(6), np.int64(1), np.int64(0), np.int64(3), np.int64(3), np.int64(5), np.int64(2), np.int64(1), np.int64(6), np.int64(3), np.int64(0), np.int64(2), np.int64(8), np.int64(3), np.int64(5), np.int64(6), np.int64(2), np.int64(3), np.int64(0), np.int64(2), np.int64(2), np.int64(6), np.int64(4), np.int64(3), np.int64(5), np.int64(5), np.int64(1), np.int64(7), np.int64(2), np.int64(1), np.int64(6), np.int64(9), np.int64(1), np.int64(3), np.int64(9), np.int64(5), np.int64(5), np.int64(1), np.int64(6), np.int64(2), np.int64(2), np.int64(8), np.int64(6), np.int64(7), np.int64(1), np.int64(4), np.int64(6), np.int64(0), np.int64(2), np.int64(0), np.int64(5), np.int64(3), np.int64(2), np.int64(8), np.int64(3), np.int64(6), np.int64(8), np.int64(9), np.int64(8), np.int64(5), np.int64(3), np.int64(8), np.int64(5), np.int64(4), np.int64(5), np.int64(2), np.int64(0), np.int64(5), np.int64(6), np.int64(3), np.int64(2), np.int64(8), np.int64(3), np.int64(9), np.int64(9), np.int64(5), np.int64(7), np.int64(9), np.int64(4), np.int64(6), np.int64(7), np.int64(1), np.int64(3), np.int64(3), np.int64(3), np.int64(6), np.int64(6), np.int64(0), np.int64(9), np.int64(0), np.int64(1), np.int64(9), np.int64(4), np.int64(2), np.int64(8), np.int64(8), np.int64(0), np.int64(1), np.int64(6), np.int64(9), np.int64(7), np.int64(0), np.int64(3), np.int64(4), np.int64(7), np.int64(4), np.int64(9), np.int64(8), np.int64(4), np.int64(3), np.int64(6), np.int64(3), np.int64(1), np.int64(1), np.int64(4), np.int64(6), np.int64(9), np.int64(1), np.int64(8), np.int64(4), np.int64(1), np.int64(1), np.int64(9), np.int64(9), np.int64(4), np.int64(3), np.int64(6), np.int64(8), np.int64(1), np.int64(6), np.int64(0), np.int64(4), np.int64(1), np.int64(3), np.int64(7), np.int64(7), np.int64(4), np.int64(9), np.int64(5), np.int64(1), np.int64(0), np.int64(0), np.int64(1), np.int64(1), np.int64(6), np.int64(2), np.int64(1), np.int64(9), np.int64(8), np.int64(4), np.int64(0), np.int64(3), np.int64(6), np.int64(4), np.int64(9), np.int64(0), np.int64(7), np.int64(1), np.int64(6), np.int64(5), np.int64(7), np.int64(5), np.int64(2), np.int64(5), np.int64(1), np.int64(8), np.int64(5), np.int64(4), np.int64(7), np.int64(0), np.int64(6), np.int64(7), np.int64(3), np.int64(2), np.int64(5), np.int64(8), np.int64(1), np.int64(0), np.int64(4), np.int64(5), np.int64(7), np.int64(1), np.int64(3), np.int64(5), np.int64(1), np.int64(3), np.int64(0), np.int64(0), np.int64(6), np.int64(0), np.int64(7), np.int64(3), np.int64(1), np.int64(8), np.int64(3), np.int64(9), np.int64(7), np.int64(0), np.int64(0), np.int64(8), np.int64(4), np.int64(5), np.int64(9), np.int64(8), np.int64(3), np.int64(2), np.int64(7), np.int64(3), np.int64(9), np.int64(7), np.int64(2), np.int64(1), np.int64(1), np.int64(3), np.int64(7), np.int64(5), np.int64(3), np.int64(1), np.int64(9), np.int64(8), np.int64(2), np.int64(2), np.int64(2), np.int64(8), np.int64(8), np.int64(5), np.int64(7), np.int64(3), np.int64(8), np.int64(9), np.int64(3), np.int64(8), np.int64(6), np.int64(8), np.int64(2), np.int64(3), np.int64(9), np.int64(7), np.int64(5), np.int64(6), np.int64(2), np.int64(9), np.int64(2), np.int64(8), np.int64(8), np.int64(1), np.int64(2), np.int64(2), np.int64(8), np.int64(7), np.int64(9), np.int64(1), np.int64(8), np.int64(0), np.int64(1), np.int64(7), np.int64(2), np.int64(0), np.int64(7), np.int64(5), np.int64(1), np.int64(9), np.int64(0), np.int64(3), np.int64(0), np.int64(9), np.int64(8), np.int64(6), np.int64(2), np.int64(3), np.int64(7), np.int64(3), np.int64(8), np.int64(0), np.int64(2), np.int64(1), np.int64(1), np.int64(1), np.int64(1), np.int64(4), np.int64(2), np.int64(9), np.int64(7), np.int64(7), np.int64(5), np.int64(1), np.int64(1), np.int64(2), np.int64(1), np.int64(9), np.int64(9), np.int64(9), np.int64(1), np.int64(0), np.int64(2), np.int64(0), np.int64(2), np.int64(1), np.int64(1), np.int64(4), np.int64(6), np.int64(4), np.int64(1), np.int64(5), np.int64(4), np.int64(9), np.int64(9), np.int64(7), np.int64(7), np.int64(5), np.int64(6), np.int64(2), np.int64(2), np.int64(2), np.int64(3), np.int64(0), np.int64(6), np.int64(9), np.int64(6), np.int64(1), np.int64(9), np.int64(7), np.int64(7), np.int64(1), np.int64(4), np.int64(8), np.int64(5), np.int64(3), np.int64(4), np.int64(3), np.int64(4), np.int64(7), np.int64(7), np.int64(5), np.int64(0), np.int64(7), np.int64(4), np.int64(8), np.int64(8), np.int64(1), np.int64(5), np.int64(3), np.int64(9), np.int64(5), np.int64(9), np.int64(7), np.int64(6), np.int64(9), np.int64(0), np.int64(3), np.int64(6), np.int64(3), np.int64(9), np.int64(8), np.int64(2), np.int64(8), np.int64(1), np.int64(2), np.int64(8), np.int64(6), np.int64(8), np.int64(5), np.int64(5), np.int64(3), np.int64(9), np.int64(4), np.int64(9), np.int64(2), np.int64(5), np.int64(1), np.int64(5), np.int64(1), np.int64(4), np.int64(4), np.int64(1), np.int64(4), np.int64(4), np.int64(3), np.int64(5), np.int64(9), np.int64(1), np.int64(2), np.int64(2), np.int64(3), np.int64(3), np.int64(0), np.int64(2), np.int64(9), np.int64(0), np.int64(0), np.int64(9), np.int64(9), np.int64(6), np.int64(0), np.int64(9), np.int64(3), np.int64(7), np.int64(8), np.int64(4), np.int64(1), np.int64(9), np.int64(7), np.int64(7), np.int64(2), np.int64(7), np.int64(9), np.int64(9), np.int64(5), np.int64(9), np.int64(5), np.int64(1), np.int64(1), np.int64(8), np.int64(3), np.int64(5), np.int64(1), np.int64(9), np.int64(5), np.int64(3), np.int64(5), np.int64(4), np.int64(7), np.int64(5), np.int64(9), np.int64(3), np.int64(1), np.int64(9), np.int64(0), np.int64(9), np.int64(7), np.int64(5), np.int64(4), np.int64(9), np.int64(2), np.int64(0), np.int64(1), np.int64(0), np.int64(5), np.int64(1), np.int64(4), np.int64(9), np.int64(3), np.int64(3), np.int64(6), np.int64(1), np.int64(5), np.int64(2), np.int64(5), np.int64(2), np.int64(2), np.int64(0), np.int64(3), np.int64(2), np.int64(6), np.int64(6), np.int64(0), np.int64(1), np.int64(3), np.int64(0), np.int64(3), np.int64(0), np.int64(2), np.int64(3), np.int64(5), np.int64(7), np.int64(9), np.int64(5), np.int64(5), np.int64(0), np.int64(8), np.int64(9), np.int64(5), np.int64(0), np.int64(3), np.int64(2), np.int64(5), np.int64(4), np.int64(0), np.int64(8), np.int64(8), np.int64(4), np.int64(6), np.int64(8), np.int64(8), np.int64(4), np.int64(5), np.int64(4), np.int64(8), np.int64(5), np.int64(4), np.int64(9), np.int64(3), np.int64(2), np.int64(1), np.int64(2), np.int64(6), np.int64(8), np.int64(8), np.int64(7), np.int64(0), np.int64(3), np.int64(6), np.int64(6), np.int64(4), np.int64(3), np.int64(8), np.int64(8), np.int64(7), np.int64(2), np.int64(2), np.int64(9), np.int64(0), np.int64(4), np.int64(3), np.int64(9), np.int64(9), np.int64(1), np.int64(9), np.int64(8), np.int64(6), np.int64(6), np.int64(4), np.int64(2), np.int64(6), np.int64(9), np.int64(2), np.int64(8), np.int64(5), np.int64(4), np.int64(5), np.int64(7), np.int64(9), np.int64(4), np.int64(9), np.int64(2), np.int64(1), np.int64(8), np.int64(3), np.int64(4), np.int64(0), np.int64(7), np.int64(8), np.int64(3), np.int64(9), np.int64(3), np.int64(4), np.int64(6), np.int64(5), np.int64(6), np.int64(2), np.int64(3), np.int64(9), np.int64(2), np.int64(6), np.int64(0), np.int64(0), np.int64(6), np.int64(1), np.int64(2), np.int64(8), np.int64(7), np.int64(9), np.int64(8), np.int64(2), np.int64(0), np.int64(4), np.int64(7), np.int64(7), np.int64(5), np.int64(0), np.int64(5), np.int64(6), np.int64(4), np.int64(6), np.int64(7), np.int64(4), np.int64(3), np.int64(0), np.int64(7), np.int64(5), np.int64(0), np.int64(7), np.int64(4), np.int64(2), np.int64(0), np.int64(8), np.int64(9), np.int64(9), np.int64(4), np.int64(2), np.int64(4), np.int64(6), np.int64(7), np.int64(8), np.int64(7), np.int64(6), np.int64(9), np.int64(4), np.int64(1), np.int64(3), np.int64(7), np.int64(3), np.int64(0), np.int64(8), np.int64(7), np.int64(7), np.int64(6), np.int64(9), np.int64(3), np.int64(9), np.int64(2), np.int64(2), np.int64(7), np.int64(2), np.int64(1), np.int64(8), np.int64(3), np.int64(2), np.int64(9), np.int64(6), np.int64(8), np.int64(4), np.int64(0), np.int64(1), np.int64(2), np.int64(8), np.int64(4), np.int64(5), np.int64(7), np.int64(7), np.int64(8), np.int64(1), np.int64(1), np.int64(3), np.int64(0), np.int64(3), np.int64(5), np.int64(7), np.int64(0), np.int64(3), np.int64(1), np.int64(8), np.int64(3), np.int64(5), np.int64(3), np.int64(1), np.int64(7), np.int64(7), np.int64(3), np.int64(0), np.int64(8), np.int64(4), np.int64(8), np.int64(2), np.int64(2), np.int64(5), np.int64(2), np.int64(9), np.int64(7), np.int64(9), np.int64(9), np.int64(0), np.int64(9), np.int64(9), np.int64(6), np.int64(4), np.int64(2), np.int64(9), np.int64(7), np.int64(2), np.int64(1), np.int64(1), np.int64(6), np.int64(7), np.int64(9), np.int64(7), np.int64(5), np.int64(9), np.int64(6), np.int64(8), np.int64(2), np.int64(1), np.int64(4), np.int64(4), np.int64(5), np.int64(7), np.int64(6), np.int64(1), np.int64(3), np.int64(2), np.int64(5), np.int64(9), np.int64(9), np.int64(3), np.int64(6), np.int64(1), np.int64(1), np.int64(4), np.int64(6), np.int64(9), np.int64(7), np.int64(2), np.int64(1), np.int64(5), np.int64(1), np.int64(4), np.int64(6), np.int64(3), np.int64(8), np.int64(1), np.int64(1), np.int64(0), np.int64(3), np.int64(1), np.int64(6), np.int64(8), np.int64(4), np.int64(9), np.int64(0), np.int64(7), np.int64(3), np.int64(0), np.int64(2), np.int64(9), np.int64(0), np.int64(6), np.int64(6), np.int64(6), np.int64(3), np.int64(6), np.int64(7), np.int64(7), np.int64(2), np.int64(8), np.int64(6), np.int64(0), np.int64(8), np.int64(3), np.int64(0), np.int64(2), np.int64(9), np.int64(8), np.int64(3), np.int64(2), np.int64(5), np.int64(3), np.int64(8), np.int64(8), np.int64(0), np.int64(0), np.int64(1), np.int64(9), np.int64(5), np.int64(1), np.int64(3), np.int64(9), np.int64(6), np.int64(0), np.int64(1), np.int64(4), np.int64(1), np.int64(7), np.int64(1), np.int64(2), np.int64(3), np.int64(7), np.int64(9), np.int64(7), np.int64(4), np.int64(9), np.int64(9), np.int64(3), np.int64(4), np.int64(2), np.int64(8), np.int64(2), np.int64(7), np.int64(1), np.int64(8), np.int64(0), np.int64(9), np.int64(1), np.int64(0), np.int64(1), np.int64(7), np.int64(7), np.int64(9), np.int64(6), np.int64(9), np.int64(9), np.int64(9), np.int64(2), np.int64(1), np.int64(6), np.int64(1), np.int64(3), np.int64(5), np.int64(7), np.int64(1), np.int64(9), np.int64(7), np.int64(6), np.int64(4), np.int64(5), np.int64(7), np.int64(6), np.int64(6), np.int64(9), np.int64(9), np.int64(6), np.int64(3), np.int64(6), np.int64(2), np.int64(9), np.int64(8), np.int64(1), np.int64(2), np.int64(2), np.int64(5), np.int64(5), np.int64(2), np.int64(3), np.int64(7), np.int64(2), np.int64(1), np.int64(0), np.int64(1), np.int64(0), np.int64(4), np.int64(5), np.int64(3), np.int64(8), np.int64(2), np.int64(8), np.int64(3), np.int64(5), np.int64(1), np.int64(7), np.int64(7), np.int64(1), np.int64(1), np.int64(2), np.int64(9), np.int64(7), np.int64(8), np.int64(4), np.int64(0), np.int64(5), np.int64(0), np.int64(7), np.int64(8), np.int64(8), np.int64(4), np.int64(7), np.int64(7), np.int64(8), np.int64(5), np.int64(8), np.int64(6), np.int64(9), np.int64(8), np.int64(1), np.int64(3), np.int64(8), np.int64(0), np.int64(3), np.int64(1), np.int64(7), np.int64(8), np.int64(5), np.int64(5), np.int64(1), np.int64(6), np.int64(5), np.int64(7), np.int64(4), np.int64(9), np.int64(3), np.int64(5), np.int64(4), np.int64(7), np.int64(1), np.int64(2), np.int64(0), np.int64(8), np.int64(1), np.int64(6), np.int64(0), np.int64(7), np.int64(3), np.int64(4), np.int64(7), np.int64(3), np.int64(9), np.int64(6), np.int64(0), np.int64(8), np.int64(6), np.int64(4), np.int64(8), np.int64(7), np.int64(7), np.int64(9), np.int64(3), np.int64(8), np.int64(6), np.int64(9), np.int64(7), np.int64(2), np.int64(3), np.int64(4), np.int64(0), np.int64(2), np.int64(1), np.int64(3), np.int64(3), np.int64(5), np.int64(5), np.int64(7), np.int64(2), np.int64(4), np.int64(7), np.int64(7), np.int64(2), np.int64(8), np.int64(3), np.int64(0), np.int64(8), np.int64(7), np.int64(8), np.int64(6), np.int64(0), np.int64(8), np.int64(4), np.int64(4), np.int64(5), np.int64(8), np.int64(5), np.int64(6), np.int64(6), np.int64(3), np.int64(0), np.int64(9), np.int64(3), np.int64(7), np.int64(6), np.int64(3), np.int64(9), np.int64(3), np.int64(4), np.int64(9), np.int64(5), np.int64(8), np.int64(9), np.int64(1), np.int64(2), np.int64(8), np.int64(8), np.int64(6), np.int64(8), np.int64(1), np.int64(3), np.int64(7), np.int64(9), np.int64(0), np.int64(1), np.int64(1), np.int64(4), np.int64(7), np.int64(0), np.int64(8), np.int64(1), np.int64(7), np.int64(4), np.int64(5), np.int64(7), np.int64(1), np.int64(2), np.int64(1), np.int64(1), np.int64(3), np.int64(9), np.int64(6), np.int64(2), np.int64(1), np.int64(2), np.int64(8), np.int64(8), np.int64(7), np.int64(6), np.int64(6), np.int64(9), np.int64(3), np.int64(7), np.int64(0), np.int64(5), np.int64(2), np.int64(3), np.int64(0), np.int64(5), np.int64(4), np.int64(3), np.int64(8), np.int64(4), np.int64(6), np.int64(6), np.int64(2), np.int64(7), np.int64(9), np.int64(5), np.int64(1), np.int64(3), np.int64(2), np.int64(4), np.int64(3), np.int64(6), np.int64(1), np.int64(9), np.int64(4), np.int64(4), np.int64(7), np.int64(6), np.int64(5), np.int64(4), np.int64(1), np.int64(9), np.int64(9), np.int64(2), np.int64(7), np.int64(8), np.int64(0), np.int64(1), np.int64(3), np.int64(6), np.int64(1), np.int64(3), np.int64(4), np.int64(1), np.int64(1), np.int64(1), np.int64(5), np.int64(6), np.int64(0), np.int64(7), np.int64(0), np.int64(7), np.int64(2), np.int64(3), np.int64(2), np.int64(5), np.int64(2), np.int64(2), np.int64(9), np.int64(4), np.int64(9), np.int64(8), np.int64(1), np.int64(2), np.int64(1), np.int64(6), np.int64(1), np.int64(2), np.int64(7), np.int64(8), np.int64(0), np.int64(0), np.int64(0), np.int64(8), np.int64(2), np.int64(2), np.int64(9), np.int64(2), np.int64(2), np.int64(3), np.int64(9), np.int64(9), np.int64(2), np.int64(7), np.int64(5), np.int64(1), np.int64(3), np.int64(4), np.int64(9), np.int64(4), np.int64(1), np.int64(8), np.int64(5), np.int64(6), np.int64(2), np.int64(8), np.int64(3), np.int64(1), np.int64(2), np.int64(8), np.int64(4), np.int64(9), np.int64(9), np.int64(3), np.int64(7), np.int64(0), np.int64(7), np.int64(7), np.int64(2), np.int64(3), np.int64(3), np.int64(4), np.int64(0), np.int64(3), np.int64(8), np.int64(9), np.int64(8), np.int64(4), np.int64(1), np.int64(0), np.int64(6), np.int64(0), np.int64(9), np.int64(6), np.int64(8), np.int64(6), np.int64(1), np.int64(1), np.int64(9), np.int64(8), np.int64(9), np.int64(2), np.int64(3), np.int64(5), np.int64(5), np.int64(9), np.int64(4), np.int64(2), np.int64(1), np.int64(9), np.int64(4), np.int64(3), np.int64(9), np.int64(6), np.int64(0), np.int64(4), np.int64(0), np.int64(6), np.int64(0), np.int64(1), np.int64(2), np.int64(3), np.int64(4), np.int64(7), np.int64(8), np.int64(9), np.int64(0), np.int64(1), np.int64(2), np.int64(3), np.int64(4), np.int64(7), np.int64(8), np.int64(9), np.int64(0), np.int64(1), np.int64(2), np.int64(3), np.int64(4), np.int64(5), np.int64(6), np.int64(7), np.int64(8), np.int64(9), np.int64(8), np.int64(3), np.int64(4), np.int64(7), np.int64(8), np.int64(6), np.int64(3), np.int64(4), np.int64(0), np.int64(9), np.int64(7), np.int64(1), np.int64(9), np.int64(3), np.int64(8), np.int64(4), np.int64(7), np.int64(3), np.int64(0), np.int64(9), np.int64(1), np.int64(4), np.int64(5), np.int64(4), np.int64(6), np.int64(2), np.int64(0), np.int64(6), np.int64(2), np.int64(1), np.int64(1), np.int64(1), np.int64(1), np.int64(7), np.int64(2), np.int64(4), np.int64(7), np.int64(5), np.int64(2), np.int64(9), np.int64(4), np.int64(5), np.int64(8), np.int64(4), np.int64(2), np.int64(9), np.int64(7), np.int64(0), np.int64(0), np.int64(7), np.int64(5), np.int64(1), np.int64(1), np.int64(7), np.int64(6), np.int64(6), np.int64(6), np.int64(8), np.int64(2), np.int64(2), np.int64(7), np.int64(7), np.int64(4), np.int64(0), np.int64(2), np.int64(4), np.int64(2), np.int64(1), np.int64(8), np.int64(9), np.int64(6), np.int64(1), np.int64(0), np.int64(5), np.int64(9), np.int64(6), np.int64(9), np.int64(8), np.int64(0), np.int64(6), np.int64(0), np.int64(8), np.int64(3), np.int64(9), np.int64(6), np.int64(3), np.int64(0), np.int64(1), np.int64(2), np.int64(3), np.int64(4), np.int64(5), np.int64(6), np.int64(7), np.int64(0), np.int64(1), np.int64(2), np.int64(3), np.int64(4), np.int64(5), np.int64(6), np.int64(7), np.int64(8), np.int64(9), np.int64(0), np.int64(1), np.int64(2), np.int64(3), np.int64(4), np.int64(5), np.int64(6), np.int64(7), np.int64(8), np.int64(5), np.int64(4), np.int64(8), np.int64(7), np.int64(4), np.int64(7), np.int64(7), np.int64(3), np.int64(9), np.int64(8), np.int64(8), np.int64(3), np.int64(1), np.int64(5), np.int64(8), np.int64(2), np.int64(7), np.int64(4), np.int64(2), np.int64(1), np.int64(5), np.int64(4), np.int64(5), np.int64(5), np.int64(8), np.int64(6), np.int64(4), np.int64(4), np.int64(4), np.int64(1), np.int64(8), np.int64(7), np.int64(5), np.int64(5), np.int64(1), np.int64(8), np.int64(9), np.int64(1), np.int64(3), np.int64(6), np.int64(3), np.int64(3), np.int64(2), np.int64(3), np.int64(6), np.int64(9), np.int64(9), np.int64(6), np.int64(5), np.int64(5), np.int64(3), np.int64(3), np.int64(8), np.int64(1), np.int64(6), np.int64(5), np.int64(6), np.int64(8), np.int64(1), np.int64(9), np.int64(7), np.int64(6), np.int64(8), np.int64(3), np.int64(7), np.int64(4), np.int64(7), np.int64(0), np.int64(9), np.int64(0), np.int64(0), np.int64(3), np.int64(7), np.int64(9), np.int64(3), np.int64(0), np.int64(2), np.int64(0), np.int64(1), np.int64(0), np.int64(1), np.int64(0), np.int64(4), np.int64(0), np.int64(1), np.int64(0), np.int64(4), np.int64(7), np.int64(9), np.int64(6), np.int64(2), np.int64(6), np.int64(2), np.int64(2), np.int64(9), np.int64(9), np.int64(0), np.int64(1), np.int64(2), np.int64(3), np.int64(4), np.int64(5), np.int64(6), np.int64(7), np.int64(8), np.int64(9), np.int64(0), np.int64(1), np.int64(2), np.int64(3), np.int64(4), np.int64(5), np.int64(6), np.int64(7), np.int64(8), np.int64(9), np.int64(0), np.int64(1), np.int64(2), np.int64(3), np.int64(4), np.int64(5), np.int64(6), np.int64(7), np.int64(8), np.int64(9), np.int64(8), np.int64(0), np.int64(5), np.int64(6), np.int64(6), np.int64(0), np.int64(8), np.int64(0), np.int64(2), np.int64(3), np.int64(7), np.int64(9), np.int64(4), np.int64(7), np.int64(1), np.int64(9), np.int64(1), np.int64(7), np.int64(1), np.int64(4), np.int64(0), np.int64(0), np.int64(4), np.int64(1), np.int64(7), np.int64(5), np.int64(7), np.int64(1), np.int64(3), np.int64(3), np.int64(3), np.int64(6), np.int64(6), np.int64(9), np.int64(7), np.int64(4), np.int64(3), np.int64(0), np.int64(2), np.int64(5), np.int64(2), np.int64(6), np.int64(0), np.int64(8), np.int64(9), np.int64(4), np.int64(3), np.int64(5), np.int64(4), np.int64(8), np.int64(1), np.int64(5), np.int64(9), np.int64(0), np.int64(6), np.int64(4), np.int64(3), np.int64(6), np.int64(3), np.int64(3), np.int64(8), np.int64(1), np.int64(4), np.int64(7), np.int64(5), np.int64(7), np.int64(2), np.int64(2), np.int64(0), np.int64(0), np.int64(1), np.int64(7), np.int64(7), np.int64(9), np.int64(5), np.int64(9), np.int64(8), np.int64(9), np.int64(6), np.int64(8), np.int64(8), np.int64(2), np.int64(3), np.int64(6), np.int64(1), np.int64(2), np.int64(9), np.int64(8), np.int64(9), np.int64(5), np.int64(2), np.int64(6), np.int64(2), np.int64(4), np.int64(8), np.int64(4), np.int64(6), np.int64(5), np.int64(0), np.int64(1), np.int64(5), np.int64(6), np.int64(7), np.int64(8), np.int64(9), np.int64(0), np.int64(1), np.int64(2), np.int64(3), np.int64(4), np.int64(5), np.int64(6), np.int64(7), np.int64(8), np.int64(9), np.int64(0), np.int64(1), np.int64(2), np.int64(3), np.int64(4), np.int64(5), np.int64(6), np.int64(7), np.int64(8), np.int64(9), np.int64(7), np.int64(4), np.int64(2), np.int64(0), np.int64(9), np.int64(0), np.int64(1), np.int64(5), np.int64(8), np.int64(8), np.int64(0), np.int64(2), np.int64(7), np.int64(8), np.int64(4), np.int64(4), np.int64(6), np.int64(1), np.int64(0), np.int64(4), np.int64(5), np.int64(3), np.int64(9), np.int64(4), np.int64(2), np.int64(0), np.int64(5), np.int64(0), np.int64(1), np.int64(3), np.int64(2), np.int64(9), np.int64(8), np.int64(6), np.int64(0), np.int64(1), np.int64(1), np.int64(8), np.int64(0), np.int64(4), np.int64(7), np.int64(7), np.int64(6), np.int64(3), np.int64(6), np.int64(0), np.int64(7), np.int64(3), np.int64(5), np.int64(4), np.int64(2), np.int64(4), np.int64(1), np.int64(8), np.int64(3), np.int64(5), np.int64(6), np.int64(7), np.int64(0), np.int64(6), np.int64(7), np.int64(1), np.int64(2), np.int64(5), np.int64(8), np.int64(1), np.int64(9), np.int64(3), np.int64(8), np.int64(2), np.int64(8), np.int64(7), np.int64(6), np.int64(7), np.int64(1), np.int64(4), np.int64(6), np.int64(2), np.int64(9), np.int64(3), np.int64(0), np.int64(1), np.int64(2), np.int64(3), np.int64(4), np.int64(5), np.int64(6), np.int64(7), np.int64(0), np.int64(1), np.int64(2), np.int64(3), np.int64(4), np.int64(5), np.int64(0), np.int64(1), np.int64(2), np.int64(8), np.int64(9), np.int64(1), np.int64(4), np.int64(0), np.int64(9), np.int64(5), np.int64(0), np.int64(8), np.int64(0), np.int64(7), np.int64(7), np.int64(1), np.int64(1), np.int64(2), np.int64(9), np.int64(3), np.int64(6), np.int64(7), np.int64(2), np.int64(3), np.int64(8), np.int64(1), np.int64(2), np.int64(9), np.int64(8), np.int64(8), np.int64(7), np.int64(1), np.int64(7), np.int64(1), np.int64(1), np.int64(0), np.int64(3), np.int64(4), np.int64(2), np.int64(6), np.int64(4), np.int64(7), np.int64(4), np.int64(3), np.int64(7), np.int64(4), np.int64(9), np.int64(1), np.int64(0), np.int64(6), np.int64(8), np.int64(5), np.int64(5), np.int64(5), np.int64(3), np.int64(5), np.int64(9), np.int64(7), np.int64(4), np.int64(8), np.int64(5), np.int64(9), np.int64(6), np.int64(9), np.int64(3), np.int64(0), np.int64(3), np.int64(8), np.int64(9), np.int64(1), np.int64(8), np.int64(1), np.int64(6), np.int64(0), np.int64(0), np.int64(8), np.int64(2), np.int64(3), np.int64(4), np.int64(5), np.int64(6), np.int64(7), np.int64(8), np.int64(9), np.int64(0), np.int64(1), np.int64(2), np.int64(3), np.int64(4), np.int64(5), np.int64(6), np.int64(7), np.int64(8), np.int64(9), np.int64(0), np.int64(1), np.int64(2), np.int64(3), np.int64(4), np.int64(5), np.int64(6), np.int64(7), np.int64(8), np.int64(9), np.int64(3), np.int64(5), np.int64(3), np.int64(2), np.int64(9), np.int64(3), np.int64(2), np.int64(1), np.int64(4), np.int64(5), np.int64(5), np.int64(3), np.int64(3), np.int64(2), np.int64(1), np.int64(3), np.int64(9), np.int64(7), np.int64(2), np.int64(8), np.int64(2), np.int64(8), np.int64(9), np.int64(1), np.int64(8), np.int64(8), np.int64(7), np.int64(8), np.int64(1), np.int64(0), np.int64(0), np.int64(7), np.int64(7), np.int64(8), np.int64(7), np.int64(5), np.int64(0), np.int64(6), np.int64(1), np.int64(5), np.int64(7), np.int64(4), np.int64(6), np.int64(1), np.int64(2), np.int64(5), np.int64(0), np.int64(7), np.int64(9), np.int64(9), np.int64(0), np.int64(3), np.int64(8), np.int64(2), np.int64(4), np.int64(8), np.int64(1), np.int64(8), np.int64(6), np.int64(5), np.int64(9), np.int64(0), np.int64(0), np.int64(0), np.int64(3), np.int64(7), np.int64(1), np.int64(6), np.int64(4), np.int64(2), np.int64(6), np.int64(6), np.int64(0), np.int64(4), np.int64(5), np.int64(4), np.int64(1), np.int64(3), np.int64(8), np.int64(6), np.int64(3), np.int64(9), np.int64(9), np.int64(5), np.int64(9), np.int64(3), np.int64(7), np.int64(8), np.int64(5), np.int64(6), np.int64(4), np.int64(7), np.int64(6), np.int64(2), np.int64(2), np.int64(0), np.int64(9), np.int64(4), np.int64(0), np.int64(1), np.int64(2), np.int64(3), np.int64(4), np.int64(5), np.int64(6), np.int64(7), np.int64(8), np.int64(9), np.int64(0), np.int64(1), np.int64(2), np.int64(7), np.int64(5), np.int64(6), np.int64(0), np.int64(1), np.int64(2), np.int64(3), np.int64(4), np.int64(5), np.int64(6), np.int64(8), np.int64(7), np.int64(1), np.int64(3), np.int64(2), np.int64(5), np.int64(0), np.int64(7), np.int64(5), np.int64(9), np.int64(9), np.int64(6), np.int64(0), np.int64(9), np.int64(4), np.int64(1), np.int64(3), np.int64(2), np.int64(1), np.int64(2), np.int64(3), np.int64(8), np.int64(3), np.int64(2), np.int64(6), np.int64(5), np.int64(6), np.int64(8), np.int64(2), np.int64(7), np.int64(4), np.int64(8), np.int64(1), np.int64(8), np.int64(0), np.int64(5), np.int64(3), np.int64(9), np.int64(4), np.int64(1), np.int64(9), np.int64(2), np.int64(1), np.int64(9), np.int64(6), np.int64(7), np.int64(9), np.int64(0), np.int64(4), np.int64(6), np.int64(1), np.int64(7), np.int64(3), np.int64(8), np.int64(7), np.int64(2), np.int64(9), np.int64(6), np.int64(5), np.int64(8), np.int64(3), np.int64(9), np.int64(0), np.int64(5), np.int64(7), np.int64(1), np.int64(6), np.int64(1), np.int64(0), np.int64(9), np.int64(3), np.int64(3), np.int64(4), np.int64(4), np.int64(0), np.int64(6), np.int64(2), np.int64(5), np.int64(4), np.int64(2), np.int64(3), np.int64(4), np.int64(6), np.int64(0), np.int64(0), np.int64(2), np.int64(0), np.int64(1), np.int64(4), np.int64(5), np.int64(6), np.int64(9), np.int64(8), np.int64(9), np.int64(0), np.int64(1), np.int64(2), np.int64(3), np.int64(4), np.int64(5), np.int64(6), np.int64(7), np.int64(8), np.int64(0), np.int64(1), np.int64(2), np.int64(3), np.int64(4), np.int64(5), np.int64(6), np.int64(7), np.int64(8), np.int64(9), np.int64(8), np.int64(7), np.int64(1), np.int64(3), np.int64(7), np.int64(5), np.int64(2), np.int64(8), np.int64(0), np.int64(7), np.int64(5), np.int64(9), np.int64(9), np.int64(0), np.int64(9), np.int64(1), np.int64(1), np.int64(5), np.int64(8), np.int64(8), np.int64(6), np.int64(3), np.int64(2), np.int64(1), np.int64(8), np.int64(3), np.int64(2), np.int64(6), np.int64(5), np.int64(6), np.int64(7), np.int64(4), np.int64(1), np.int64(0), np.int64(3), np.int64(3), np.int64(1), np.int64(9), np.int64(2), np.int64(1), np.int64(9), np.int64(6), np.int64(0), np.int64(4), np.int64(6), np.int64(1), np.int64(7), np.int64(3), np.int64(8), np.int64(7), np.int64(2), np.int64(9), np.int64(6), np.int64(5), np.int64(8), np.int64(3), np.int64(5), np.int64(7), np.int64(1), np.int64(6), np.int64(1), np.int64(0), np.int64(9), np.int64(6), np.int64(2), np.int64(5), np.int64(4), np.int64(2), np.int64(3), np.int64(4), np.int64(4), np.int64(6), np.int64(0), np.int64(0), np.int64(2), np.int64(0), np.int64(1), np.int64(2), np.int64(3), np.int64(4), np.int64(3), np.int64(6), np.int64(7), np.int64(8), np.int64(9), np.int64(0), np.int64(1), np.int64(2), np.int64(3), np.int64(4), np.int64(5), np.int64(6), np.int64(7), np.int64(8), np.int64(9), np.int64(0), np.int64(1), np.int64(2), np.int64(8), np.int64(4), np.int64(5), np.int64(6), np.int64(7), np.int64(8), np.int64(9), np.int64(8), np.int64(6), np.int64(5), np.int64(0), np.int64(6), np.int64(8), np.int64(9), np.int64(4), np.int64(1), np.int64(9), np.int64(5), np.int64(8), np.int64(0), np.int64(4), np.int64(8), np.int64(9), np.int64(1), np.int64(4), np.int64(0), np.int64(5), np.int64(3), np.int64(2), np.int64(1), np.int64(5), np.int64(4), np.int64(0), np.int64(7), np.int64(6), np.int64(0), np.int64(1), np.int64(7), np.int64(0), np.int64(6), np.int64(8), np.int64(9), np.int64(5), np.int64(1), np.int64(7), np.int64(9), np.int64(8), np.int64(6), np.int64(0), np.int64(8), np.int64(1), np.int64(7), np.int64(7), np.int64(1), np.int64(3), np.int64(2), np.int64(9), np.int64(1), np.int64(4), np.int64(2), np.int64(0), np.int64(0), np.int64(7), np.int64(8), np.int64(4), np.int64(6), np.int64(4), np.int64(9), np.int64(8), np.int64(8), np.int64(4), np.int64(7), np.int64(2), np.int64(5), np.int64(6), np.int64(3), np.int64(6), np.int64(9), np.int64(6), np.int64(3), np.int64(2), np.int64(2), np.int64(4), np.int64(6), np.int64(9), np.int64(0), np.int64(2), np.int64(5), np.int64(3), np.int64(1), np.int64(9), np.int64(8), np.int64(9), np.int64(7), np.int64(8), np.int64(7), np.int64(2), np.int64(2), np.int64(5), np.int64(7), np.int64(9), np.int64(3), np.int64(2), np.int64(1), np.int64(9), np.int64(1), np.int64(3), np.int64(0), np.int64(1), np.int64(2), np.int64(3), np.int64(4), np.int64(5), np.int64(6), np.int64(7), np.int64(8), np.int64(3), np.int64(0), np.int64(8), np.int64(2), np.int64(3), np.int64(4), np.int64(5), np.int64(6), np.int64(7), np.int64(8), np.int64(9), np.int64(0), np.int64(1), np.int64(2), np.int64(3), np.int64(4), np.int64(5), np.int64(6), np.int64(7), np.int64(8), np.int64(3), np.int64(1), np.int64(3), np.int64(6), np.int64(5), np.int64(3), np.int64(0), np.int64(7), np.int64(0), np.int64(4), np.int64(8), np.int64(4), np.int64(3), np.int64(6), np.int64(7), np.int64(2), np.int64(3), np.int64(1), np.int64(2), np.int64(1), np.int64(2), np.int64(9), np.int64(6), np.int64(0), np.int64(1), np.int64(3), np.int64(0), np.int64(2), np.int64(7), np.int64(5), np.int64(7), np.int64(6), np.int64(2), np.int64(9), np.int64(1), np.int64(9), np.int64(0), np.int64(6), np.int64(0), np.int64(6), np.int64(0), np.int64(2), np.int64(0), np.int64(6), np.int64(1), np.int64(5), np.int64(8), np.int64(4), np.int64(3), np.int64(0), np.int64(1), np.int64(5), np.int64(4), np.int64(4), np.int64(8), np.int64(5), np.int64(7), np.int64(5), np.int64(7), np.int64(8), np.int64(3), np.int64(4), np.int64(8), np.int64(8), np.int64(5), np.int64(2), np.int64(9), np.int64(7), np.int64(1), np.int64(3), np.int64(8), np.int64(1), np.int64(0), np.int64(7), np.int64(5), np.int64(3), np.int64(6), np.int64(9), np.int64(4), np.int64(7), np.int64(7), np.int64(9), np.int64(9), np.int64(3), np.int64(4), np.int64(4), np.int64(3), np.int64(8), np.int64(6), np.int64(2), np.int64(0), np.int64(1), np.int64(2), np.int64(3), np.int64(4), np.int64(5), np.int64(6), np.int64(7), np.int64(8), np.int64(9), np.int64(0), np.int64(1), np.int64(2), np.int64(3), np.int64(4), np.int64(5), np.int64(6), np.int64(7), np.int64(8), np.int64(9), np.int64(0), np.int64(1), np.int64(2), np.int64(3), np.int64(4), np.int64(5), np.int64(6), np.int64(7), np.int64(8), np.int64(9), np.int64(0), np.int64(8), np.int64(3), np.int64(9), np.int64(5), np.int64(5), np.int64(2), np.int64(6), np.int64(8), np.int64(4), np.int64(9), np.int64(1), np.int64(7), np.int64(1), np.int64(2), np.int64(3), np.int64(5), np.int64(9), np.int64(6), np.int64(9), np.int64(1), np.int64(1), np.int64(1), np.int64(2), np.int64(9), np.int64(5), np.int64(6), np.int64(8), np.int64(1), np.int64(2), np.int64(0), np.int64(7), np.int64(7), np.int64(5), np.int64(8), np.int64(2), np.int64(9), np.int64(8), np.int64(9), np.int64(0), np.int64(4), np.int64(6), np.int64(7), np.int64(1), np.int64(3), np.int64(4), np.int64(5), np.int64(6), np.int64(0), np.int64(3), np.int64(6), np.int64(8), np.int64(7), np.int64(0), np.int64(4), np.int64(2), np.int64(7), np.int64(4), np.int64(7), np.int64(5), np.int64(4), np.int64(3), np.int64(4), np.int64(2), np.int64(8), np.int64(1), np.int64(5), np.int64(1), np.int64(2), np.int64(0), np.int64(2), np.int64(5), np.int64(6), np.int64(4), np.int64(3), np.int64(0), np.int64(0), np.int64(0), np.int64(3), np.int64(3), np.int64(5), np.int64(7), np.int64(0), np.int64(6), np.int64(4), np.int64(8), np.int64(8), np.int64(6), np.int64(3), np.int64(4), np.int64(6), np.int64(9), np.int64(9), np.int64(8), np.int64(2), np.int64(7), np.int64(7), np.int64(1), np.int64(0), np.int64(1), np.int64(2), np.int64(3), np.int64(4), np.int64(5), np.int64(6), np.int64(7), np.int64(8), np.int64(9), np.int64(0), np.int64(1), np.int64(2), np.int64(3), np.int64(4), np.int64(5), np.int64(6), np.int64(7), np.int64(8), np.int64(0), np.int64(1), np.int64(2), np.int64(3), np.int64(4), np.int64(5), np.int64(6), np.int64(7), np.int64(8), np.int64(2), np.int64(1), np.int64(7), np.int64(2), np.int64(5), np.int64(0), np.int64(8), np.int64(0), np.int64(2), np.int64(7), np.int64(8), np.int64(8), np.int64(3), np.int64(6), np.int64(0), np.int64(2), np.int64(7), np.int64(6), np.int64(6), np.int64(1), np.int64(2), np.int64(8), np.int64(3), np.int64(7), np.int64(7), np.int64(4), np.int64(7), np.int64(7), np.int64(3), np.int64(7), np.int64(4), np.int64(5), np.int64(4), np.int64(3), np.int64(3), np.int64(8), np.int64(4), np.int64(1), np.int64(1), np.int64(9), np.int64(7), np.int64(4), np.int64(3), np.int64(7), np.int64(3), np.int64(3), np.int64(0), np.int64(2), np.int64(5), np.int64(5), np.int64(6), np.int64(6), np.int64(3), np.int64(8), np.int64(2), np.int64(5), np.int64(9), np.int64(9), np.int64(8), np.int64(4), np.int64(1), np.int64(0), np.int64(6), np.int64(0), np.int64(9), np.int64(6), np.int64(8), np.int64(8), np.int64(5), np.int64(6), np.int64(1), np.int64(1), np.int64(9), np.int64(8), np.int64(9), np.int64(2), np.int64(3), np.int64(5), np.int64(5), np.int64(9), np.int64(4), np.int64(2), np.int64(1), np.int64(9), np.int64(3), np.int64(9), np.int64(2), np.int64(0), np.int64(6), np.int64(0), np.int64(4), np.int64(0), np.int64(0), np.int64(1), np.int64(2), np.int64(3), np.int64(4), np.int64(7), np.int64(8), np.int64(9), np.int64(0), np.int64(1), np.int64(2), np.int64(3), np.int64(7), np.int64(8), np.int64(9), np.int64(0), np.int64(1), np.int64(2), np.int64(3), np.int64(4), np.int64(7), np.int64(8), np.int64(9), np.int64(7), np.int64(3), np.int64(0), np.int64(3), np.int64(1), np.int64(8), np.int64(7), np.int64(6), np.int64(4), np.int64(0), np.int64(2), np.int64(6), np.int64(8), np.int64(3), np.int64(2), np.int64(8), np.int64(1), np.int64(2), np.int64(0), np.int64(7), np.int64(1), np.int64(0), np.int64(4), np.int64(4), np.int64(5), np.int64(8), np.int64(0), np.int64(6), np.int64(2), np.int64(3), np.int64(1), np.int64(5), np.int64(1), np.int64(8), np.int64(5), np.int64(9), np.int64(4), np.int64(0), np.int64(7), np.int64(5), np.int64(8), np.int64(8), np.int64(3), np.int64(8), np.int64(9), np.int64(2), np.int64(6), np.int64(2), np.int64(5), np.int64(3), np.int64(1), np.int64(7), np.int64(3), np.int64(9), np.int64(1), np.int64(9), np.int64(9), np.int64(6), np.int64(0), np.int64(3), np.int64(9), np.int64(2), np.int64(8), np.int64(1), np.int64(4), np.int64(3), np.int64(5), np.int64(2), np.int64(9), np.int64(2), np.int64(5), np.int64(8), np.int64(9), np.int64(5), np.int64(0), np.int64(1), np.int64(2), np.int64(2), np.int64(5), np.int64(6), np.int64(0), np.int64(1), np.int64(2), np.int64(3), np.int64(4), np.int64(5), np.int64(6), np.int64(7), np.int64(1), np.int64(2), np.int64(3), np.int64(4), np.int64(5), np.int64(1), np.int64(0), np.int64(4), np.int64(5), np.int64(6), np.int64(6), np.int64(3), np.int64(4), np.int64(4), np.int64(2), np.int64(9), np.int64(1), np.int64(0), np.int64(6), np.int64(7), np.int64(3), np.int64(7), np.int64(2), np.int64(3), np.int64(3), np.int64(9), np.int64(2), np.int64(0), np.int64(9), np.int64(3), np.int64(3), np.int64(7), np.int64(8), np.int64(5), np.int64(6), np.int64(3), np.int64(7), np.int64(7), np.int64(8), np.int64(4), np.int64(0), np.int64(2), np.int64(4), np.int64(0), np.int64(2), np.int64(4), np.int64(7), np.int64(8), np.int64(0), np.int64(7), np.int64(0), np.int64(6), np.int64(4), np.int64(3), np.int64(2), np.int64(8), np.int64(6), np.int64(7), np.int64(3), np.int64(7), np.int64(5), np.int64(1), np.int64(0), np.int64(8), np.int64(1), np.int64(6), np.int64(7), np.int64(2), np.int64(9), np.int64(7), np.int64(9), np.int64(5), np.int64(8), np.int64(6), np.int64(2), np.int64(6), np.int64(2), np.int64(8), np.int64(1), np.int64(7), np.int64(5), np.int64(0), np.int64(1), np.int64(1), np.int64(3), np.int64(4), np.int64(4), np.int64(9), np.int64(1), np.int64(8), np.int64(6), np.int64(8), np.int64(5), np.int64(0), np.int64(1), np.int64(2), np.int64(3), np.int64(4), np.int64(5), np.int64(6), np.int64(7), np.int64(8), np.int64(9), np.int64(0), np.int64(1), np.int64(2), np.int64(3), np.int64(4), np.int64(7), np.int64(8), np.int64(9), np.int64(5), np.int64(1), np.int64(7), np.int64(8), np.int64(9), np.int64(9), np.int64(8), np.int64(9), np.int64(8), np.int64(4), np.int64(1), np.int64(7), np.int64(7), np.int64(3), np.int64(3), np.int64(7), np.int64(6), np.int64(6), np.int64(6), np.int64(1), np.int64(9), np.int64(0), np.int64(1), np.int64(7), np.int64(6), np.int64(3), np.int64(2), np.int64(1), np.int64(7), np.int64(1), np.int64(3), np.int64(9), np.int64(1), np.int64(7), np.int64(6), np.int64(8), np.int64(4), np.int64(1), np.int64(4), np.int64(3), np.int64(6), np.int64(9), np.int64(6), np.int64(1), np.int64(4), np.int64(4), np.int64(7), np.int64(2), np.int64(4), np.int64(4), np.int64(0), np.int64(1), np.int64(2), np.int64(3), np.int64(4), np.int64(5), np.int64(6), np.int64(7), np.int64(8), np.int64(9), np.int64(0), np.int64(1), np.int64(2), np.int64(3), np.int64(4), np.int64(5), np.int64(6), np.int64(9), np.int64(0), np.int64(1), np.int64(2), np.int64(3), np.int64(4), np.int64(7), np.int64(8), np.int64(1), np.int64(3), np.int64(5), np.int64(1), np.int64(7), np.int64(7), np.int64(2), np.int64(1), np.int64(4), np.int64(8), np.int64(3), np.int64(4), np.int64(4), np.int64(3), np.int64(9), np.int64(7), np.int64(4), np.int64(1), np.int64(2), np.int64(3), np.int64(5), np.int64(9), np.int64(1), np.int64(6), np.int64(0), np.int64(1), np.int64(0), np.int64(0), np.int64(2), np.int64(3), np.int64(7), np.int64(1), np.int64(1), np.int64(2), np.int64(0), np.int64(4), np.int64(7), np.int64(3), np.int64(6), np.int64(8), np.int64(0), np.int64(3), np.int64(7), np.int64(4), np.int64(0), np.int64(6), np.int64(9), np.int64(2), np.int64(6), np.int64(5), np.int64(8), np.int64(6), np.int64(9), np.int64(0), np.int64(4), np.int64(0), np.int64(6), np.int64(6), np.int64(9), np.int64(2), np.int64(0), np.int64(9), np.int64(5), np.int64(1), np.int64(3), np.int64(7), np.int64(6), np.int64(9), np.int64(3), np.int64(0), np.int64(2), np.int64(3), np.int64(0), np.int64(1), np.int64(2), np.int64(3), np.int64(4), np.int64(5), np.int64(6), np.int64(7), np.int64(8), np.int64(9), np.int64(0), np.int64(1), np.int64(2), np.int64(3), np.int64(4), np.int64(5), np.int64(6), np.int64(7), np.int64(8), np.int64(9), np.int64(0), np.int64(1), np.int64(2), np.int64(3), np.int64(4), np.int64(5), np.int64(6), np.int64(7), np.int64(8), np.int64(9), np.int64(2), np.int64(1), np.int64(7), np.int64(2), np.int64(5), np.int64(0), np.int64(8), np.int64(0), np.int64(2), np.int64(7), np.int64(8), np.int64(8), np.int64(3), np.int64(0), np.int64(6), np.int64(0), np.int64(2), np.int64(7), np.int64(6), np.int64(6), np.int64(1), np.int64(2), np.int64(8), np.int64(8), np.int64(7), np.int64(7), np.int64(4), np.int64(7), np.int64(7), np.int64(3), np.int64(7), np.int64(4), np.int64(5), np.int64(4), np.int64(3), np.int64(3), np.int64(8), np.int64(4), np.int64(5), np.int64(4), np.int64(1), np.int64(1), np.int64(9), np.int64(7), np.int64(4), np.int64(3), np.int64(7), np.int64(3), np.int64(3), np.int64(0), np.int64(2), np.int64(5), np.int64(5), np.int64(6), np.int64(3), np.int64(1), np.int64(5), np.int64(2), np.int64(5), np.int64(9), np.int64(9), np.int64(8), np.int64(4), np.int64(1), np.int64(0), np.int64(6), np.int64(0), np.int64(9), np.int64(6), np.int64(8), np.int64(8), np.int64(5), np.int64(6), np.int64(1), np.int64(1), np.int64(9), np.int64(8), np.int64(9), np.int64(2), np.int64(3), np.int64(5), np.int64(5), np.int64(9), np.int64(4), np.int64(2), np.int64(1), np.int64(9), np.int64(4), np.int64(9), np.int64(1), np.int64(3), np.int64(9), np.int64(2), np.int64(0), np.int64(6), np.int64(0), np.int64(4), np.int64(0), np.int64(6), np.int64(0), np.int64(1), np.int64(2), np.int64(3), np.int64(4), np.int64(5), np.int64(6), np.int64(7), np.int64(8), np.int64(9), np.int64(0), np.int64(1), np.int64(2), np.int64(3), np.int64(4), np.int64(5), np.int64(6), np.int64(7), np.int64(8), np.int64(9), np.int64(0), np.int64(1), np.int64(2), np.int64(3), np.int64(4), np.int64(5), np.int64(6), np.int64(7), np.int64(8), np.int64(9), np.int64(3), np.int64(8), np.int64(0), np.int64(7), np.int64(1), np.int64(0), np.int64(7), np.int64(5), np.int64(5), np.int64(6), np.int64(9), np.int64(0), np.int64(1), np.int64(0), np.int64(0), np.int64(8), np.int64(3), np.int64(4), np.int64(3), np.int64(1), np.int64(5), np.int64(0), np.int64(0), np.int64(9), np.int64(5), np.int64(3), np.int64(4), np.int64(9), np.int64(3), np.int64(7), np.int64(6), np.int64(9), np.int64(2), np.int64(4), np.int64(5), np.int64(7), np.int64(2), np.int64(6), np.int64(4), np.int64(9), np.int64(4), np.int64(9), np.int64(4), np.int64(1), np.int64(2), np.int64(2), np.int64(5), np.int64(8), np.int64(1), np.int64(3), np.int64(2), np.int64(9), np.int64(4), np.int64(3), np.int64(8), np.int64(2), np.int64(2), np.int64(1), np.int64(2), np.int64(8), np.int64(6), np.int64(5), np.int64(1), np.int64(6), np.int64(7), np.int64(2), np.int64(1), np.int64(3), np.int64(9), np.int64(3), np.int64(8), np.int64(7), np.int64(5), np.int64(7), np.int64(0), np.int64(7), np.int64(4), np.int64(8), np.int64(8), np.int64(5), np.int64(0), np.int64(6), np.int64(6), np.int64(3), np.int64(7), np.int64(6), np.int64(9), np.int64(9), np.int64(4), np.int64(8), np.int64(4), np.int64(1), np.int64(0), np.int64(6), np.int64(6), np.int64(0), np.int64(1), np.int64(2), np.int64(3), np.int64(4), np.int64(5), np.int64(6), np.int64(7), np.int64(8), np.int64(9), np.int64(0), np.int64(1), np.int64(2), np.int64(3), np.int64(4), np.int64(5), np.int64(6), np.int64(7), np.int64(8), np.int64(9), np.int64(0), np.int64(1), np.int64(2), np.int64(3), np.int64(4), np.int64(5), np.int64(6), np.int64(7), np.int64(8), np.int64(9), np.int64(7), np.int64(4), np.int64(0), np.int64(4), np.int64(0), np.int64(1), np.int64(7), np.int64(9), np.int64(5), np.int64(1), np.int64(4), np.int64(2), np.int64(8), np.int64(9), np.int64(4), np.int64(3), np.int64(7), np.int64(8), np.int64(2), np.int64(4), np.int64(4), np.int64(3), np.int64(3), np.int64(6), np.int64(9), np.int64(9), np.int64(5), np.int64(8), np.int64(6), np.int64(7), np.int64(0), np.int64(6), np.int64(8), np.int64(2), np.int64(6), np.int64(3), np.int64(9), np.int64(3), np.int64(2), np.int64(8), np.int64(6), np.int64(1), np.int64(7), np.int64(4), np.int64(8), np.int64(8), np.int64(9), np.int64(0), np.int64(3), np.int64(3), np.int64(9), np.int64(0), np.int64(5), np.int64(2), np.int64(9), np.int64(4), np.int64(1), np.int64(0), np.int64(3), np.int64(7), np.int64(5), np.int64(8), np.int64(7), np.int64(7), np.int64(8), np.int64(2), np.int64(9), np.int64(7), np.int64(1), np.int64(2), np.int64(6), np.int64(4), np.int64(7), np.int64(5), np.int64(2), np.int64(3), np.int64(6), np.int64(6), np.int64(5), np.int64(0), np.int64(0), np.int64(2), np.int64(8), np.int64(1), np.int64(6), np.int64(1), np.int64(0), np.int64(4), np.int64(3), np.int64(1), np.int64(6), np.int64(1), np.int64(9), np.int64(0), np.int64(1), np.int64(4), np.int64(5), np.int64(6), np.int64(7), np.int64(8), np.int64(9), np.int64(1), np.int64(2), np.int64(3), np.int64(4), np.int64(5), np.int64(6), np.int64(7), np.int64(0), np.int64(1), np.int64(2), np.int64(3), np.int64(4), np.int64(5), np.int64(6), np.int64(7), np.int64(8), np.int64(9), np.int64(8), np.int64(4), np.int64(0), np.int64(0), np.int64(7), np.int64(2), np.int64(4), np.int64(3), np.int64(8), np.int64(6), np.int64(6), np.int64(3), np.int64(2), np.int64(6), np.int64(3), np.int64(3), np.int64(3), np.int64(1), np.int64(4), np.int64(7), np.int64(8), np.int64(0), np.int64(3), np.int64(1), np.int64(9), np.int64(0), np.int64(1), np.int64(9), np.int64(1), np.int64(2), np.int64(7), np.int64(0), np.int64(1), np.int64(3), np.int64(8), np.int64(2), np.int64(9), np.int64(2), np.int64(7), np.int64(6), np.int64(5), np.int64(5), np.int64(9), np.int64(9), np.int64(8), np.int64(2), np.int64(9), np.int64(1), np.int64(3), np.int64(2), np.int64(3), np.int64(4), np.int64(3), np.int64(1), np.int64(9), np.int64(0), np.int64(9), np.int64(3), np.int64(6), np.int64(8), np.int64(7), np.int64(0), np.int64(1), np.int64(0), np.int64(5), np.int64(8), np.int64(2), np.int64(7), np.int64(7), np.int64(0), np.int64(1), np.int64(2), np.int64(3), np.int64(4), np.int64(5), np.int64(6), np.int64(7), np.int64(8), np.int64(9), np.int64(0), np.int64(1), np.int64(2), np.int64(3), np.int64(4), np.int64(5), np.int64(6), np.int64(7), np.int64(8), np.int64(9), np.int64(0), np.int64(1), np.int64(2), np.int64(3), np.int64(4), np.int64(5), np.int64(6), np.int64(7), np.int64(8), np.int64(9), np.int64(1), np.int64(7), np.int64(4), np.int64(8), np.int64(1), np.int64(5), np.int64(6), np.int64(5), np.int64(7), np.int64(2), np.int64(8), np.int64(6), np.int64(3), np.int64(3), np.int64(8), np.int64(6), np.int64(5), np.int64(4), np.int64(0), np.int64(9), np.int64(1), np.int64(7), np.int64(2), np.int64(9), np.int64(1), np.int64(5), np.int64(1), np.int64(3), np.int64(2), np.int64(2), np.int64(3), np.int64(0), np.int64(6), np.int64(4), np.int64(3), np.int64(7), np.int64(6), np.int64(9), np.int64(0), np.int64(4), np.int64(8), np.int64(1), np.int64(4), np.int64(0), np.int64(6), np.int64(1), np.int64(2), np.int64(6), np.int64(9), np.int64(2), np.int64(2), np.int64(3), np.int64(5), np.int64(5), np.int64(1), np.int64(0), np.int64(7), np.int64(7), np.int64(9), np.int64(6), np.int64(2), np.int64(9), np.int64(4), np.int64(7), np.int64(0), np.int64(2), np.int64(3), np.int64(4), np.int64(0), np.int64(0), np.int64(8), np.int64(8), np.int64(8), np.int64(5), np.int64(1), np.int64(3), np.int64(7), np.int64(4), np.int64(9), np.int64(8), np.int64(8), np.int64(9), np.int64(0), np.int64(9), np.int64(8), np.int64(9), np.int64(0), np.int64(2), np.int64(6), np.int64(5), np.int64(6), np.int64(7), np.int64(4), np.int64(7), np.int64(5), np.int64(4), np.int64(1), np.int64(3), np.int64(5), np.int64(3), np.int64(1), np.int64(2), np.int64(3), np.int64(4), np.int64(5), np.int64(6), np.int64(1), np.int64(2), np.int64(3), np.int64(4), np.int64(6), np.int64(0), np.int64(1), np.int64(2), np.int64(4), np.int64(5), np.int64(6), np.int64(7), np.int64(8), np.int64(1), np.int64(7), np.int64(8), np.int64(4), np.int64(1), np.int64(4), np.int64(1), np.int64(4), np.int64(9), np.int64(6), np.int64(8), np.int64(4), np.int64(5), np.int64(3), np.int64(7), np.int64(8), np.int64(8), np.int64(3), np.int64(3), np.int64(5), np.int64(6), np.int64(7), np.int64(0), np.int64(6), np.int64(1), np.int64(6), np.int64(8), np.int64(7), np.int64(0), np.int64(1), np.int64(5), np.int64(0), np.int64(8), np.int64(5), np.int64(0), np.int64(1), np.int64(5), np.int64(8), np.int64(4), np.int64(2), np.int64(3), np.int64(9), np.int64(7), np.int64(6), np.int64(9), np.int64(1), np.int64(9), np.int64(0), np.int64(6), np.int64(7), np.int64(1), np.int64(2), np.int64(3), np.int64(9), np.int64(2), np.int64(4), np.int64(5), np.int64(5), np.int64(3), np.int64(7), np.int64(5), np.int64(3), np.int64(1), np.int64(8), np.int64(2), np.int64(2), np.int64(3), np.int64(0), np.int64(2), np.int64(9), np.int64(4), np.int64(9), np.int64(7), np.int64(0), np.int64(2), np.int64(7), np.int64(4), np.int64(9), np.int64(9), np.int64(2), np.int64(5), np.int64(9), np.int64(8), np.int64(3), np.int64(8), np.int64(6), np.int64(7), np.int64(0), np.int64(0), np.int64(1), np.int64(2), np.int64(3), np.int64(4), np.int64(5), np.int64(6), np.int64(7), np.int64(8), np.int64(9), np.int64(0), np.int64(1), np.int64(2), np.int64(3), np.int64(4), np.int64(5), np.int64(6), np.int64(7), np.int64(8), np.int64(9), np.int64(0), np.int64(1), np.int64(2), np.int64(3), np.int64(4), np.int64(5), np.int64(6), np.int64(7), np.int64(8), np.int64(9), np.int64(0), np.int64(0), np.int64(7), np.int64(2), np.int64(6), np.int64(5), np.int64(5), np.int64(3), np.int64(7), np.int64(8), np.int64(6), np.int64(6), np.int64(6), np.int64(6), np.int64(4), np.int64(3), np.int64(8), np.int64(8), np.int64(3), np.int64(0), np.int64(1), np.int64(9), np.int64(0), np.int64(5), np.int64(4), np.int64(1), np.int64(9), np.int64(1), np.int64(2), np.int64(7), np.int64(0), np.int64(1), np.int64(3), np.int64(8), np.int64(2), np.int64(9), np.int64(2), np.int64(7), np.int64(4), np.int64(2), np.int64(6), np.int64(5), np.int64(5), np.int64(9), np.int64(9), np.int64(1), np.int64(1), np.int64(5), np.int64(7), np.int64(6), np.int64(8), np.int64(2), np.int64(9), np.int64(4), np.int64(3), np.int64(1), np.int64(9), np.int64(0), np.int64(9), np.int64(3), np.int64(6), np.int64(8), np.int64(7), np.int64(0), np.int64(1), np.int64(0), np.int64(5), np.int64(8), np.int64(2), np.int64(7), np.int64(7), np.int64(0), np.int64(1), np.int64(2), np.int64(3), np.int64(4), np.int64(5), np.int64(6), np.int64(7), np.int64(8), np.int64(9), np.int64(0), np.int64(1), np.int64(2), np.int64(3), np.int64(4), np.int64(5), np.int64(8), np.int64(9), np.int64(0), np.int64(1), np.int64(2), np.int64(3), np.int64(4), np.int64(5), np.int64(6), np.int64(7), np.int64(8), np.int64(9), np.int64(2), np.int64(1), np.int64(2), np.int64(1), np.int64(3), np.int64(9), np.int64(9), np.int64(8), np.int64(5), np.int64(3), np.int64(7), np.int64(0), np.int64(7), np.int64(7), np.int64(5), np.int64(7), np.int64(9), np.int64(9), np.int64(4), np.int64(7), np.int64(0), np.int64(3), np.int64(4), np.int64(1), np.int64(5), np.int64(8), np.int64(1), np.int64(4), np.int64(8), np.int64(4), np.int64(1), np.int64(8), np.int64(6), np.int64(6), np.int64(4), np.int64(6), np.int64(0), np.int64(5), np.int64(5), np.int64(3), np.int64(3), np.int64(5), np.int64(7), np.int64(2), np.int64(5), np.int64(9), np.int64(6), np.int64(9), np.int64(2), np.int64(6), np.int64(2), np.int64(1), np.int64(2), np.int64(0), np.int64(8), np.int64(3), np.int64(8), np.int64(3), np.int64(0), np.int64(8), np.int64(7), np.int64(4), np.int64(9), np.int64(5), np.int64(0), np.int64(9), np.int64(7), np.int64(0), np.int64(0), np.int64(4), np.int64(6), np.int64(0), np.int64(9), np.int64(1), np.int64(6), np.int64(2), np.int64(7), np.int64(6), np.int64(8), np.int64(3), np.int64(5), np.int64(2), np.int64(1), np.int64(8), np.int64(3), np.int64(8), np.int64(6), np.int64(1), np.int64(0), np.int64(2), np.int64(1), np.int64(4), np.int64(0), np.int64(1), np.int64(2), np.int64(3), np.int64(4), np.int64(5), np.int64(6), np.int64(7), np.int64(8), np.int64(9), np.int64(0), np.int64(1), np.int64(2), np.int64(3), np.int64(4), np.int64(5), np.int64(6), np.int64(7), np.int64(8), np.int64(9), np.int64(0), np.int64(1), np.int64(2), np.int64(3), np.int64(4), np.int64(5), np.int64(6), np.int64(7), np.int64(8), np.int64(9), np.int64(7), np.int64(6), np.int64(4), np.int64(7), np.int64(6), np.int64(2), np.int64(3), np.int64(4), np.int64(8), np.int64(7), np.int64(8), np.int64(6), np.int64(9), np.int64(8), np.int64(3), np.int64(2), np.int64(2), np.int64(8), np.int64(4), np.int64(8), np.int64(5), np.int64(6), np.int64(5), np.int64(0), np.int64(2), np.int64(0), np.int64(1), np.int64(1), np.int64(2), np.int64(9), np.int64(6), np.int64(8), np.int64(2), np.int64(1), np.int64(0), np.int64(6), np.int64(5), np.int64(2), np.int64(9), np.int64(7), np.int64(5), np.int64(3), np.int64(9), np.int64(3), np.int64(7), np.int64(1), np.int64(8), np.int64(3), np.int64(8), np.int64(1), np.int64(9), np.int64(5), np.int64(5), np.int64(0), np.int64(1), np.int64(1), np.int64(9), np.int64(8), np.int64(2), np.int64(6), np.int64(0), np.int64(4), np.int64(5), np.int64(0), np.int64(3), np.int64(1), np.int64(8), np.int64(6), np.int64(7), np.int64(5), np.int64(9), np.int64(9), np.int64(3), np.int64(0), np.int64(3), np.int64(1), np.int64(4), np.int64(4), np.int64(0), np.int64(4), np.int64(9), np.int64(0), np.int64(1), np.int64(2), np.int64(3), np.int64(5), np.int64(6), np.int64(7), np.int64(8), np.int64(0), np.int64(1), np.int64(2), np.int64(3), np.int64(5), np.int64(6), np.int64(7), np.int64(8), np.int64(9), np.int64(0), np.int64(1), np.int64(2), np.int64(3), np.int64(5), np.int64(6), np.int64(7), np.int64(8), np.int64(9), np.int64(9), np.int64(7), np.int64(0), np.int64(9), np.int64(0), np.int64(1), np.int64(5), np.int64(8), np.int64(8), np.int64(0), np.int64(9), np.int64(3), np.int64(2), np.int64(7), np.int64(8), np.int64(4), np.int64(6), np.int64(1), np.int64(0), np.int64(4), np.int64(9), np.int64(4), np.int64(2), np.int64(0), np.int64(5), np.int64(0), np.int64(1), np.int64(6), np.int64(9), np.int64(3), np.int64(2), np.int64(9), np.int64(1), np.int64(6), np.int64(0), np.int64(1), np.int64(1), np.int64(8), np.int64(7), np.int64(7), np.int64(6), np.int64(3), np.int64(6), np.int64(0), np.int64(7), np.int64(2), np.int64(4), np.int64(1), np.int64(7), np.int64(0), np.int64(6), np.int64(7), np.int64(1), np.int64(2), np.int64(5), np.int64(8), np.int64(1), np.int64(0), np.int64(2), np.int64(8), np.int64(7), np.int64(6), np.int64(8), np.int64(7), np.int64(1), np.int64(6), np.int64(2), np.int64(9), np.int64(3), np.int64(0), np.int64(1), np.int64(2), np.int64(3), np.int64(4), np.int64(5), np.int64(6), np.int64(7), np.int64(8), np.int64(9), np.int64(0), np.int64(1), np.int64(2), np.int64(3), np.int64(4), np.int64(5), np.int64(6), np.int64(7), np.int64(8), np.int64(9), np.int64(0), np.int64(1), np.int64(2), np.int64(3), np.int64(4), np.int64(5), np.int64(6), np.int64(7), np.int64(8), np.int64(9), np.int64(8), np.int64(9), np.int64(5), np.int64(7), np.int64(0), np.int64(3), np.int64(1), np.int64(6), np.int64(8), np.int64(4), np.int64(1), np.int64(5), np.int64(6), np.int64(4), np.int64(2), np.int64(7), np.int64(8), np.int64(1), np.int64(3), np.int64(4), np.int64(3), np.int64(4), np.int64(7), np.int64(2), np.int64(0), np.int64(5), np.int64(0), np.int64(1), np.int64(9), np.int64(2), np.int64(3), np.int64(2), np.int64(3), np.int64(5), np.int64(5), np.int64(7), np.int64(8), np.int64(4), np.int64(9), np.int64(9), np.int64(7), np.int64(1), np.int64(1), np.int64(9), np.int64(0), np.int64(7), np.int64(8), np.int64(3), np.int64(4), np.int64(8), np.int64(6), np.int64(3), np.int64(8), np.int64(0), np.int64(9), np.int64(6), np.int64(2), np.int64(8), np.int64(0), np.int64(1), np.int64(0), np.int64(6), np.int64(2), np.int64(3), np.int64(8), np.int64(9), np.int64(0), np.int64(7), np.int64(2), np.int64(3), np.int64(4), np.int64(5), np.int64(5), np.int64(2), np.int64(8), np.int64(5), np.int64(4), np.int64(6), np.int64(6), np.int64(6), np.int64(7), np.int64(9), np.int64(1), np.int64(8), np.int64(2), np.int64(1), np.int64(5), np.int64(3), np.int64(4), np.int64(7), np.int64(9), np.int64(4), np.int64(0), np.int64(0), np.int64(0), np.int64(1), np.int64(1), np.int64(3), np.int64(4), np.int64(5), np.int64(6), np.int64(7), np.int64(8), np.int64(9), np.int64(0), np.int64(1), np.int64(2), np.int64(3), np.int64(4), np.int64(5), np.int64(6), np.int64(7), np.int64(8), np.int64(9), np.int64(0), np.int64(1), np.int64(2), np.int64(3), np.int64(4), np.int64(5), np.int64(6), np.int64(9), np.int64(0), np.int64(1), np.int64(3), np.int64(1), np.int64(5), np.int64(1), np.int64(2), np.int64(4), np.int64(9), np.int64(8), np.int64(4), np.int64(6), np.int64(8), np.int64(0), np.int64(1), np.int64(1), np.int64(9), np.int64(2), np.int64(6), np.int64(6), np.int64(8), np.int64(7), np.int64(4), np.int64(2), np.int64(9), np.int64(7), np.int64(0), np.int64(2), np.int64(1), np.int64(0), np.int64(3), np.int64(6), np.int64(0), np.int64(1), np.int64(2), np.int64(3), np.int64(4), np.int64(5), np.int64(6), np.int64(7), np.int64(8), np.int64(9), np.int64(0), np.int64(1), np.int64(2), np.int64(3), np.int64(4), np.int64(5), np.int64(6), np.int64(7), np.int64(8), np.int64(9), np.int64(0), np.int64(1), np.int64(2), np.int64(3), np.int64(4), np.int64(5), np.int64(6), np.int64(7), np.int64(8), np.int64(9), np.int64(8), np.int64(6), np.int64(5), np.int64(9), np.int64(7), np.int64(0), np.int64(2), np.int64(3), np.int64(4), np.int64(3), np.int64(8), np.int64(5), np.int64(1), np.int64(5), np.int64(2), np.int64(3), np.int64(0), np.int64(1), np.int64(2), np.int64(1), np.int64(3), np.int64(2), np.int64(6), np.int64(5), np.int64(3), np.int64(0), np.int64(7), np.int64(2), np.int64(7), np.int64(4), np.int64(6), np.int64(4), np.int64(0), np.int64(5), np.int64(9), np.int64(9), np.int64(8), np.int64(9), np.int64(5), np.int64(3), np.int64(1), np.int64(7), np.int64(4), np.int64(7), np.int64(6), np.int64(5), np.int64(4), np.int64(0), np.int64(0), np.int64(6), np.int64(6), np.int64(2), np.int64(0), np.int64(6), np.int64(3), np.int64(7), np.int64(7), np.int64(4), np.int64(4), np.int64(3), np.int64(9), np.int64(2), np.int64(8), np.int64(9), np.int64(6), np.int64(0), np.int64(9), np.int64(5), np.int64(3), np.int64(8), np.int64(8), np.int64(7), np.int64(1), np.int64(4), np.int64(0), np.int64(4), np.int64(8), np.int64(5), np.int64(2), np.int64(3), np.int64(9), np.int64(0), np.int64(1), np.int64(9), np.int64(1), np.int64(5), np.int64(1), np.int64(7), np.int64(4), np.int64(8), np.int64(6), np.int64(2), np.int64(1), np.int64(6), np.int64(8), np.int64(8), np.int64(0), np.int64(1), np.int64(2), np.int64(9), np.int64(4), np.int64(7), np.int64(8), np.int64(9), np.int64(0), np.int64(1), np.int64(2), np.int64(3), np.int64(7), np.int64(6), np.int64(7), np.int64(8), np.int64(9), np.int64(0), np.int64(1), np.int64(2), np.int64(3), np.int64(4), np.int64(7), np.int64(8), np.int64(9), np.int64(1), np.int64(4), np.int64(5), np.int64(3), np.int64(8), np.int64(0), np.int64(9), np.int64(5), np.int64(4), np.int64(5), np.int64(2), np.int64(8), np.int64(4), np.int64(6), np.int64(7), np.int64(2), np.int64(7), np.int64(7), np.int64(1), np.int64(6), np.int64(9), np.int64(1), np.int64(3), np.int64(6), np.int64(2), np.int64(3), np.int64(8), np.int64(2), np.int64(3), np.int64(8), np.int64(9), np.int64(5), np.int64(8), np.int64(8), np.int64(7), np.int64(1), np.int64(7), np.int64(1), np.int64(1), np.int64(0), np.int64(3), np.int64(4), np.int64(2), np.int64(2), np.int64(4), np.int64(7), np.int64(4), np.int64(2), np.int64(7), np.int64(4), np.int64(2), np.int64(9), np.int64(2), np.int64(7), np.int64(9), np.int64(2), np.int64(1), np.int64(6), np.int64(6), np.int64(5), np.int64(3), np.int64(4), np.int64(8), np.int64(5), np.int64(9), np.int64(6), np.int64(9), np.int64(0), np.int64(6), np.int64(3), np.int64(0), np.int64(8), np.int64(1), np.int64(6), np.int64(0), np.int64(0), np.int64(1), np.int64(2), np.int64(3), np.int64(4), np.int64(5), np.int64(6), np.int64(7), np.int64(0), np.int64(1), np.int64(2), np.int64(3), np.int64(4), np.int64(7), np.int64(8), np.int64(9), np.int64(0), np.int64(1), np.int64(2), np.int64(3), np.int64(4), np.int64(7), np.int64(2), np.int64(5), np.int64(1), np.int64(6), np.int64(4), np.int64(3), np.int64(9), np.int64(9), np.int64(0), np.int64(9), np.int64(7), np.int64(1), np.int64(6), np.int64(4), np.int64(3), np.int64(6), np.int64(2), np.int64(0), np.int64(9), np.int64(8), np.int64(6), np.int64(5), np.int64(7), np.int64(0), np.int64(0), np.int64(1), np.int64(7), np.int64(4), np.int64(3), np.int64(2), np.int64(4), np.int64(1), np.int64(3), np.int64(7), np.int64(6), np.int64(4), np.int64(7), np.int64(7), np.int64(7), np.int64(9), np.int64(8), np.int64(9), np.int64(3), np.int64(8), np.int64(2), np.int64(8), np.int64(3), np.int64(5), np.int64(8), np.int64(0), np.int64(5), np.int64(4), np.int64(7), np.int64(1), np.int64(3), np.int64(1), np.int64(7), np.int64(9), np.int64(6), np.int64(2), np.int64(0), np.int64(9), np.int64(1), np.int64(7), np.int64(3), np.int64(3), np.int64(9), np.int64(1), np.int64(6), np.int64(4), np.int64(3), np.int64(9), np.int64(8), np.int64(2), np.int64(1), np.int64(8), np.int64(6), np.int64(4), np.int64(1), np.int64(5), np.int64(5), np.int64(6), np.int64(5), np.int64(0), np.int64(1), np.int64(2), np.int64(3), np.int64(4), np.int64(5), np.int64(6), np.int64(7), np.int64(0), np.int64(9), np.int64(0), np.int64(1), np.int64(2), np.int64(3), np.int64(4), np.int64(5), np.int64(6), np.int64(7), np.int64(8), np.int64(9), np.int64(0), np.int64(1), np.int64(2), np.int64(3), np.int64(4), np.int64(5), np.int64(6), np.int64(7), np.int64(8), np.int64(9), np.int64(6), np.int64(9), np.int64(7), np.int64(0), np.int64(2), np.int64(3), np.int64(4), np.int64(3), np.int64(8), np.int64(5), np.int64(1), np.int64(3), np.int64(0), np.int64(1), np.int64(2), np.int64(1), np.int64(3), np.int64(2), np.int64(0), np.int64(7), np.int64(2), np.int64(6), np.int64(4), np.int64(0), np.int64(5), np.int64(9), np.int64(9), np.int64(8), np.int64(9), np.int64(5), np.int64(3), np.int64(8), np.int64(7), np.int64(4), np.int64(7), np.int64(0), np.int64(0), np.int64(6), np.int64(6), np.int64(6), np.int64(3), np.int64(7), np.int64(8), np.int64(2), np.int64(6), np.int64(8), np.int64(8), np.int64(7), np.int64(1), np.int64(4), np.int64(0), np.int64(4), np.int64(8), np.int64(5), np.int64(2), np.int64(3), np.int64(9), np.int64(0), np.int64(1), np.int64(9), np.int64(1), np.int64(5), np.int64(1), np.int64(7), np.int64(6), np.int64(1), np.int64(2), np.int64(1), np.int64(6), np.int64(8), np.int64(0), np.int64(1), np.int64(2), np.int64(3), np.int64(4), np.int64(5), np.int64(6), np.int64(7), np.int64(8), np.int64(9), np.int64(0), np.int64(1), np.int64(2), np.int64(3), np.int64(4), np.int64(5), np.int64(6), np.int64(7), np.int64(8), np.int64(0), np.int64(1), np.int64(2), np.int64(3), np.int64(5), np.int64(6), np.int64(7), np.int64(8), np.int64(1), np.int64(0), np.int64(4), np.int64(5), np.int64(6), np.int64(6), np.int64(3), np.int64(4), np.int64(4), np.int64(2), np.int64(8), np.int64(1), np.int64(0), np.int64(6), np.int64(4), np.int64(9), np.int64(7), np.int64(2), np.int64(9), np.int64(2), np.int64(0), np.int64(9), np.int64(3), np.int64(3), np.int64(9), np.int64(1), np.int64(5), np.int64(2), np.int64(3), np.int64(1), np.int64(6), np.int64(7), np.int64(3), np.int64(7), np.int64(8), np.int64(4), np.int64(0), np.int64(2), np.int64(4), np.int64(0), np.int64(2), np.int64(4), np.int64(7), np.int64(8), np.int64(0), np.int64(7), np.int64(0), np.int64(6), np.int64(9), np.int64(3), np.int64(2), np.int64(4), np.int64(8), np.int64(6), np.int64(0), np.int64(5), np.int64(7), np.int64(5), np.int64(1), np.int64(0), np.int64(8), np.int64(1), np.int64(6), np.int64(7), np.int64(2), np.int64(9), np.int64(7), np.int64(9), np.int64(5), np.int64(6), np.int64(5), np.int64(2), np.int64(6), np.int64(2), np.int64(8), np.int64(1), np.int64(7), np.int64(5), np.int64(5), np.int64(7), np.int64(3), np.int64(5), np.int64(0), np.int64(1), np.int64(1), np.int64(3), np.int64(8), np.int64(4), np.int64(9), np.int64(4), np.int64(5), np.int64(1), np.int64(8), np.int64(6), np.int64(8), np.int64(9), np.int64(0), np.int64(1), np.int64(2), np.int64(3), np.int64(4), np.int64(5), np.int64(6), np.int64(7), np.int64(8), np.int64(9), np.int64(0), np.int64(1), np.int64(2), np.int64(3), np.int64(4), np.int64(5), np.int64(6), np.int64(7), np.int64(8), np.int64(9), np.int64(0), np.int64(1), np.int64(2), np.int64(3), np.int64(4), np.int64(5), np.int64(6), np.int64(7), np.int64(8), np.int64(9), np.int64(3), np.int64(5), np.int64(3), np.int64(2), np.int64(9), np.int64(3), np.int64(2), np.int64(1), np.int64(4), np.int64(5), np.int64(5), np.int64(2), np.int64(3), np.int64(2), np.int64(1), np.int64(3), np.int64(9), np.int64(7), np.int64(2), np.int64(1), np.int64(2), np.int64(8), np.int64(9), np.int64(1), np.int64(8), np.int64(8), np.int64(7), np.int64(8), np.int64(1), np.int64(0), np.int64(0), np.int64(6), np.int64(7), np.int64(7), np.int64(8), np.int64(7), np.int64(5), np.int64(0), np.int64(6), np.int64(1), np.int64(5), np.int64(7), np.int64(4), np.int64(6), np.int64(1), np.int64(2), np.int64(5), np.int64(0), np.int64(7), np.int64(9), np.int64(9), np.int64(0), np.int64(3), np.int64(4), np.int64(4), np.int64(8), np.int64(4), np.int64(1), np.int64(8), np.int64(6), np.int64(5), np.int64(9), np.int64(0), np.int64(0), np.int64(0), np.int64(3), np.int64(7), np.int64(1), np.int64(6), np.int64(4), np.int64(6), np.int64(0), np.int64(4), np.int64(5), np.int64(4), np.int64(1), np.int64(3), np.int64(8), np.int64(6), np.int64(3), np.int64(9), np.int64(9), np.int64(5), np.int64(9), np.int64(3), np.int64(7), np.int64(8), np.int64(5), np.int64(6), np.int64(4), np.int64(7), np.int64(6), np.int64(2), np.int64(2), np.int64(0), np.int64(9), np.int64(4), np.int64(0), np.int64(1), np.int64(2), np.int64(3), np.int64(4), np.int64(5), np.int64(6), np.int64(7), np.int64(8), np.int64(9), np.int64(0), np.int64(1), np.int64(2), np.int64(3), np.int64(4), np.int64(5), np.int64(6), np.int64(7), np.int64(8), np.int64(9), np.int64(0), np.int64(1), np.int64(2), np.int64(3), np.int64(4), np.int64(5), np.int64(6), np.int64(7), np.int64(8), np.int64(9), np.int64(6), np.int64(4), np.int64(2), np.int64(6), np.int64(4), np.int64(7), np.int64(5), np.int64(5), np.int64(4), np.int64(7), np.int64(2), np.int64(9), np.int64(3), np.int64(9), np.int64(3), np.int64(8), np.int64(2), np.int64(0), np.int64(9), np.int64(5), np.int64(6), np.int64(0), np.int64(1), np.int64(0), np.int64(6), np.int64(5), np.int64(3), np.int64(5), np.int64(3), np.int64(8), np.int64(0), np.int64(0), np.int64(3), np.int64(4), np.int64(1), np.int64(6), np.int64(3), np.int64(0), np.int64(8), np.int64(3), np.int64(0), np.int64(6), np.int64(2), np.int64(7), np.int64(8), np.int64(1), np.int64(7), np.int64(1), np.int64(3), np.int64(8), np.int64(5), np.int64(4), np.int64(2), np.int64(0), np.int64(9), np.int64(7), np.int64(6), np.int64(7), np.int64(4), np.int64(1), np.int64(6), np.int64(2), np.int64(6), np.int64(7), np.int64(1), np.int64(9), np.int64(8), np.int64(0), np.int64(6), np.int64(9), np.int64(4), np.int64(9), np.int64(9), np.int64(6), np.int64(2), np.int64(3), np.int64(7), np.int64(1), np.int64(9), np.int64(2), np.int64(2), np.int64(5), np.int64(3), np.int64(7), np.int64(8), np.int64(0), np.int64(1), np.int64(2), np.int64(3), np.int64(4), np.int64(7), np.int64(8), np.int64(9), np.int64(0), np.int64(1), np.int64(2), np.int64(3), np.int64(4), np.int64(7), np.int64(8), np.int64(9), np.int64(0), np.int64(1), np.int64(7), np.int64(8), np.int64(9), np.int64(8), np.int64(9), np.int64(2), np.int64(6), np.int64(1), np.int64(3), np.int64(5), np.int64(4), np.int64(8), np.int64(2), np.int64(6), np.int64(4), np.int64(3), np.int64(4), np.int64(5), np.int64(9), np.int64(2), np.int64(0), np.int64(3), np.int64(9), np.int64(4), np.int64(9), np.int64(7), np.int64(3), np.int64(8), np.int64(7), np.int64(4), np.int64(4), np.int64(9), np.int64(8), np.int64(5), np.int64(8), np.int64(2), np.int64(6), np.int64(6), np.int64(2), np.int64(3), np.int64(1), np.int64(3), np.int64(2), np.int64(7), np.int64(3), np.int64(1), np.int64(9), np.int64(0), np.int64(1), np.int64(1), np.int64(3), np.int64(5), np.int64(0), np.int64(7), np.int64(8), np.int64(1), np.int64(5), np.int64(1), np.int64(4), np.int64(6), np.int64(0), np.int64(0), np.int64(4), np.int64(9), np.int64(1), np.int64(6), np.int64(6), np.int64(9), np.int64(0), np.int64(7), np.int64(6), np.int64(1), np.int64(1), np.int64(0), np.int64(1), np.int64(2), np.int64(3), np.int64(4), np.int64(2), np.int64(2), np.int64(3), np.int64(4), np.int64(5), np.int64(6), np.int64(2), np.int64(0), np.int64(1), np.int64(2), np.int64(2), np.int64(8), np.int64(6), np.int64(3), np.int64(9), np.int64(3), np.int64(1), np.int64(9), np.int64(3), np.int64(9), np.int64(6), np.int64(1), np.int64(7), np.int64(2), np.int64(4), np.int64(4), np.int64(5), np.int64(7), np.int64(0), np.int64(0), np.int64(1), np.int64(6), np.int64(6), np.int64(8), np.int64(2), np.int64(7), np.int64(7), np.int64(2), np.int64(4), np.int64(2), np.int64(1), np.int64(6), np.int64(1), np.int64(0), np.int64(6), np.int64(9), np.int64(8), np.int64(3), np.int64(9), np.int64(6), np.int64(3), np.int64(0), np.int64(1), np.int64(2), np.int64(3), np.int64(4), np.int64(5), np.int64(6), np.int64(7), np.int64(8), np.int64(9), np.int64(0), np.int64(8), np.int64(2), np.int64(3), np.int64(4), np.int64(5), np.int64(6), np.int64(7), np.int64(8), np.int64(9), np.int64(0), np.int64(8), np.int64(2), np.int64(3), np.int64(4), np.int64(5), np.int64(6), np.int64(7), np.int64(8), np.int64(9), np.int64(1), np.int64(6), np.int64(8), np.int64(9), np.int64(9), np.int64(0), np.int64(1), np.int64(2), np.int64(4), np.int64(4), np.int64(3), np.int64(7), np.int64(4), np.int64(4), np.int64(4), np.int64(0), np.int64(3), np.int64(8), np.int64(7), np.int64(5), np.int64(8), np.int64(2), np.int64(1), np.int64(7), np.int64(5), np.int64(3), np.int64(8), np.int64(5), np.int64(2), np.int64(5), np.int64(1), np.int64(1), np.int64(6), np.int64(3), np.int64(1), np.int64(3), np.int64(8), np.int64(6), np.int64(7), np.int64(2), np.int64(6), np.int64(2), np.int64(5), np.int64(5), np.int64(0), np.int64(2), np.int64(8), np.int64(0), np.int64(6), np.int64(8), np.int64(1), np.int64(7), np.int64(9), np.int64(1), np.int64(9), np.int64(2), np.int64(6), np.int64(7), np.int64(6), np.int64(6), np.int64(8), np.int64(7), np.int64(4), np.int64(9), np.int64(2), np.int64(1), np.int64(3), np.int64(3), np.int64(0), np.int64(5), np.int64(5), np.int64(8), np.int64(0), np.int64(3), np.int64(7), np.int64(9), np.int64(7), np.int64(0), np.int64(3), np.int64(7), np.int64(9), np.int64(1), np.int64(7), np.int64(8), np.int64(0), np.int64(3), np.int64(5), np.int64(3), np.int64(6), np.int64(0), np.int64(1), np.int64(2), np.int64(3), np.int64(4), np.int64(5), np.int64(6), np.int64(7), np.int64(8), np.int64(9), np.int64(0), np.int64(1), np.int64(2), np.int64(3), np.int64(4), np.int64(5), np.int64(6), np.int64(7), np.int64(8), np.int64(9), np.int64(0), np.int64(1), np.int64(2), np.int64(3), np.int64(4), np.int64(7), np.int64(8), np.int64(9), np.int64(6), np.int64(4), np.int64(2), np.int64(6), np.int64(4), np.int64(7), np.int64(8), np.int64(9), np.int64(2), np.int64(9), np.int64(3), np.int64(9), np.int64(3), np.int64(0), np.int64(0), np.int64(1), np.int64(0), np.int64(4), np.int64(2), np.int64(6), np.int64(3), np.int64(5), np.int64(3), np.int64(0), np.int64(3), np.int64(4), np.int64(1), np.int64(5), np.int64(3), np.int64(0), np.int64(8), np.int64(3), np.int64(0), np.int64(6), np.int64(1), np.int64(7), np.int64(8), np.int64(0), np.int64(9), np.int64(2), np.int64(6), np.int64(7), np.int64(1), np.int64(9), np.int64(6), np.int64(9), np.int64(4), np.int64(9), np.int64(9), np.int64(6), np.int64(7), np.int64(1), np.int64(2), np.int64(5), np.int64(3), np.int64(7), np.int64(8), np.int64(0), np.int64(1), np.int64(2), np.int64(4), np.int64(5), np.int64(6), np.int64(7), np.int64(8), np.int64(9), np.int64(0), np.int64(1), np.int64(3), np.int64(4), np.int64(5), np.int64(6), np.int64(7), np.int64(5), np.int64(0), np.int64(1), np.int64(3), np.int64(4), np.int64(7), np.int64(8), np.int64(9), np.int64(7), np.int64(5), np.int64(5), np.int64(1), np.int64(9), np.int64(9), np.int64(7), np.int64(1), np.int64(0), np.int64(0), np.int64(5), np.int64(9), np.int64(7), np.int64(1), np.int64(7), np.int64(2), np.int64(2), np.int64(3), np.int64(6), np.int64(8), np.int64(3), np.int64(2), np.int64(0), np.int64(0), np.int64(6), np.int64(1), np.int64(7), np.int64(5), np.int64(8), np.int64(6), np.int64(2), np.int64(9), np.int64(4), np.int64(8), np.int64(8), np.int64(7), np.int64(1), np.int64(0), np.int64(8), np.int64(7), np.int64(7), np.int64(5), np.int64(8), np.int64(5), np.int64(3), np.int64(4), np.int64(6), np.int64(1), np.int64(1), np.int64(5), np.int64(5), np.int64(0), np.int64(7), np.int64(2), np.int64(3), np.int64(6), np.int64(4), np.int64(1), np.int64(2), np.int64(4), np.int64(1), np.int64(5), np.int64(4), np.int64(2), np.int64(0), np.int64(4), np.int64(8), np.int64(6), np.int64(1), np.int64(9), np.int64(0), np.int64(2), np.int64(5), np.int64(6), np.int64(9), np.int64(3), np.int64(6), np.int64(3), np.int64(6), np.int64(0), np.int64(1), np.int64(2), np.int64(3), np.int64(4), np.int64(5), np.int64(6), np.int64(7), np.int64(8), np.int64(9), np.int64(0), np.int64(1), np.int64(2), np.int64(3), np.int64(4), np.int64(5), np.int64(6), np.int64(7), np.int64(8), np.int64(9), np.int64(0), np.int64(1), np.int64(2), np.int64(3), np.int64(5), np.int64(6), np.int64(7), np.int64(8), np.int64(1), np.int64(0), np.int64(9), np.int64(5), np.int64(7), np.int64(5), np.int64(1), np.int64(8), np.int64(6), np.int64(9), np.int64(0), np.int64(4), np.int64(1), np.int64(9), np.int64(3), np.int64(8), np.int64(4), np.int64(4), np.int64(7), np.int64(0), np.int64(1), np.int64(9), np.int64(2), np.int64(8), np.int64(7), np.int64(8), np.int64(2), np.int64(3), np.int64(9), np.int64(6), np.int64(0), np.int64(6), np.int64(5), np.int64(5), np.int64(3), np.int64(3), np.int64(3), np.int64(9), np.int64(8), np.int64(1), np.int64(1), np.int64(0), np.int64(6), np.int64(1), np.int64(0), np.int64(0), np.int64(6), np.int64(2), np.int64(1), np.int64(1), np.int64(3), np.int64(2), np.int64(7), np.int64(7), np.int64(8), np.int64(8), np.int64(7), np.int64(8), np.int64(4), np.int64(6), np.int64(0), np.int64(2), np.int64(0), np.int64(7), np.int64(0), np.int64(3), np.int64(6), np.int64(8), np.int64(7), np.int64(1), np.int64(3), np.int64(9), np.int64(9), np.int64(3), np.int64(7), np.int64(2), np.int64(4), np.int64(9), np.int64(4), np.int64(3), np.int64(6), np.int64(2), np.int64(2), np.int64(5), np.int64(3), np.int64(2), np.int64(5), np.int64(5), np.int64(9), np.int64(4), np.int64(1), np.int64(7), np.int64(2), np.int64(0), np.int64(1), np.int64(2), np.int64(3), np.int64(4), np.int64(5), np.int64(6), np.int64(7), np.int64(8), np.int64(9), np.int64(0), np.int64(1), np.int64(7), np.int64(3), np.int64(4), np.int64(5), np.int64(6), np.int64(7), np.int64(8), np.int64(9), np.int64(0), np.int64(1), np.int64(2), np.int64(3), np.int64(4), np.int64(5), np.int64(6), np.int64(7), np.int64(8), np.int64(9), np.int64(1), np.int64(0), np.int64(1), np.int64(2), np.int64(7), np.int64(5), np.int64(3), np.int64(4), np.int64(4), np.int64(0), np.int64(0), np.int64(6), np.int64(9), np.int64(6), np.int64(6), np.int64(5), np.int64(7), np.int64(2), np.int64(3), np.int64(4), np.int64(4), np.int64(9), np.int64(1), np.int64(4), np.int64(0), np.int64(7), np.int64(9), np.int64(5), np.int64(7), np.int64(2), np.int64(3), np.int64(1), np.int64(4), np.int64(4), np.int64(0), np.int64(9), np.int64(9), np.int64(6), np.int64(1), np.int64(8), np.int64(3), np.int64(3), np.int64(7), np.int64(3), np.int64(9), np.int64(8), np.int64(8), np.int64(4), np.int64(7), np.int64(7), np.int64(6), np.int64(2), np.int64(1), np.int64(9), np.int64(8), np.int64(7), np.int64(8), np.int64(8), np.int64(7), np.int64(2), np.int64(2), np.int64(3), np.int64(9), np.int64(3), np.int64(3), np.int64(5), np.int64(5), np.int64(0), np.int64(7), np.int64(4), np.int64(5), np.int64(6), np.int64(5), np.int64(1), np.int64(4), np.int64(1), np.int64(1), np.int64(2), np.int64(8), np.int64(2), np.int64(6), np.int64(1), np.int64(5), np.int64(0), np.int64(1), np.int64(2), np.int64(3), np.int64(4), np.int64(5), np.int64(6), np.int64(7), np.int64(8), np.int64(9), np.int64(0), np.int64(1), np.int64(2), np.int64(3), np.int64(4), np.int64(5), np.int64(6), np.int64(7), np.int64(8), np.int64(9), np.int64(0), np.int64(1), np.int64(2), np.int64(3), np.int64(4), np.int64(5), np.int64(6), np.int64(7), np.int64(8), np.int64(8), np.int64(0), np.int64(6), np.int64(0), np.int64(8), np.int64(2), np.int64(3), np.int64(7), np.int64(9), np.int64(4), np.int64(7), np.int64(1), np.int64(9), np.int64(1), np.int64(7), np.int64(1), np.int64(4), np.int64(0), np.int64(0), np.int64(1), np.int64(7), np.int64(5), np.int64(7), np.int64(1), np.int64(3), np.int64(3), np.int64(3), np.int64(1), np.int64(6), np.int64(9), np.int64(7), np.int64(1), np.int64(3), np.int64(0), np.int64(7), np.int64(6), np.int64(0), np.int64(8), np.int64(9), np.int64(7), np.int64(3), np.int64(5), np.int64(4), np.int64(8), np.int64(1), np.int64(5), np.int64(9), np.int64(0), np.int64(6), np.int64(3), np.int64(3), np.int64(8), np.int64(1), np.int64(4), np.int64(7), np.int64(5), np.int64(2), np.int64(0), np.int64(0), np.int64(1), np.int64(7), np.int64(8), np.int64(9), np.int64(6), np.int64(8), np.int64(8), np.int64(2), np.int64(3), np.int64(5), np.int64(1), np.int64(8), np.int64(9), np.int64(5), np.int64(2), np.int64(0), np.int64(1), np.int64(2), np.int64(3), np.int64(4), np.int64(5), np.int64(6), np.int64(7), np.int64(8), np.int64(9), np.int64(0), np.int64(1), np.int64(3), np.int64(3), np.int64(4), np.int64(5), np.int64(6), np.int64(7), np.int64(8), np.int64(9), np.int64(0), np.int64(1), np.int64(3), np.int64(3), np.int64(4), np.int64(6), np.int64(6), np.int64(7), np.int64(8), np.int64(9), np.int64(7), np.int64(4), np.int64(6), np.int64(1), np.int64(4), np.int64(0), np.int64(9), np.int64(9), np.int64(3), np.int64(7), np.int64(8), np.int64(6), np.int64(7), np.int64(5), np.int64(8), np.int64(6), np.int64(3), np.int64(2), np.int64(2), np.int64(0), np.int64(5), np.int64(5), np.int64(6), np.int64(0), np.int64(3), np.int64(8), np.int64(1), np.int64(0), np.int64(3), np.int64(0), np.int64(4), np.int64(7), np.int64(4), np.int64(9), np.int64(2), np.int64(9), np.int64(6), np.int64(7), np.int64(1), np.int64(7), np.int64(1), np.int64(6), np.int64(6), np.int64(3), np.int64(6), np.int64(0), np.int64(8), np.int64(7), np.int64(6), np.int64(4), np.int64(9), np.int64(9), np.int64(5), np.int64(3), np.int64(7), np.int64(4), np.int64(3), np.int64(0), np.int64(7), np.int64(5), np.int64(6), np.int64(1), np.int64(1), np.int64(3), np.int64(2), np.int64(1), np.int64(0), np.int64(0), np.int64(1), np.int64(2), np.int64(3), np.int64(4), np.int64(7), np.int64(8), np.int64(4), np.int64(0), np.int64(1), np.int64(2), np.int64(3), np.int64(4), np.int64(5), np.int64(6), np.int64(7), np.int64(8), np.int64(0), np.int64(1), np.int64(2), np.int64(3), np.int64(4), np.int64(7), np.int64(8), np.int64(9), np.int64(0), np.int64(8), np.int64(3), np.int64(9), np.int64(5), np.int64(5), np.int64(2), np.int64(6), np.int64(8), np.int64(4), np.int64(1), np.int64(7), np.int64(1), np.int64(3), np.int64(3), np.int64(5), np.int64(6), np.int64(9), np.int64(1), np.int64(1), np.int64(1), np.int64(2), np.int64(1), np.int64(2), np.int64(0), np.int64(7), np.int64(7), np.int64(5), np.int64(8), np.int64(3), np.int64(9), np.int64(8), np.int64(6), np.int64(7), np.int64(3), np.int64(4), np.int64(6), np.int64(8), np.int64(7), np.int64(0), np.int64(4), np.int64(2), np.int64(7), np.int64(7), np.int64(5), np.int64(4), np.int64(3), np.int64(4), np.int64(2), np.int64(8), np.int64(1), np.int64(5), np.int64(1), np.int64(0), np.int64(2), np.int64(3), np.int64(3), np.int64(5), np.int64(7), np.int64(0), np.int64(6), np.int64(8), np.int64(6), np.int64(3), np.int64(9), np.int64(9), np.int64(5), np.int64(2), np.int64(7), np.int64(7), np.int64(1), np.int64(0), np.int64(1), np.int64(7), np.int64(8), np.int64(9), np.int64(0), np.int64(1), np.int64(3), np.int64(3), np.int64(4), np.int64(5), np.int64(6), np.int64(7), np.int64(8), np.int64(0), np.int64(1), np.int64(2), np.int64(3), np.int64(4), np.int64(7), np.int64(8), np.int64(9), np.int64(7), np.int64(8), np.int64(6), np.int64(4), np.int64(1), np.int64(7), np.int64(3), np.int64(8), np.int64(4), np.int64(4), np.int64(7), np.int64(0), np.int64(1), np.int64(9), np.int64(2), np.int64(8), np.int64(7), np.int64(8), np.int64(2), np.int64(6), np.int64(0), np.int64(4), np.int64(5), np.int64(3), np.int64(3), np.int64(8), np.int64(9), np.int64(1), np.int64(4), np.int64(0), np.int64(6), np.int64(1), np.int64(0), np.int64(0), np.int64(6), np.int64(2), np.int64(1), np.int64(1), np.int64(7), np.int64(7), np.int64(8), np.int64(4), np.int64(6), np.int64(0), np.int64(7), np.int64(0), np.int64(3), np.int64(6), np.int64(8), np.int64(7), np.int64(1), np.int64(5), np.int64(2), np.int64(4), np.int64(9), np.int64(4), np.int64(3), np.int64(6), np.int64(4), np.int64(1), np.int64(7), np.int64(7), np.int64(6), np.int64(5), np.int64(0), np.int64(1), np.int64(2), np.int64(3), np.int64(4), np.int64(5), np.int64(6), np.int64(7), np.int64(8), np.int64(9), np.int64(0), np.int64(1), np.int64(2), np.int64(3), np.int64(4), np.int64(5), np.int64(6)]\n"
          ]
        }
      ]
    },
    {
      "cell_type": "markdown",
      "source": [
        "Y_test --> True labels\n",
        "\n",
        "Y_pred_labels --> Predicted Labels\n",
        "\n",
        "Confusin Matrix"
      ],
      "metadata": {
        "id": "hupraH-XIulP"
      }
    },
    {
      "cell_type": "code",
      "source": [
        "conf_mat = confusion_matrix(Y_test, Y_pred_labels)"
      ],
      "metadata": {
        "id": "ZTKns6JuIqdw"
      },
      "execution_count": 24,
      "outputs": []
    },
    {
      "cell_type": "code",
      "source": [
        "print(conf_mat)"
      ],
      "metadata": {
        "colab": {
          "base_uri": "https://localhost:8080/"
        },
        "id": "sNVJqFA_IyMn",
        "outputId": "ad89b99e-ec8a-49cc-8f9d-a6952e30ee5e"
      },
      "execution_count": 25,
      "outputs": [
        {
          "output_type": "stream",
          "name": "stdout",
          "text": [
            "tf.Tensor(\n",
            "[[ 963    0    3    2    1    1    2    2    3    3]\n",
            " [   0 1112    2    3    0    0    2    3   12    1]\n",
            " [   3    1  976   30    1    0    1   11    9    0]\n",
            " [   0    0    1  983    0    6    1    7    6    6]\n",
            " [   0    0    7    0  957    0    6    6    2    4]\n",
            " [   2    0    0   17    2  856    8    1    4    2]\n",
            " [   5    2    5    1    2    5  935    2    1    0]\n",
            " [   0    1    7    5    1    0    0 1004    2    8]\n",
            " [   6    0    2   25    1    6    2    3  926    3]\n",
            " [   1    2    0   11   12    5    1    8   14  955]], shape=(10, 10), dtype=int32)\n"
          ]
        }
      ]
    },
    {
      "cell_type": "code",
      "source": [
        "plt.figure(figsize=(15,7))\n",
        "sns.heatmap(conf_mat, annot=True, fmt='d', cmap='Blues')\n",
        "plt.ylabel('True Labels')\n",
        "plt.xlabel('Predicted Labels')"
      ],
      "metadata": {
        "colab": {
          "base_uri": "https://localhost:8080/",
          "height": 631
        },
        "id": "HvFgmWp4I_LL",
        "outputId": "8e3fbc42-1697-44b9-b17d-8d75fffc7e06"
      },
      "execution_count": 26,
      "outputs": [
        {
          "output_type": "execute_result",
          "data": {
            "text/plain": [
              "Text(0.5, 47.7222222222222, 'Predicted Labels')"
            ]
          },
          "metadata": {},
          "execution_count": 26
        },
        {
          "output_type": "display_data",
          "data": {
            "text/plain": [
              "<Figure size 1500x700 with 2 Axes>"
            ],
            "image/png": "[encoded data removed]"
          },
          "metadata": {}
        }
      ]
    },
    {
      "cell_type": "markdown",
      "source": [
        "**Building a Predictive System**"
      ],
      "metadata": {
        "id": "0AtsyWLGJKo1"
      }
    },
    {
      "cell_type": "code",
      "source": [
        "input_image_path = '/content/MNIST_digit.png'\n",
        "\n",
        "input_image = cv2.imread(input_image_path)"
      ],
      "metadata": {
        "id": "a9crY0-_JMSU"
      },
      "execution_count": 27,
      "outputs": []
    },
    {
      "cell_type": "code",
      "source": [
        "type(input_image)"
      ],
      "metadata": {
        "colab": {
          "base_uri": "https://localhost:8080/"
        },
        "id": "xOMKt5zCLg7G",
        "outputId": "a639c8bc-5c85-4174-cd01-1e720bc0cacc"
      },
      "execution_count": 28,
      "outputs": [
        {
          "output_type": "execute_result",
          "data": {
            "text/plain": [
              "numpy.ndarray"
            ]
          },
          "metadata": {},
          "execution_count": 28
        }
      ]
    },
    {
      "cell_type": "code",
      "source": [
        "print(input_image)"
      ],
      "metadata": {
        "colab": {
          "base_uri": "https://localhost:8080/"
        },
        "id": "YfrwekXXLoQG",
        "outputId": "6a5a3191-d5b0-478f-d1c0-e4b2967ed8f7"
      },
      "execution_count": 29,
      "outputs": [
        {
          "output_type": "stream",
          "name": "stdout",
          "text": [
            "[[[0 0 0]\n",
            "  [0 0 0]\n",
            "  [0 0 0]\n",
            "  ...\n",
            "  [0 0 0]\n",
            "  [0 0 0]\n",
            "  [0 0 0]]\n",
            "\n",
            " [[0 0 0]\n",
            "  [0 0 0]\n",
            "  [0 0 0]\n",
            "  ...\n",
            "  [0 0 0]\n",
            "  [0 0 0]\n",
            "  [0 0 0]]\n",
            "\n",
            " [[0 0 0]\n",
            "  [0 0 0]\n",
            "  [0 0 0]\n",
            "  ...\n",
            "  [0 0 0]\n",
            "  [0 0 0]\n",
            "  [0 0 0]]\n",
            "\n",
            " ...\n",
            "\n",
            " [[0 0 0]\n",
            "  [0 0 0]\n",
            "  [0 0 0]\n",
            "  ...\n",
            "  [0 0 0]\n",
            "  [0 0 0]\n",
            "  [0 0 0]]\n",
            "\n",
            " [[0 0 0]\n",
            "  [0 0 0]\n",
            "  [0 0 0]\n",
            "  ...\n",
            "  [0 0 0]\n",
            "  [0 0 0]\n",
            "  [0 0 0]]\n",
            "\n",
            " [[0 0 0]\n",
            "  [0 0 0]\n",
            "  [0 0 0]\n",
            "  ...\n",
            "  [0 0 0]\n",
            "  [0 0 0]\n",
            "  [0 0 0]]]\n"
          ]
        }
      ]
    },
    {
      "cell_type": "code",
      "source": [
        "cv2_imshow(input_image)"
      ],
      "metadata": {
        "colab": {
          "base_uri": "https://localhost:8080/",
          "height": 335
        },
        "id": "nPRnhidGLpDi",
        "outputId": "bffcbc82-aa71-4639-a298-817614536bdb"
      },
      "execution_count": 30,
      "outputs": [
        {
          "output_type": "display_data",
          "data": {
            "text/plain": [
              "<PIL.Image.Image image mode=RGB size=318x318>"
            ],
            "image/png": "[encoded data removed]",
            "image/jpeg": "[encoded data removed]"
          },
          "metadata": {}
        }
      ]
    },
    {
      "cell_type": "code",
      "source": [
        "input_image.shape"
      ],
      "metadata": {
        "colab": {
          "base_uri": "https://localhost:8080/"
        },
        "id": "vA-auhVwLrMd",
        "outputId": "711da6e4-14b8-4589-877e-9d598a0dc8d4"
      },
      "execution_count": 31,
      "outputs": [
        {
          "output_type": "execute_result",
          "data": {
            "text/plain": [
              "(318, 318, 3)"
            ]
          },
          "metadata": {},
          "execution_count": 31
        }
      ]
    },
    {
      "cell_type": "code",
      "source": [
        "grayscale = cv2.cvtColor(input_image, cv2.COLOR_RGB2GRAY)"
      ],
      "metadata": {
        "id": "e1arSu1IMlPp"
      },
      "execution_count": 32,
      "outputs": []
    },
    {
      "cell_type": "code",
      "source": [
        "grayscale.shape"
      ],
      "metadata": {
        "colab": {
          "base_uri": "https://localhost:8080/"
        },
        "id": "U-5IHM0FMpji",
        "outputId": "2c65d3af-ac91-41bf-dd3a-644de09befb3"
      },
      "execution_count": 33,
      "outputs": [
        {
          "output_type": "execute_result",
          "data": {
            "text/plain": [
              "(318, 318)"
            ]
          },
          "metadata": {},
          "execution_count": 33
        }
      ]
    },
    {
      "cell_type": "code",
      "source": [
        "input_image_resize = cv2.resize(grayscale, (28, 28))"
      ],
      "metadata": {
        "id": "x3d7Ewu8MsJh"
      },
      "execution_count": 35,
      "outputs": []
    },
    {
      "cell_type": "code",
      "source": [
        "input_image_resize.shape"
      ],
      "metadata": {
        "colab": {
          "base_uri": "https://localhost:8080/"
        },
        "id": "GZOeb_WmMv2S",
        "outputId": "9eed48f4-e9f8-4256-d39d-302b7b905beb"
      },
      "execution_count": 36,
      "outputs": [
        {
          "output_type": "execute_result",
          "data": {
            "text/plain": [
              "(28, 28)"
            ]
          },
          "metadata": {},
          "execution_count": 36
        }
      ]
    },
    {
      "cell_type": "code",
      "source": [
        "cv2_imshow(input_image_resize)"
      ],
      "metadata": {
        "colab": {
          "base_uri": "https://localhost:8080/",
          "height": 45
        },
        "id": "nVQLxfkUMzUB",
        "outputId": "6d46aff5-82bc-4136-f684-6eaeccf6b2d1"
      },
      "execution_count": 37,
      "outputs": [
        {
          "output_type": "display_data",
          "data": {
            "text/plain": [
              "<PIL.Image.Image image mode=L size=28x28>"
            ],
            "image/png": "[encoded data removed]",
            "image/jpeg": "[encoded data removed]"
          },
          "metadata": {}
        }
      ]
    },
    {
      "cell_type": "code",
      "source": [
        "input_image_resize = input_image_resize/255"
      ],
      "metadata": {
        "id": "nbhXqGI4M2AR"
      },
      "execution_count": 38,
      "outputs": []
    },
    {
      "cell_type": "code",
      "source": [
        "type(input_image_resize)"
      ],
      "metadata": {
        "colab": {
          "base_uri": "https://localhost:8080/"
        },
        "id": "S73f92CRM5X5",
        "outputId": "c2f99262-30d8-4c94-813d-6a1429b5053e"
      },
      "execution_count": 39,
      "outputs": [
        {
          "output_type": "execute_result",
          "data": {
            "text/plain": [
              "numpy.ndarray"
            ]
          },
          "metadata": {},
          "execution_count": 39
        }
      ]
    },
    {
      "cell_type": "code",
      "source": [
        "image_reshaped = np.reshape(input_image_resize, [1,28,28])"
      ],
      "metadata": {
        "id": "sXaQUN93M8s5"
      },
      "execution_count": 40,
      "outputs": []
    },
    {
      "cell_type": "code",
      "source": [
        "input_prediction = model.predict(image_reshaped)\n",
        "print(input_prediction)"
      ],
      "metadata": {
        "colab": {
          "base_uri": "https://localhost:8080/"
        },
        "id": "WcyX-WdzM-16",
        "outputId": "d81614c8-60d2-4eac-e303-895bb38ed9e5"
      },
      "execution_count": 41,
      "outputs": [
        {
          "output_type": "stream",
          "name": "stdout",
          "text": [
            "\u001b[1m1/1\u001b[0m \u001b[32m━━━━━━━━━━━━━━━━━━━━\u001b[0m\u001b[37m\u001b[0m \u001b[1m0s\u001b[0m 45ms/step\n",
            "[[2.0760120e-13 5.0999081e-08 2.1309866e-06 1.0000000e+00 8.8461106e-14\n",
            "  1.0036839e-02 6.9825403e-30 3.2836755e-03 3.4921931e-04 9.7226602e-01]]\n"
          ]
        }
      ]
    },
    {
      "cell_type": "code",
      "source": [
        "input_pred_label = np.argmax(input_prediction)"
      ],
      "metadata": {
        "id": "kWFTf0CSNBsL"
      },
      "execution_count": 42,
      "outputs": []
    },
    {
      "cell_type": "code",
      "source": [
        "print(input_pred_label)"
      ],
      "metadata": {
        "colab": {
          "base_uri": "https://localhost:8080/"
        },
        "id": "o_GVXoWoNEpo",
        "outputId": "6f86167b-09ee-4c1a-c976-f4be481da9f2"
      },
      "execution_count": 43,
      "outputs": [
        {
          "output_type": "stream",
          "name": "stdout",
          "text": [
            "3\n"
          ]
        }
      ]
    },
    {
      "cell_type": "markdown",
      "source": [
        "**Predictive System**"
      ],
      "metadata": {
        "id": "bkKMDb2bNHKM"
      }
    },
    {
      "cell_type": "code",
      "source": [
        "input_image_path = input('Path of the image to be predicted: ')\n",
        "\n",
        "input_image = cv2.imread(input_image_path)\n",
        "\n",
        "cv2_imshow(input_image)\n",
        "\n",
        "grayscale = cv2.cvtColor(input_image, cv2.COLOR_RGB2GRAY)\n",
        "\n",
        "input_image_resize = cv2.resize(grayscale, (28, 28))\n",
        "\n",
        "input_image_resize = input_image_resize/255\n",
        "\n",
        "image_reshaped = np.reshape(input_image_resize, [1,28,28])\n",
        "\n",
        "input_prediction = model.predict(image_reshaped)\n",
        "\n",
        "input_pred_label = np.argmax(input_prediction)\n",
        "\n",
        "print('The Handwritten Digit is recognised as ', input_pred_label)\n",
        ""
      ],
      "metadata": {
        "colab": {
          "base_uri": "https://localhost:8080/",
          "height": 387
        },
        "id": "4eMNHVtKOuLP",
        "outputId": "1e036b62-a0d8-4218-b865-fd7a65737c34"
      },
      "execution_count": 45,
      "outputs": [
        {
          "name": "stdout",
          "output_type": "stream",
          "text": [
            "Path of the image to be predicted: /content/MNIST_digit.png\n"
          ]
        },
        {
          "output_type": "display_data",
          "data": {
            "text/plain": [
              "<PIL.Image.Image image mode=RGB size=318x318>"
            ],
            "image/png": "[encoded data removed]",
            "image/jpeg": "[encoded data removed]"
          },
          "metadata": {}
        },
        {
          "output_type": "stream",
          "name": "stdout",
          "text": [
            "\u001b[1m1/1\u001b[0m \u001b[32m━━━━━━━━━━━━━━━━━━━━\u001b[0m\u001b[37m\u001b[0m \u001b[1m0s\u001b[0m 53ms/step\n",
            "The Handwritten Digit is recognised as  3\n"
          ]
        }
      ]
    },
    {
      "cell_type": "code",
      "source": [],
      "metadata": {
        "id": "qxAfvpmXPRvL"
      },
      "execution_count": null,
      "outputs": []
    }
  ]
}